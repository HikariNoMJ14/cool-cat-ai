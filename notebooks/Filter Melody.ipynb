{
 "cells": [
  {
   "cell_type": "code",
   "execution_count": null,
   "id": "b8fe7be1",
   "metadata": {},
   "outputs": [],
   "source": [
    "def filter_melody(file, parts):\n",
    "    # part_names = [p.partName.lower() for p in parts if p is not None]\n",
    "#     parts = [p for p in parts if p is not None or\n",
    "#              'bass' not in p.partName.lower() and\n",
    "#              'basso' not in p.partName.lower() and\n",
    "#              'baixo' not in p.partName.lower() and\n",
    "#              'drum' not in p.partName.lower() and\n",
    "#              'chord' not in p.partName.lower() and\n",
    "#              'rhythm' not in p.partName.lower() and\n",
    "#              'cymbal' not in p.partName.lower() and\n",
    "#              'clap' not in p.partName.lower() and\n",
    "#              'kick' not in p.partName.lower() and\n",
    "#              'snare' not in p.partName.lower() and\n",
    "#              'hh ' not in p.partName.lower() and\n",
    "#              'hats' not in p.partName.lower() and\n",
    "#              'ride' not in p.partName.lower() and\n",
    "#              'intro' not in p.partName.lower()]\n",
    "\n",
    "    melody = parts[0]\n",
    "    if len(parts[0].explode().parts) != 1:\n",
    "        good = False\n",
    "#         print('bad', file, parts[0].partName)\n",
    "        \n",
    "#         for note in melody.flat.notes:\n",
    "#             if type(note) == music21.chord.Chord:\n",
    "#                 note = note.notes[-1]\n",
    "#                 print(note)\n",
    "    else:\n",
    "        goodo = True\n",
    "#         print('good', file, parts[0].partName)\n",
    "\n",
    "    return melody, good"
   ]
  },
  {
   "cell_type": "code",
   "execution_count": null,
   "id": "17cc8496",
   "metadata": {},
   "outputs": [],
   "source": [
    "def filter_by_good_melody(file):\n",
    "    filename = f'../data/output/{folder}/{file}'\n",
    "\n",
    "    try:\n",
    "        score = music21.converter.parse(filename)\n",
    "    except:\n",
    "        return\n",
    "\n",
    "    if len(parts[0].explode().parts) != 1:\n",
    "        good_melodies.append(file + '\\n')\n",
    " "
   ]
  },
  {
   "cell_type": "code",
   "execution_count": null,
   "id": "075ba924",
   "metadata": {},
   "outputs": [],
   "source": [
    "# c_note = music21.note.Note('C')\n",
    "\n",
    "# with open('../data/lmd_full/md5_to_paths.json') as f:\n",
    "#     names = json.load(f)\n",
    "\n",
    "# melodies = pd.DataFrame(columns=['filename', 'song_name', 'melody_part', 'number'])\n",
    "# row = 1\n",
    "# error = 0\n",
    "# one_mel = 0\n",
    "# mul_mel = 0\n",
    "# good = 0\n",
    "# good_melodies = []\n",
    "\n",
    "# folders = list(range(0, 10)) + ['a', 'b', 'c', 'd', 'e', 'f']\n",
    "\n",
    "# for folder in folders:    \n",
    "#     p = mp.Pool(8)\n",
    "#     result = p.map(func=filter_by_good_melody, iterable=os.listdir(f'../data/output/{str(folder)}'))\n",
    "#     p.close()\n",
    "#     p.join()"
   ]
  },
  {
   "cell_type": "code",
   "execution_count": null,
   "id": "3db590a7",
   "metadata": {},
   "outputs": [],
   "source": [
    "# with open('../data/output/good_melodies.txt', 'w') as f:    \n",
    "#     for good_melody in good_melodies:\n",
    "#         f.write(good_melody)"
   ]
  }
 ],
 "metadata": {
  "kernelspec": {
   "display_name": "Python 3 (ipykernel)",
   "language": "python",
   "name": "python3"
  },
  "language_info": {
   "codemirror_mode": {
    "name": "ipython",
    "version": 3
   },
   "file_extension": ".py",
   "mimetype": "text/x-python",
   "name": "python",
   "nbconvert_exporter": "python",
   "pygments_lexer": "ipython3",
   "version": "3.8.10"
  }
 },
 "nbformat": 4,
 "nbformat_minor": 5
}
