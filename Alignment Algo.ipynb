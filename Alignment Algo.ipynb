{
 "cells": [
  {
   "cell_type": "code",
   "execution_count": 20,
   "id": "79d27842",
   "metadata": {},
   "outputs": [],
   "source": [
    "import numpy as np\n",
    "import music21\n",
    "from mingus.core import chords"
   ]
  },
  {
   "cell_type": "code",
   "execution_count": 46,
   "id": "e2f7cd95",
   "metadata": {},
   "outputs": [],
   "source": [
    "filename = \"/media/manu/DATA/Mac/Documents/University/Thesis/Complete Examples/Real Book/All Of Me.mid\""
   ]
  },
  {
   "cell_type": "code",
   "execution_count": 84,
   "id": "882cc899",
   "metadata": {},
   "outputs": [],
   "source": [
    "def get_chords_music21():\n",
    "    mf = music21.midi.MidiFile()\n",
    "    mf.open(filename)\n",
    "    mf.read()\n",
    "\n",
    "    tracks = [t for t in mf.tracks if not any([e.channel == 10 for e in t.events])]        \n",
    "    score = music21.stream.Score()\n",
    "    music21.midi.translate.midiTracksToStreams(tracks,                                            \n",
    "        inputM21=score,\n",
    "        ticksPerQuarter=mf.ticksPerQuarterNote,\n",
    "    )   \n",
    "    \n",
    "    return score.chordify().flat.notes"
   ]
  },
  {
   "cell_type": "code",
   "execution_count": 86,
   "id": "bf6f1732",
   "metadata": {},
   "outputs": [],
   "source": [
    "a = ['Am', 'C', 'F', 'G']\n",
    "b = ['C', 'Am7', 'FM7', 'Em7']"
   ]
  },
  {
   "cell_type": "code",
   "execution_count": 88,
   "id": "afef3ba0",
   "metadata": {},
   "outputs": [
    {
     "name": "stdout",
     "output_type": "stream",
     "text": [
      "{'A', 'C', 'E'} {'G', 'C', 'E'}\n",
      "{'C', 'E'}\n",
      "0.6666666666666666\n",
      "-------\n",
      "{'G', 'C', 'E'} {'A', 'C', 'E', 'G'}\n",
      "{'G', 'C', 'E'}\n",
      "1.0\n",
      "-------\n",
      "{'A', 'C', 'F'} {'A', 'C', 'E', 'F'}\n",
      "{'A', 'C', 'F'}\n",
      "1.0\n",
      "-------\n",
      "{'G', 'B', 'D'} {'G', 'B', 'E', 'D'}\n",
      "{'G', 'B', 'D'}\n",
      "1.0\n",
      "-------\n"
     ]
    }
   ],
   "source": [
    "for i in range(len(a)):\n",
    "    notes_a = set(chords.from_shorthand(a[i]))\n",
    "    notes_b = set(chords.from_shorthand(b[i]))\n",
    "    shared = notes_a.intersection(notes_b)\n",
    "    \n",
    "    score = len(shared) / np.min([float(len(notes_a)), float(len(notes_b))])\n",
    "    \n",
    "    print(notes_a, notes_b)\n",
    "    print(notes_a.intersection(notes_b))\n",
    "    print(score)\n",
    "    print('-------')"
   ]
  },
  {
   "cell_type": "code",
   "execution_count": null,
   "id": "19cb4569",
   "metadata": {},
   "outputs": [],
   "source": []
  },
  {
   "cell_type": "code",
   "execution_count": null,
   "id": "81ced0f7",
   "metadata": {},
   "outputs": [],
   "source": []
  }
 ],
 "metadata": {
  "kernelspec": {
   "display_name": "Python 3 (ipykernel)",
   "language": "python",
   "name": "python3"
  },
  "language_info": {
   "codemirror_mode": {
    "name": "ipython",
    "version": 3
   },
   "file_extension": ".py",
   "mimetype": "text/x-python",
   "name": "python",
   "nbconvert_exporter": "python",
   "pygments_lexer": "ipython3",
   "version": "3.8.10"
  }
 },
 "nbformat": 4,
 "nbformat_minor": 5
}
