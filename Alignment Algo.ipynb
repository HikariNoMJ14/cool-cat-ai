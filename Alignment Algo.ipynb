{
 "cells": [
  {
   "cell_type": "code",
   "execution_count": 19,
   "id": "79d27842",
   "metadata": {},
   "outputs": [],
   "source": [
    "import numpy as np\n",
    "import music21\n",
    "import pandas as pd\n",
    "import seaborn as sns\n",
    "from mingus.core import chords\n",
    "from chord_extractor.extractors import Chordino"
   ]
  },
  {
   "cell_type": "code",
   "execution_count": 18,
   "id": "123c914d",
   "metadata": {},
   "outputs": [],
   "source": [
    "chordino = Chordino(roll_on=1)"
   ]
  },
  {
   "cell_type": "code",
   "execution_count": 3,
   "id": "e2f7cd95",
   "metadata": {},
   "outputs": [],
   "source": [
    "filename = \"./data/Thesis/Complete Examples/Real Book/All Of Me.mid\""
   ]
  },
  {
   "cell_type": "code",
   "execution_count": 125,
   "id": "f324ddc3",
   "metadata": {},
   "outputs": [],
   "source": []
  },
  {
   "cell_type": "code",
   "execution_count": 4,
   "id": "882cc899",
   "metadata": {},
   "outputs": [],
   "source": [
    "def get_chords_music21():\n",
    "    mf = music21.midi.MidiFile()\n",
    "    mf.open(filename)\n",
    "    mf.read()\n",
    "\n",
    "    tracks = [t for t in mf.tracks if not any([e.channel == 10 for e in t.events])]        \n",
    "    score = music21.stream.Score()\n",
    "    music21.midi.translate.midiTracksToStreams(tracks,                                            \n",
    "        inputM21=score,\n",
    "        ticksPerQuarter=mf.ticksPerQuarterNote,\n",
    "    )   \n",
    "    \n",
    "    return score.chordify().flat.notes"
   ]
  },
  {
   "cell_type": "code",
   "execution_count": 5,
   "id": "cce2a134",
   "metadata": {},
   "outputs": [],
   "source": [
    "def get_chords_chordify(filename):\n",
    "    orig_conversion_file_path = chordino.preprocess(filename)\n",
    "    orig_chords = chordino.extract(orig_conversion_file_path)\n",
    "    orig_chord_names = [c.chord for c in orig_chords]\n",
    "    \n",
    "    chord_extractor.clear_conversion_cache()\n",
    "    \n",
    "    print(orig_conversion_file_path)\n",
    "    print(\"-\".join(orig_chord_names))\n",
    "    print('---------------')"
   ]
  },
  {
   "cell_type": "code",
   "execution_count": 6,
   "id": "bf6f1732",
   "metadata": {},
   "outputs": [],
   "source": [
    "a = [ 'Am', 'C',   'F',   'G',   'D', 'G/E' ]\n",
    "b = [ 'C',  'Am7', 'FM7', 'Em7', 'D', 'G'   ]"
   ]
  },
  {
   "cell_type": "code",
   "execution_count": 55,
   "id": "afef3ba0",
   "metadata": {},
   "outputs": [],
   "source": [
    "def chord_score(c1, c2):    \n",
    "        notes_a = chords.from_shorthand(c1)\n",
    "        notes_b = chords.from_shorthand(c2)\n",
    "        root_a = notes_a[0]\n",
    "        root_b = notes_b[0]\n",
    "        notes_set_a = set(notes_a)\n",
    "        notes_set_b = set(notes_b)\n",
    "        shared_a = notes_set_a.intersection(notes_set_b)\n",
    "        shared_b = notes_set_b.intersection(notes_set_a)\n",
    "\n",
    "        try:\n",
    "            root_score = (len(notes_b) - notes_b.index(root_a)) / len(notes_b)\n",
    "        except ValueError:\n",
    "            root_score = 0\n",
    "\n",
    "        notes_score_a = len(shared_a) / float(len(notes_a))\n",
    "        notes_score_b = len(shared_b) / float(len(notes_b))\n",
    "        notes_score = (1/2) * notes_score_a + (1/2) * notes_score_b\n",
    "        score = ((1/5) * root_score) + ((4/5) * notes_score)\n",
    "\n",
    "#         print(c1, c2)\n",
    "#         print(notes_a, notes_b)\n",
    "#         print(root_a, root_b)\n",
    "#         print(notes_set_a, notes_set_b)\n",
    "#         print(shared_a, shared_b)\n",
    "#         print(root_score, notes_score)\n",
    "#         print(score)\n",
    "#         print('-------')\n",
    "\n",
    "        return score"
   ]
  },
  {
   "cell_type": "code",
   "execution_count": 8,
   "id": "19cb4569",
   "metadata": {},
   "outputs": [],
   "source": [
    "for i in range(len(a)):\n",
    "    chord_score(a[i], b[i])"
   ]
  },
  {
   "cell_type": "code",
   "execution_count": 165,
   "id": "22dd910e",
   "metadata": {},
   "outputs": [],
   "source": [
    "orig = pd.read_csv('./data/chords/Real Book/All Of Me_synth.csv')\n",
    "impro = pd.read_csv('./data/chords/Jazz-Midi/All Of Me_synth.csv')"
   ]
  },
  {
   "cell_type": "code",
   "execution_count": 166,
   "id": "482d980f",
   "metadata": {},
   "outputs": [],
   "source": [
    "orig['chord'] = orig['chord'].str.replace(\":maj\", \"\")\n",
    "orig['chord'] = orig['chord'].str.replace(\":min\", \"m\")\n",
    "impro['chord'] = impro['chord'].str.replace(\":maj\", \"\")\n",
    "impro['chord'] = impro['chord'].str.replace(\":min\", \"m\")"
   ]
  },
  {
   "cell_type": "code",
   "execution_count": 167,
   "id": "65ef5632",
   "metadata": {},
   "outputs": [],
   "source": [
    "mapping = [\n",
    "    'C','Db','D','Eb','E','F','F#','G','Ab','A','Bb','B',\n",
    "    'C','C#','D','D#','E','F','Gb','G','G#','A','A#','B',\n",
    "    'Am','Bbm','Bm','Cm','Dbm','Dm','Ebm','Em','Fm','F#m','Gm','Abm',\n",
    "    'Am','C#m','Bm','Cm','C#m','Dm','D#m','Em','Fm','Gbm','Gm','G#m'\n",
    "]"
   ]
  },
  {
   "cell_type": "code",
   "execution_count": 168,
   "id": "b98a5189",
   "metadata": {},
   "outputs": [],
   "source": [
    "orig['chord_n'] = [mapping.index(c)%12 for c in orig['chord']]\n",
    "impro['chord_n'] = [mapping.index(c)%12 for c in impro['chord']]"
   ]
  },
  {
   "cell_type": "code",
   "execution_count": 169,
   "id": "db0fde59",
   "metadata": {},
   "outputs": [],
   "source": [
    "orig_start = orig['start'].iloc[0].copy()\n",
    "impro_start = impro['start'].iloc[0].copy()\n",
    "\n",
    "orig['start'] = orig['start'] - orig_start\n",
    "orig['end'] = orig['end'] - orig_start\n",
    "impro['start'] = impro['end'] - impro_start\n",
    "impro['end'] = impro['end'] - impro_start"
   ]
  },
  {
   "cell_type": "code",
   "execution_count": 347,
   "id": "81118a7f",
   "metadata": {},
   "outputs": [],
   "source": [
    "orig_c = list(orig['chord'])\n",
    "impro_c = list(impro['chord'])\n",
    "\n",
    "tot_scores = []\n",
    "\n",
    "for i in range(min(len(orig_c), len(impro_c))):\n",
    "    scores = []\n",
    "    for j in range(min(len(orig_c), len(impro_c))):\n",
    "        scores.append(chord_score(orig_c[j], impro_c[j]))\n",
    "    \n",
    "    orig_c.pop(0)\n",
    "        \n",
    "    tot_scores.append(np.mean(scores))"
   ]
  },
  {
   "cell_type": "code",
   "execution_count": 348,
   "id": "e5be1ee2",
   "metadata": {},
   "outputs": [
    {
     "data": {
      "text/plain": [
       "[<matplotlib.lines.Line2D at 0x7f9bf3128c10>]"
      ]
     },
     "execution_count": 348,
     "metadata": {},
     "output_type": "execute_result"
    },
    {
     "data": {
      "image/png": "[encoded data removed]",
      "text/plain": [
       "<Figure size 432x288 with 1 Axes>"
      ]
     },
     "metadata": {
      "image/png": {
       "height": 248,
       "width": 378
      },
      "needs_background": "light"
     },
     "output_type": "display_data"
    }
   ],
   "source": [
    "from matplotlib import pyplot as plt\n",
    "plt.plot(tot_scores)"
   ]
  },
  {
   "cell_type": "code",
   "execution_count": 349,
   "id": "fb66404e",
   "metadata": {},
   "outputs": [
    {
     "name": "stdout",
     "output_type": "stream",
     "text": [
      "[3, 54, 109]\n",
      "[0.38974358974358975, 0.39639639639639634, 0.44523809523809527]\n"
     ]
    }
   ],
   "source": [
    "j = 3\n",
    "print(sorted(range(len(tot_scores)), key=lambda i: tot_scores[i])[-j:])\n",
    "print(sorted(tot_scores)[-j:])"
   ]
  },
  {
   "cell_type": "code",
   "execution_count": 350,
   "id": "5238d3c9",
   "metadata": {},
   "outputs": [
    {
     "data": {
      "text/plain": [
       "['C',\n",
       " 'Em',\n",
       " 'Am',\n",
       " 'Am',\n",
       " 'Bm',\n",
       " 'E',\n",
       " 'E',\n",
       " 'D',\n",
       " 'E',\n",
       " 'D',\n",
       " 'Em',\n",
       " 'Am',\n",
       " 'Am',\n",
       " 'Dm',\n",
       " 'Dm',\n",
       " 'F',\n",
       " 'Bm',\n",
       " 'G',\n",
       " 'Bm',\n",
       " 'E',\n",
       " 'Am',\n",
       " 'E',\n",
       " 'Am',\n",
       " 'F',\n",
       " 'C',\n",
       " 'Am',\n",
       " 'Am',\n",
       " 'Am',\n",
       " 'D',\n",
       " 'F',\n",
       " 'F',\n",
       " 'C',\n",
       " 'C',\n",
       " 'Bm',\n",
       " 'E',\n",
       " 'D',\n",
       " 'E',\n",
       " 'Em',\n",
       " 'A',\n",
       " 'A',\n",
       " 'F',\n",
       " 'Dm',\n",
       " 'A',\n",
       " 'F',\n",
       " 'Dm',\n",
       " 'F',\n",
       " 'D',\n",
       " 'C',\n",
       " 'Em',\n",
       " 'A',\n",
       " 'D',\n",
       " 'Dm',\n",
       " 'G',\n",
       " 'C',\n",
       " 'Am',\n",
       " 'Dm',\n",
       " 'G',\n",
       " 'C',\n",
       " 'G',\n",
       " 'C',\n",
       " 'Bm',\n",
       " 'D',\n",
       " 'D',\n",
       " 'Fm',\n",
       " 'Fm',\n",
       " 'Am',\n",
       " 'Fm',\n",
       " 'Fm',\n",
       " 'Fm',\n",
       " 'Am',\n",
       " 'Fm',\n",
       " 'Am',\n",
       " 'Am',\n",
       " 'Fm',\n",
       " 'Bm',\n",
       " 'D',\n",
       " 'Am',\n",
       " 'C',\n",
       " 'Fm',\n",
       " 'Fm',\n",
       " 'Em',\n",
       " 'C',\n",
       " 'Em',\n",
       " 'C',\n",
       " 'C#',\n",
       " 'D',\n",
       " 'E',\n",
       " 'Fm',\n",
       " 'Fm',\n",
       " 'F',\n",
       " 'C',\n",
       " 'F',\n",
       " 'Dm',\n",
       " 'F#m',\n",
       " 'B',\n",
       " 'C',\n",
       " 'F',\n",
       " 'Em',\n",
       " 'A',\n",
       " 'C#',\n",
       " 'Fm',\n",
       " 'Fm',\n",
       " 'Am',\n",
       " 'Fm',\n",
       " 'Am',\n",
       " 'Am',\n",
       " 'C',\n",
       " 'C',\n",
       " 'Am',\n",
       " 'C',\n",
       " 'B',\n",
       " 'E',\n",
       " 'D',\n",
       " 'D',\n",
       " 'D',\n",
       " 'Em',\n",
       " 'A',\n",
       " 'Dm',\n",
       " 'Dm',\n",
       " 'F',\n",
       " 'E',\n",
       " 'D',\n",
       " 'D',\n",
       " 'E',\n",
       " 'Am',\n",
       " 'C',\n",
       " 'Am',\n",
       " 'C',\n",
       " 'D',\n",
       " 'F',\n",
       " 'G',\n",
       " 'G',\n",
       " 'C',\n",
       " 'G',\n",
       " 'C',\n",
       " 'Bm',\n",
       " 'D',\n",
       " 'Bm',\n",
       " 'E',\n",
       " 'F#m',\n",
       " 'E',\n",
       " 'Em',\n",
       " 'G',\n",
       " 'Em',\n",
       " 'A',\n",
       " 'Dm',\n",
       " 'Dm',\n",
       " 'F',\n",
       " 'Dm',\n",
       " 'G',\n",
       " 'D',\n",
       " 'C',\n",
       " 'F',\n",
       " 'Em',\n",
       " 'A',\n",
       " 'D',\n",
       " 'Dm',\n",
       " 'G',\n",
       " 'C',\n",
       " 'Dm',\n",
       " 'G',\n",
       " 'G',\n",
       " 'Am',\n",
       " 'G',\n",
       " 'C']"
      ]
     },
     "execution_count": 350,
     "metadata": {},
     "output_type": "execute_result"
    }
   ],
   "source": [
    "list(orig['chord'])"
   ]
  },
  {
   "cell_type": "code",
   "execution_count": 351,
   "id": "3e7cebb3",
   "metadata": {},
   "outputs": [
    {
     "data": {
      "text/plain": [
       "['C',\n",
       " 'B',\n",
       " 'F',\n",
       " 'G#',\n",
       " 'F#m',\n",
       " 'F',\n",
       " 'Em',\n",
       " 'D',\n",
       " 'C',\n",
       " 'E',\n",
       " 'E',\n",
       " 'A',\n",
       " 'A',\n",
       " 'A',\n",
       " 'Dm',\n",
       " 'E',\n",
       " 'Am',\n",
       " 'D',\n",
       " 'G',\n",
       " 'Dm',\n",
       " 'F',\n",
       " 'C',\n",
       " 'E',\n",
       " 'C',\n",
       " 'C',\n",
       " 'C',\n",
       " 'E',\n",
       " 'C',\n",
       " 'E',\n",
       " 'E',\n",
       " 'E',\n",
       " 'A',\n",
       " 'E',\n",
       " 'E',\n",
       " 'A',\n",
       " 'A',\n",
       " 'Dm',\n",
       " 'F',\n",
       " 'Dm',\n",
       " 'F',\n",
       " 'Em',\n",
       " 'F',\n",
       " 'F',\n",
       " 'Dm',\n",
       " 'F',\n",
       " 'C#',\n",
       " 'C',\n",
       " 'C',\n",
       " 'C',\n",
       " 'C',\n",
       " 'C',\n",
       " 'C',\n",
       " 'Dm',\n",
       " 'C',\n",
       " 'G',\n",
       " 'C',\n",
       " 'Am',\n",
       " 'E',\n",
       " 'Cm',\n",
       " 'B',\n",
       " 'E',\n",
       " 'E',\n",
       " 'A',\n",
       " 'Dm',\n",
       " 'A',\n",
       " 'Dm',\n",
       " 'E',\n",
       " 'F',\n",
       " 'E',\n",
       " 'A#',\n",
       " 'Am',\n",
       " 'Am',\n",
       " 'D',\n",
       " 'Am',\n",
       " 'D',\n",
       " 'F',\n",
       " 'Am',\n",
       " 'C',\n",
       " 'Am',\n",
       " 'E',\n",
       " 'E',\n",
       " 'A#',\n",
       " 'Dm',\n",
       " 'Am',\n",
       " 'Am',\n",
       " 'C',\n",
       " 'B',\n",
       " 'C',\n",
       " 'G',\n",
       " 'Dm',\n",
       " 'F',\n",
       " 'Dm',\n",
       " 'Dm',\n",
       " 'Dm',\n",
       " 'C',\n",
       " 'Am',\n",
       " 'Am',\n",
       " 'C',\n",
       " 'E',\n",
       " 'F',\n",
       " 'E',\n",
       " 'A',\n",
       " 'Am',\n",
       " 'Dm',\n",
       " 'Am',\n",
       " 'A',\n",
       " 'Dm',\n",
       " 'A#',\n",
       " 'C',\n",
       " 'Dm',\n",
       " 'Em',\n",
       " 'A',\n",
       " 'F',\n",
       " 'Dm',\n",
       " 'C',\n",
       " 'Dm',\n",
       " 'C',\n",
       " 'Dm',\n",
       " 'Dm',\n",
       " 'F',\n",
       " 'Fm',\n",
       " 'F',\n",
       " 'D#m',\n",
       " 'F',\n",
       " 'D',\n",
       " 'D',\n",
       " 'C',\n",
       " 'G',\n",
       " 'C',\n",
       " 'C']"
      ]
     },
     "execution_count": 351,
     "metadata": {},
     "output_type": "execute_result"
    }
   ],
   "source": [
    "list(impro['chord'])"
   ]
  },
  {
   "cell_type": "code",
   "execution_count": 222,
   "id": "e458b12a",
   "metadata": {},
   "outputs": [],
   "source": [
    "f_orig = \"./data/Thesis/Complete Examples/Real Book/All Of Me.mid\"\n",
    "f_impro = \"./data/Thesis/Complete Examples/Jazz-Midi/All Of Me.mid\"\n",
    "\n",
    "s_orig  = music21.converter.parse(f_orig)\n",
    "s_impro = music21.converter.parse(f_impro)"
   ]
  },
  {
   "cell_type": "code",
   "execution_count": null,
   "id": "8e5c7eb6",
   "metadata": {},
   "outputs": [],
   "source": [
    "def transpose_to_c(s):\n",
    "    key = s.analyze('key')\n",
    "    \n",
    "    if key.mode == 'major':\n",
    "        base = 'C'\n",
    "    else:\n",
    "        base = 'A'\n",
    "        \n",
    "    inter = music21.interval.Interval(music21.pitch.Pitch(base), key.tonic)\n",
    "    \n",
    "    return s.transpose(inter, inPlace=True)"
   ]
  },
  {
   "cell_type": "code",
   "execution_count": 172,
   "id": "7529c53c",
   "metadata": {},
   "outputs": [
    {
     "name": "stderr",
     "output_type": "stream",
     "text": [
      "/Users/manu/PycharmProjects/thesis/venv/lib/python3.8/site-packages/music21/midi/translate.py:785: TranslateWarning: Unable to determine instrument from <music21.midi.MidiEvent SEQUENCE_TRACK_NAME, track=2, channel=None, data=b'Bater\\xeda'>; getting generic Instrument\n",
      "  warnings.warn(\n",
      "/Users/manu/PycharmProjects/thesis/venv/lib/python3.8/site-packages/music21/midi/translate.py:790: TranslateWarning: Unable to determine instrument from <music21.midi.MidiEvent PROGRAM_CHANGE, track=2, channel=10, data=0>; getting generic UnpitchedPercussion\n",
      "  warnings.warn(\n",
      "/Users/manu/PycharmProjects/thesis/venv/lib/python3.8/site-packages/music21/midi/translate.py:785: TranslateWarning: Unable to determine instrument from <music21.midi.MidiEvent SEQUENCE_TRACK_NAME, track=6, channel=None, data=b'Melod\\xeda'>; getting generic Instrument\n",
      "  warnings.warn(\n",
      "/Users/manu/PycharmProjects/thesis/venv/lib/python3.8/site-packages/music21/midi/translate.py:790: TranslateWarning: Unable to determine instrument from <music21.midi.MidiEvent PROGRAM_CHANGE, track=24, channel=10, data=32>; getting generic UnpitchedPercussion\n",
      "  warnings.warn(\n"
     ]
    }
   ],
   "source": [
    "def tempo_to_120(s):\n",
    "    t = tempo.MetronomeMark(number=120)\n",
    "    \n",
    "    for s_orig.metronomeMarkBoundaries()\n",
    "    "
   ]
  },
  {
   "cell_type": "code",
   "execution_count": 179,
   "id": "0caf2321",
   "metadata": {},
   "outputs": [],
   "source": [
    "\n",
    "key_impro = s_impro.analyze('key')"
   ]
  },
  {
   "cell_type": "code",
   "execution_count": 190,
   "id": "94426726",
   "metadata": {},
   "outputs": [
    {
     "data": {
      "text/plain": [
       "140.0"
      ]
     },
     "execution_count": 190,
     "metadata": {},
     "output_type": "execute_result"
    }
   ],
   "source": [
    "s_orig.metronomeMarkBoundaries()[-1][-1].number"
   ]
  },
  {
   "cell_type": "code",
   "execution_count": 191,
   "id": "5676abef",
   "metadata": {},
   "outputs": [
    {
     "data": {
      "text/plain": [
       "130.0"
      ]
     },
     "execution_count": 191,
     "metadata": {},
     "output_type": "execute_result"
    }
   ],
   "source": [
    "s_impro.metronomeMarkBoundaries()[-1][-1].number"
   ]
  },
  {
   "cell_type": "code",
   "execution_count": 238,
   "id": "09efd454",
   "metadata": {},
   "outputs": [
    {
     "ename": "AttributeError",
     "evalue": "'list' object has no attribute 'flatten'",
     "output_type": "error",
     "traceback": [
      "\u001b[0;31m---------------------------------------------------------------------------\u001b[0m",
      "\u001b[0;31mAttributeError\u001b[0m                            Traceback (most recent call last)",
      "\u001b[0;32m/var/folders/xd/_wznlfxs0bgbt2w8h5k2xdbm0000gn/T/ipykernel_34705/777143284.py\u001b[0m in \u001b[0;36m<module>\u001b[0;34m\u001b[0m\n\u001b[0;32m----> 1\u001b[0;31m \u001b[0ms_orig\u001b[0m\u001b[0;34m.\u001b[0m\u001b[0mmetronomeMarkBoundaries\u001b[0m\u001b[0;34m(\u001b[0m\u001b[0;34m[\u001b[0m\u001b[0;34m(\u001b[0m\u001b[0;36m0\u001b[0m\u001b[0;34m,\u001b[0m \u001b[0;36m0\u001b[0m\u001b[0;34m,\u001b[0m \u001b[0mmusic21\u001b[0m\u001b[0;34m.\u001b[0m\u001b[0mtempo\u001b[0m\u001b[0;34m.\u001b[0m\u001b[0mMetronomeMark\u001b[0m\u001b[0;34m(\u001b[0m\u001b[0mnumber\u001b[0m\u001b[0;34m=\u001b[0m\u001b[0;36m120.0\u001b[0m\u001b[0;34m)\u001b[0m\u001b[0;34m)\u001b[0m\u001b[0;34m]\u001b[0m\u001b[0;34m)\u001b[0m\u001b[0;34m\u001b[0m\u001b[0;34m\u001b[0m\u001b[0m\n\u001b[0m",
      "\u001b[0;32m~/PycharmProjects/thesis/venv/lib/python3.8/site-packages/music21/stream/base.py\u001b[0m in \u001b[0;36mmetronomeMarkBoundaries\u001b[0;34m(self, srcObj)\u001b[0m\n\u001b[1;32m   8469\u001b[0m         \u001b[0;31m# using flat here may not always be desirable\u001b[0m\u001b[0;34m\u001b[0m\u001b[0;34m\u001b[0m\u001b[0;34m\u001b[0m\u001b[0m\n\u001b[1;32m   8470\u001b[0m         \u001b[0;31m# may want to do a recursive upward search as well\u001b[0m\u001b[0;34m\u001b[0m\u001b[0;34m\u001b[0m\u001b[0;34m\u001b[0m\u001b[0m\n\u001b[0;32m-> 8471\u001b[0;31m         \u001b[0msrcFlat\u001b[0m \u001b[0;34m=\u001b[0m \u001b[0msrcObj\u001b[0m\u001b[0;34m.\u001b[0m\u001b[0mflatten\u001b[0m\u001b[0;34m(\u001b[0m\u001b[0;34m)\u001b[0m\u001b[0;34m\u001b[0m\u001b[0;34m\u001b[0m\u001b[0m\n\u001b[0m\u001b[1;32m   8472\u001b[0m         \u001b[0mtiStream\u001b[0m \u001b[0;34m=\u001b[0m \u001b[0msrcFlat\u001b[0m\u001b[0;34m.\u001b[0m\u001b[0mgetElementsByClass\u001b[0m\u001b[0;34m(\u001b[0m\u001b[0;34m'TempoIndication'\u001b[0m\u001b[0;34m)\u001b[0m\u001b[0;34m\u001b[0m\u001b[0;34m\u001b[0m\u001b[0m\n\u001b[1;32m   8473\u001b[0m         \u001b[0mmmBoundaries\u001b[0m \u001b[0;34m=\u001b[0m \u001b[0;34m[\u001b[0m\u001b[0;34m]\u001b[0m  \u001b[0;31m# a  list of (start, end, mm)\u001b[0m\u001b[0;34m\u001b[0m\u001b[0;34m\u001b[0m\u001b[0m\n",
      "\u001b[0;31mAttributeError\u001b[0m: 'list' object has no attribute 'flatten'"
     ]
    }
   ],
   "source": [
    "s_orig.metronomeMarkBoundaries((0, 0, music21.tempo.MetronomeMark(number=120.0)))"
   ]
  },
  {
   "cell_type": "code",
   "execution_count": 246,
   "id": "1edc9a39",
   "metadata": {},
   "outputs": [],
   "source": [
    "s_orig = s_orig.remove(s_orig.metronomeMarkBoundaries()[-1][-1])"
   ]
  },
  {
   "cell_type": "code",
   "execution_count": 216,
   "id": "6080aee5",
   "metadata": {},
   "outputs": [],
   "source": [
    "CIRCLE_OF_FIFTHS_MAJ = ['C', 'G', 'D', 'A', 'E', 'B', 'F#', 'Db', 'Ab', 'Eb', 'Bb', 'F']\n",
    "CIRCLE_OF_FIFTHS_MIN = ['Am', 'Em', 'Bm', 'F#m', 'Dbm', 'Abm', 'Ebm', 'Bbm', 'Fm', 'Cm', 'Gm', 'Dm']"
   ]
  },
  {
   "cell_type": "code",
   "execution_count": 247,
   "id": "bb47b90b",
   "metadata": {},
   "outputs": [
    {
     "ename": "AttributeError",
     "evalue": "'NoneType' object has no attribute 'metronomeMarkBoundaries'",
     "output_type": "error",
     "traceback": [
      "\u001b[0;31m---------------------------------------------------------------------------\u001b[0m",
      "\u001b[0;31mAttributeError\u001b[0m                            Traceback (most recent call last)",
      "\u001b[0;32m/var/folders/xd/_wznlfxs0bgbt2w8h5k2xdbm0000gn/T/ipykernel_34705/2905020444.py\u001b[0m in \u001b[0;36m<module>\u001b[0;34m\u001b[0m\n\u001b[0;32m----> 1\u001b[0;31m \u001b[0ms_orig\u001b[0m\u001b[0;34m.\u001b[0m\u001b[0mmetronomeMarkBoundaries\u001b[0m\u001b[0;34m(\u001b[0m\u001b[0;34m)\u001b[0m\u001b[0;34m\u001b[0m\u001b[0;34m\u001b[0m\u001b[0m\n\u001b[0m",
      "\u001b[0;31mAttributeError\u001b[0m: 'NoneType' object has no attribute 'metronomeMarkBoundaries'"
     ]
    }
   ],
   "source": [
    "s_orig.metronomeMarkBoundaries()"
   ]
  },
  {
   "cell_type": "code",
   "execution_count": 287,
   "id": "34ac8e3d",
   "metadata": {},
   "outputs": [
    {
     "ename": "SyntaxError",
     "evalue": "unexpected EOF while parsing (581157088.py, line 35)",
     "output_type": "error",
     "traceback": [
      "\u001b[0;36m  File \u001b[0;32m\"/var/folders/xd/_wznlfxs0bgbt2w8h5k2xdbm0000gn/T/ipykernel_34705/581157088.py\"\u001b[0;36m, line \u001b[0;32m35\u001b[0m\n\u001b[0;31m    \u001b[0m\n\u001b[0m    ^\u001b[0m\n\u001b[0;31mSyntaxError\u001b[0m\u001b[0;31m:\u001b[0m unexpected EOF while parsing\n"
     ]
    }
   ],
   "source": [
    "import os \n",
    "import copy\n",
    "import pretty_midi as pm\n",
    "\n",
    "def prepare_midi_for_chord_analysis(f):\n",
    "    \n",
    "    pm_m = pm.PrettyMIDI(file)\n",
    "    \n",
    "    pm_m.set\n",
    "    \n",
    "#     old_s  = music21.converter.parse(f)\n",
    "#     new_s  = music21.stream.Stream()\n",
    "    \n",
    "#     new_s.insert(0, music21.metadata.Metadata())\n",
    "    \n",
    "#     for p in old_s.parts:\n",
    "#         new_p = music21.stream.Stream()\n",
    "#         for note in p.flat.notesAndRests:\n",
    "#             new_p.insert(note)\n",
    "#         new_s.insert(0, new_p)\n",
    "    \n",
    "#     m = music21.tempo.MetronomeMark(number=120.0)\n",
    "#     new_s.append(m)\n",
    "    \n",
    "#     new_s.write('midi', './data/chords/ready/All of Me.mid')\n",
    "    \n",
    "#     old_key = s.analyze('key')\n",
    "    \n",
    "#     if key.mode == 'major':\n",
    "#         base = 'C'\n",
    "#     else:\n",
    "#         base = 'A'\n",
    "        \n",
    "#     inter = music21.interval.Interval(music21.pitch.Pitch(base), key.tonic)\n",
    "    \n",
    "#     new_key = old_key.transpose\n",
    "    "
   ]
  },
  {
   "cell_type": "code",
   "execution_count": 286,
   "id": "9792c145",
   "metadata": {},
   "outputs": [],
   "source": [
    "prepare_midi_for_chord_analysis(f_orig)"
   ]
  },
  {
   "cell_type": "code",
   "execution_count": null,
   "id": "3881e579",
   "metadata": {},
   "outputs": [],
   "source": [
    "p.partName"
   ]
  },
  {
   "cell_type": "code",
   "execution_count": 298,
   "id": "42528118",
   "metadata": {},
   "outputs": [],
   "source": [
    "a= [0,1,2,3,4]"
   ]
  },
  {
   "cell_type": "code",
   "execution_count": 304,
   "id": "60509108",
   "metadata": {},
   "outputs": [
    {
     "data": {
      "text/plain": [
       "[1, 2, 3]"
      ]
     },
     "execution_count": 304,
     "metadata": {},
     "output_type": "execute_result"
    }
   ],
   "source": [
    "a"
   ]
  },
  {
   "cell_type": "code",
   "execution_count": null,
   "id": "0d4e652c",
   "metadata": {},
   "outputs": [],
   "source": []
  }
 ],
 "metadata": {
  "kernelspec": {
   "display_name": "Python 3 (ipykernel)",
   "language": "python",
   "name": "python3"
  },
  "language_info": {
   "codemirror_mode": {
    "name": "ipython",
    "version": 3
   },
   "file_extension": ".py",
   "mimetype": "text/x-python",
   "name": "python",
   "nbconvert_exporter": "python",
   "pygments_lexer": "ipython3",
   "version": "3.8.6"
  }
 },
 "nbformat": 4,
 "nbformat_minor": 5
}
