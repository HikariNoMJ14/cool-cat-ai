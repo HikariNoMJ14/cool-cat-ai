{
 "cells": [
  {
   "cell_type": "code",
   "execution_count": 24,
   "id": "65ef5632",
   "metadata": {},
   "outputs": [],
   "source": [
    "mapping = [\n",
    "    'C','Db','D','Eb','E','F','F#','G','Ab','A','Bb','B',\n",
    "    'C','C#','D','D#','E','F','Gb','G','G#','A','A#','B',\n",
    "    'Am','Bbm','Bm','Cm','Dbm','Dm','Ebm','Em','Fm','F#m','Gm','Abm',\n",
    "    'Am','C#m','Bm','Cm','C#m','Dm','D#m','Em','Fm','Gbm','Gm','G#m'\n",
    "]"
   ]
  },
  {
   "cell_type": "code",
   "execution_count": 25,
   "id": "6080aee5",
   "metadata": {},
   "outputs": [],
   "source": [
    "CIRCLE_OF_FIFTHS_MAJ = ['C', 'G', 'D', 'A', 'E', 'B', 'F#', 'Db', 'Ab', 'Eb', 'Bb', 'F']\n",
    "CIRCLE_OF_FIFTHS_MIN = ['Am', 'Em', 'Bm', 'F#m', 'Dbm', 'Abm', 'Ebm', 'Bbm', 'Fm', 'Cm', 'Gm', 'Dm']"
   ]
  },
  {
   "cell_type": "code",
   "execution_count": 28,
   "id": "1b414dde",
   "metadata": {},
   "outputs": [],
   "source": [
    "f_orig = './data/Complete Examples/Real Book/All Of Me.mid'\n",
    "f_impro = './data/Complete Examples/Jazz-Midi/All Of Me.mid'"
   ]
  },
  {
   "cell_type": "code",
   "execution_count": 29,
   "id": "85b80f4c",
   "metadata": {},
   "outputs": [
    {
     "name": "stdout",
     "output_type": "stream",
     "text": [
      "a minor 0\n",
      "a minor 0\n"
     ]
    }
   ],
   "source": [
    "from standardize import standardize, get_tempo\n",
    "\n",
    "s_o = standardize(f_orig)\n",
    "s_i = standardize(f_impro)\n",
    "\n",
    "bpmeasure_o = get_tempo(f_orig)\n",
    "bpmeasure_i = get_tempo(f_impro)"
   ]
  },
  {
   "cell_type": "code",
   "execution_count": 30,
   "id": "7366aacd",
   "metadata": {},
   "outputs": [
    {
     "name": "stderr",
     "output_type": "stream",
     "text": [
      "fluidsynth: warning: SDL2 not initialized, SDL2 audio driver won't be usable\n",
      "fluidsynth: warning: SDL2 not initialized, SDL2 audio driver won't be usable\n",
      "fluidsynth: warning: SDL2 not initialized, SDL2 audio driver won't be usable\n",
      "fluidsynth: warning: SDL2 not initialized, SDL2 audio driver won't be usable\n",
      "2022-01-17 21:01:53 Extracting feature\n",
      "2022-01-17 21:01:56 Loading model\n",
      "2022-01-17 21:01:56 Using built-in model /media/manu/Data/PycharmProjects/thesis/venv/lib/python3.8/site-packages/omnizart/checkpoints/chord/chord_v1 for transcription.\n"
     ]
    },
    {
     "name": "stdout",
     "output_type": "stream",
     "text": [
      "WARNING:tensorflow:SavedModel saved prior to TF 2.5 detected when loading Keras model. Please ensure that you are saving the model with model.save() or tf.keras.models.save_model(), *NOT* tf.saved_model.save(). To confirm, there should be a file named \"keras_metadata.pb\" in the SavedModel directory.\n"
     ]
    },
    {
     "name": "stderr",
     "output_type": "stream",
     "text": [
      "WARNING:absl:Importing a function (__inference_encoder_layer_call_and_return_conditional_losses_19575) with ops with custom gradients. Will likely fail if a gradient is requested.\n",
      "WARNING:absl:Importing a function (__inference_encoder_layer_call_and_return_conditional_losses_21695) with ops with custom gradients. Will likely fail if a gradient is requested.\n",
      "WARNING:absl:Importing a function (__inference_encoder_layer_call_and_return_conditional_losses_76469) with ops with custom gradients. Will likely fail if a gradient is requested.\n",
      "WARNING:absl:Importing a function (__inference_encoder_layer_call_and_return_conditional_losses_74349) with ops with custom gradients. Will likely fail if a gradient is requested.\n",
      "WARNING:absl:Importing a function (__inference_chord_model_layer_call_and_return_conditional_losses_63102) with ops with custom gradients. Will likely fail if a gradient is requested.\n",
      "WARNING:absl:Importing a function (__inference_chord_model_layer_call_and_return_conditional_losses_45289) with ops with custom gradients. Will likely fail if a gradient is requested.\n",
      "WARNING:absl:Importing a function (__inference_chord_model_layer_call_and_return_conditional_losses_71739) with ops with custom gradients. Will likely fail if a gradient is requested.\n",
      "WARNING:absl:Importing a function (__inference_chord_model_layer_call_and_return_conditional_losses_53926) with ops with custom gradients. Will likely fail if a gradient is requested.\n",
      "WARNING:absl:Importing a function (__inference__wrapped_model_17395) with ops with custom gradients. Will likely fail if a gradient is requested.\n"
     ]
    },
    {
     "name": "stdout",
     "output_type": "stream",
     "text": [
      "WARNING:tensorflow:No training configuration found in save file, so the model was *not* compiled. Compile it manually.\n"
     ]
    },
    {
     "name": "stderr",
     "output_type": "stream",
     "text": [
      "WARNING:tensorflow:No training configuration found in save file, so the model was *not* compiled. Compile it manually.\n",
      "2022-01-17 21:02:08 Preparing feature for model prediction\n",
      "INFO:Chord Application:Preparing feature for model prediction\n",
      "2022-01-17 21:02:08 Predicting...\n",
      "INFO:Chord Application:Predicting...\n",
      "2022-01-17 21:02:11 Infering chords...\n",
      "INFO:Chord Application:Infering chords...\n",
      "2022-01-17 21:02:11 MIDI file has been written to ./data/chords/Real Book/All Of Me.mid.\n",
      "INFO:Base Class:MIDI file has been written to ./data/chords/Real Book/All Of Me.mid.\n",
      "2022-01-17 21:02:11 MIDI and CSV file have been written to /media/manu/Data/PycharmProjects/thesis/data/chords/Real Book\n",
      "INFO:Chord Application:MIDI and CSV file have been written to /media/manu/Data/PycharmProjects/thesis/data/chords/Real Book\n",
      "2022-01-17 21:02:11 Transcription finished\n",
      "INFO:Chord Application:Transcription finished\n",
      "fluidsynth: warning: SDL2 not initialized, SDL2 audio driver won't be usable\n",
      "fluidsynth: warning: SDL2 not initialized, SDL2 audio driver won't be usable\n",
      "fluidsynth: warning: SDL2 not initialized, SDL2 audio driver won't be usable\n",
      "fluidsynth: warning: SDL2 not initialized, SDL2 audio driver won't be usable\n",
      "fluidsynth: warning: SDL2 not initialized, SDL2 audio driver won't be usable\n",
      "fluidsynth: warning: SDL2 not initialized, SDL2 audio driver won't be usable\n",
      "fluidsynth: warning: SDL2 not initialized, SDL2 audio driver won't be usable\n",
      "fluidsynth: warning: SDL2 not initialized, SDL2 audio driver won't be usable\n",
      "fluidsynth: warning: SDL2 not initialized, SDL2 audio driver won't be usable\n",
      "fluidsynth: warning: SDL2 not initialized, SDL2 audio driver won't be usable\n",
      "fluidsynth: warning: SDL2 not initialized, SDL2 audio driver won't be usable\n",
      "fluidsynth: warning: SDL2 not initialized, SDL2 audio driver won't be usable\n",
      "fluidsynth: warning: SDL2 not initialized, SDL2 audio driver won't be usable\n",
      "fluidsynth: warning: SDL2 not initialized, SDL2 audio driver won't be usable\n",
      "fluidsynth: warning: SDL2 not initialized, SDL2 audio driver won't be usable\n",
      "fluidsynth: warning: SDL2 not initialized, SDL2 audio driver won't be usable\n",
      "fluidsynth: warning: SDL2 not initialized, SDL2 audio driver won't be usable\n",
      "fluidsynth: warning: SDL2 not initialized, SDL2 audio driver won't be usable\n",
      "fluidsynth: warning: SDL2 not initialized, SDL2 audio driver won't be usable\n",
      "fluidsynth: warning: SDL2 not initialized, SDL2 audio driver won't be usable\n",
      "fluidsynth: warning: SDL2 not initialized, SDL2 audio driver won't be usable\n",
      "fluidsynth: warning: SDL2 not initialized, SDL2 audio driver won't be usable\n",
      "fluidsynth: warning: SDL2 not initialized, SDL2 audio driver won't be usable\n",
      "fluidsynth: warning: SDL2 not initialized, SDL2 audio driver won't be usable\n",
      "fluidsynth: warning: SDL2 not initialized, SDL2 audio driver won't be usable\n",
      "fluidsynth: warning: SDL2 not initialized, SDL2 audio driver won't be usable\n",
      "fluidsynth: warning: SDL2 not initialized, SDL2 audio driver won't be usable\n",
      "fluidsynth: warning: SDL2 not initialized, SDL2 audio driver won't be usable\n",
      "fluidsynth: warning: SDL2 not initialized, SDL2 audio driver won't be usable\n",
      "fluidsynth: warning: SDL2 not initialized, SDL2 audio driver won't be usable\n",
      "fluidsynth: warning: SDL2 not initialized, SDL2 audio driver won't be usable\n",
      "2022-01-17 21:02:21 Extracting feature\n",
      "INFO:Chord Application:Extracting feature\n",
      "2022-01-17 21:02:23 Loading model\n",
      "INFO:Chord Application:Loading model\n",
      "2022-01-17 21:02:23 Using built-in model /media/manu/Data/PycharmProjects/thesis/venv/lib/python3.8/site-packages/omnizart/checkpoints/chord/chord_v1 for transcription.\n",
      "INFO:Base Class:Using built-in model /media/manu/Data/PycharmProjects/thesis/venv/lib/python3.8/site-packages/omnizart/checkpoints/chord/chord_v1 for transcription.\n"
     ]
    },
    {
     "name": "stdout",
     "output_type": "stream",
     "text": [
      "WARNING:tensorflow:SavedModel saved prior to TF 2.5 detected when loading Keras model. Please ensure that you are saving the model with model.save() or tf.keras.models.save_model(), *NOT* tf.saved_model.save(). To confirm, there should be a file named \"keras_metadata.pb\" in the SavedModel directory.\n"
     ]
    },
    {
     "name": "stderr",
     "output_type": "stream",
     "text": [
      "WARNING:tensorflow:SavedModel saved prior to TF 2.5 detected when loading Keras model. Please ensure that you are saving the model with model.save() or tf.keras.models.save_model(), *NOT* tf.saved_model.save(). To confirm, there should be a file named \"keras_metadata.pb\" in the SavedModel directory.\n",
      "WARNING:absl:Importing a function (__inference_encoder_layer_call_and_return_conditional_losses_19575) with ops with custom gradients. Will likely fail if a gradient is requested.\n",
      "WARNING:absl:Importing a function (__inference_encoder_layer_call_and_return_conditional_losses_21695) with ops with custom gradients. Will likely fail if a gradient is requested.\n",
      "WARNING:absl:Importing a function (__inference_encoder_layer_call_and_return_conditional_losses_76469) with ops with custom gradients. Will likely fail if a gradient is requested.\n",
      "WARNING:absl:Importing a function (__inference_encoder_layer_call_and_return_conditional_losses_74349) with ops with custom gradients. Will likely fail if a gradient is requested.\n",
      "WARNING:absl:Importing a function (__inference_chord_model_layer_call_and_return_conditional_losses_63102) with ops with custom gradients. Will likely fail if a gradient is requested.\n",
      "WARNING:absl:Importing a function (__inference_chord_model_layer_call_and_return_conditional_losses_45289) with ops with custom gradients. Will likely fail if a gradient is requested.\n",
      "WARNING:absl:Importing a function (__inference_chord_model_layer_call_and_return_conditional_losses_71739) with ops with custom gradients. Will likely fail if a gradient is requested.\n",
      "WARNING:absl:Importing a function (__inference_chord_model_layer_call_and_return_conditional_losses_53926) with ops with custom gradients. Will likely fail if a gradient is requested.\n",
      "WARNING:absl:Importing a function (__inference__wrapped_model_17395) with ops with custom gradients. Will likely fail if a gradient is requested.\n"
     ]
    },
    {
     "name": "stdout",
     "output_type": "stream",
     "text": [
      "WARNING:tensorflow:No training configuration found in save file, so the model was *not* compiled. Compile it manually.\n"
     ]
    },
    {
     "name": "stderr",
     "output_type": "stream",
     "text": [
      "WARNING:tensorflow:No training configuration found in save file, so the model was *not* compiled. Compile it manually.\n",
      "2022-01-17 21:02:35 Preparing feature for model prediction\n",
      "INFO:Chord Application:Preparing feature for model prediction\n",
      "2022-01-17 21:02:35 Predicting...\n",
      "INFO:Chord Application:Predicting...\n",
      "2022-01-17 21:02:37 Infering chords...\n",
      "INFO:Chord Application:Infering chords...\n",
      "2022-01-17 21:02:37 MIDI file has been written to ./data/chords/Jazz-Midi/All Of Me.mid.\n",
      "INFO:Base Class:MIDI file has been written to ./data/chords/Jazz-Midi/All Of Me.mid.\n",
      "2022-01-17 21:02:37 MIDI and CSV file have been written to /media/manu/Data/PycharmProjects/thesis/data/chords/Jazz-Midi\n",
      "INFO:Chord Application:MIDI and CSV file have been written to /media/manu/Data/PycharmProjects/thesis/data/chords/Jazz-Midi\n",
      "2022-01-17 21:02:37 Transcription finished\n",
      "INFO:Chord Application:Transcription finished\n"
     ]
    },
    {
     "data": {
      "text/plain": [
       "'./data/chords/Jazz-Midi/All Of Me.mid'"
      ]
     },
     "execution_count": 30,
     "metadata": {},
     "output_type": "execute_result"
    }
   ],
   "source": [
    "from melody_alignment import find_chords\n",
    "\n",
    "find_chords(s_o)\n",
    "find_chords(s_i)"
   ]
  },
  {
   "cell_type": "code",
   "execution_count": 31,
   "id": "79d27842",
   "metadata": {},
   "outputs": [
    {
     "data": {
      "text/plain": [
       "<module 'numpy' from '/media/manu/Data/PycharmProjects/thesis/venv/lib/python3.8/site-packages/numpy/__init__.py'>"
      ]
     },
     "execution_count": 31,
     "metadata": {},
     "output_type": "execute_result"
    }
   ],
   "source": [
    "import importlib\n",
    "import numpy as np\n",
    "import music21\n",
    "import pandas as pd\n",
    "import seaborn as sns\n",
    "from mingus.core import chords\n",
    "from chord_extractor.extractors import Chordino\n",
    "import melody_alignment\n",
    "\n",
    "importlib.reload(melody_alignment)\n",
    "importlib.reload(np)"
   ]
  },
  {
   "cell_type": "code",
   "execution_count": 32,
   "id": "22dd910e",
   "metadata": {},
   "outputs": [],
   "source": [
    "orig = pd.read_csv('./data/chords/Real Book/All Of Me.csv')\n",
    "impro = pd.read_csv('./data/chords/Jazz-Midi/All Of Me.csv')"
   ]
  },
  {
   "cell_type": "code",
   "execution_count": 33,
   "id": "482d980f",
   "metadata": {},
   "outputs": [],
   "source": [
    "orig['chord'] = orig['chord'].str.replace(\":maj\", \"\")\n",
    "orig['chord'] = orig['chord'].str.replace(\":min\", \"m\")\n",
    "impro['chord'] = impro['chord'].str.replace(\":maj\", \"\")\n",
    "impro['chord'] = impro['chord'].str.replace(\":min\", \"m\")"
   ]
  },
  {
   "cell_type": "code",
   "execution_count": 8,
   "id": "db0fde59",
   "metadata": {},
   "outputs": [],
   "source": [
    "# orig_start = orig['start'].iloc[0].copy()\n",
    "# impro_start = impro['start'].iloc[0].copy()\n",
    "\n",
    "# orig['start'] = orig['start'] - orig_start\n",
    "# orig['end'] = orig['end'] - orig_start\n",
    "# impro['start'] = impro['start'] - impro_start\n",
    "# impro['end'] = impro['end'] - impro_start"
   ]
  },
  {
   "cell_type": "code",
   "execution_count": 34,
   "id": "4eb9801c",
   "metadata": {},
   "outputs": [],
   "source": [
    "orig['start']*=bpmeasure_o\n",
    "orig['end']*=bpmeasure_o\n",
    "impro['start']*=bpmeasure_i\n",
    "impro['end']*=bpmeasure_i"
   ]
  },
  {
   "cell_type": "code",
   "execution_count": 36,
   "id": "ac77dc32",
   "metadata": {},
   "outputs": [
    {
     "name": "stdout",
     "output_type": "stream",
     "text": [
      "  chord      start        end\n",
      "0     C   9.210591  10.835990\n",
      "1    Em  10.944349  12.027948\n",
      "2    Em  12.136308  13.653347\n",
      "3    Em  13.761707  16.253984\n",
      "4     C  16.362344  18.637902\n",
      "  chord      start        end\n",
      "0    Dm  12.678108  15.193605\n",
      "1     B  15.294225  17.306623\n",
      "2    Am  17.608483  18.514062\n",
      "3    G#  18.614682  20.325220\n",
      "4    Gm  20.425840  21.733899\n"
     ]
    }
   ],
   "source": [
    "print(orig.head())\n",
    "print(impro.head())"
   ]
  },
  {
   "cell_type": "code",
   "execution_count": 49,
   "id": "9ddbf312",
   "metadata": {},
   "outputs": [],
   "source": [
    "a = pd.DataFrame(columns=['orig', 'impro'])\n",
    "\n",
    "for i in range(int(np.max([orig['start'].max(), impro['start'].max()]))+1):\n",
    "    orig_c = orig[\n",
    "        (orig['start'] <= i) &\n",
    "        (i <= orig['end'])\n",
    "    ]\n",
    "    impro_c = impro[\n",
    "        (impro['start'] <= i) &\n",
    "        (i <= impro['end'])\n",
    "    ]\n",
    "    \n",
    "    if orig_c.shape[0] > 0:\n",
    "        a.loc[i, 'orig'] = orig_c.iloc[0, 0]\n",
    "    else:\n",
    "        a.loc[i, 'orig'] = np.nan\n",
    "        \n",
    "    if impro_c.shape[0] > 0:\n",
    "        a.loc[i, 'impro'] = impro_c.iloc[0, 0]\n",
    "    else:\n",
    "        a.loc[i, 'impro'] = np.nan"
   ]
  },
  {
   "cell_type": "code",
   "execution_count": 50,
   "id": "2e703367",
   "metadata": {},
   "outputs": [],
   "source": [
    "tot_scores = []\n",
    "max_score = 0\n",
    "best = None\n",
    "\n",
    "for i in range(int(a.shape[0]/2)):\n",
    "    scores = []\n",
    "    for j in range(a.shape[0]):\n",
    "        scores.append(melody_alignment.chord_score(a.loc[j, 'orig'], a.loc[j, 'impro']))\n",
    "    \n",
    "    if np.nanmean(scores) > max_score:\n",
    "        best = a.copy()\n",
    "        max_score = np.nanmean(scores)\n",
    "    \n",
    "    a['orig'] = a.orig.shift(1)\n",
    "    \n",
    "    tot_scores.append(np.nanmean(scores))"
   ]
  },
  {
   "cell_type": "code",
   "execution_count": 51,
   "id": "46317dbf",
   "metadata": {},
   "outputs": [
    {
     "data": {
      "text/plain": [
       "[<matplotlib.lines.Line2D at 0x7face4517340>]"
      ]
     },
     "execution_count": 51,
     "metadata": {},
     "output_type": "execute_result"
    },
    {
     "data": {
      "image/png": "[encoded data removed]",
      "text/plain": [
       "<Figure size 432x288 with 1 Axes>"
      ]
     },
     "metadata": {
      "image/png": {
       "height": 248,
       "width": 378
      },
      "needs_background": "light"
     },
     "output_type": "display_data"
    }
   ],
   "source": [
    "from matplotlib import pyplot as plt\n",
    "plt.plot(tot_scores)"
   ]
  },
  {
   "cell_type": "code",
   "execution_count": 52,
   "id": "5fbdd002",
   "metadata": {},
   "outputs": [
    {
     "data": {
      "text/html": [
       "<div>\n",
       "<style scoped>\n",
       "    .dataframe tbody tr th:only-of-type {\n",
       "        vertical-align: middle;\n",
       "    }\n",
       "\n",
       "    .dataframe tbody tr th {\n",
       "        vertical-align: top;\n",
       "    }\n",
       "\n",
       "    .dataframe thead th {\n",
       "        text-align: right;\n",
       "    }\n",
       "</style>\n",
       "<table border=\"1\" class=\"dataframe\">\n",
       "  <thead>\n",
       "    <tr style=\"text-align: right;\">\n",
       "      <th></th>\n",
       "      <th>orig</th>\n",
       "      <th>impro</th>\n",
       "    </tr>\n",
       "  </thead>\n",
       "  <tbody>\n",
       "    <tr>\n",
       "      <th>365</th>\n",
       "      <td>Am</td>\n",
       "      <td>Dm</td>\n",
       "    </tr>\n",
       "    <tr>\n",
       "      <th>366</th>\n",
       "      <td>NaN</td>\n",
       "      <td>Dm</td>\n",
       "    </tr>\n",
       "    <tr>\n",
       "      <th>367</th>\n",
       "      <td>NaN</td>\n",
       "      <td>Dm</td>\n",
       "    </tr>\n",
       "    <tr>\n",
       "      <th>368</th>\n",
       "      <td>C</td>\n",
       "      <td>Dm</td>\n",
       "    </tr>\n",
       "    <tr>\n",
       "      <th>369</th>\n",
       "      <td>C</td>\n",
       "      <td>Dm</td>\n",
       "    </tr>\n",
       "    <tr>\n",
       "      <th>...</th>\n",
       "      <td>...</td>\n",
       "      <td>...</td>\n",
       "    </tr>\n",
       "    <tr>\n",
       "      <th>460</th>\n",
       "      <td>Fm</td>\n",
       "      <td>NaN</td>\n",
       "    </tr>\n",
       "    <tr>\n",
       "      <th>461</th>\n",
       "      <td>Fm</td>\n",
       "      <td>NaN</td>\n",
       "    </tr>\n",
       "    <tr>\n",
       "      <th>462</th>\n",
       "      <td>Fm</td>\n",
       "      <td>NaN</td>\n",
       "    </tr>\n",
       "    <tr>\n",
       "      <th>463</th>\n",
       "      <td>Fm</td>\n",
       "      <td>NaN</td>\n",
       "    </tr>\n",
       "    <tr>\n",
       "      <th>464</th>\n",
       "      <td>Am</td>\n",
       "      <td>NaN</td>\n",
       "    </tr>\n",
       "  </tbody>\n",
       "</table>\n",
       "<p>100 rows × 2 columns</p>\n",
       "</div>"
      ],
      "text/plain": [
       "    orig impro\n",
       "365   Am    Dm\n",
       "366  NaN    Dm\n",
       "367  NaN    Dm\n",
       "368    C    Dm\n",
       "369    C    Dm\n",
       "..   ...   ...\n",
       "460   Fm   NaN\n",
       "461   Fm   NaN\n",
       "462   Fm   NaN\n",
       "463   Fm   NaN\n",
       "464   Am   NaN\n",
       "\n",
       "[100 rows x 2 columns]"
      ]
     },
     "execution_count": 52,
     "metadata": {},
     "output_type": "execute_result"
    }
   ],
   "source": [
    "best.tail(100)"
   ]
  },
  {
   "cell_type": "code",
   "execution_count": 56,
   "id": "285c63b8",
   "metadata": {},
   "outputs": [
    {
     "name": "stdout",
     "output_type": "stream",
     "text": [
      "[161, 18, 19, 20, 222, 212, 225, 160, 226, 227, 152, 211, 155, 156, 154, 153, 159, 157, 228, 158]\n",
      "[0.4141025641025641, 0.4143552311435524, 0.4161172161172161, 0.4177777777777777, 0.419047619047619, 0.4206896551724137, 0.4226299694189602, 0.4291139240506328, 0.42962962962962964, 0.43207547169811317, 0.4343558282208589, 0.4361581920903954, 0.4382716049382716, 0.4382716049382716, 0.4409937888198758, 0.4462167689161554, 0.44779874213836474, 0.45115303983228505, 0.4522012578616352, 0.4578616352201258]\n"
     ]
    }
   ],
   "source": [
    "j = 20\n",
    "print(sorted(range(len(tot_scores)), key=lambda i: tot_scores[i])[-j:])\n",
    "print(sorted(tot_scores)[-j:])"
   ]
  },
  {
   "cell_type": "code",
   "execution_count": 54,
   "id": "f68df769",
   "metadata": {},
   "outputs": [
    {
     "data": {
      "text/html": [
       "<div>\n",
       "<style scoped>\n",
       "    .dataframe tbody tr th:only-of-type {\n",
       "        vertical-align: middle;\n",
       "    }\n",
       "\n",
       "    .dataframe tbody tr th {\n",
       "        vertical-align: top;\n",
       "    }\n",
       "\n",
       "    .dataframe thead th {\n",
       "        text-align: right;\n",
       "    }\n",
       "</style>\n",
       "<table border=\"1\" class=\"dataframe\">\n",
       "  <thead>\n",
       "    <tr style=\"text-align: right;\">\n",
       "      <th></th>\n",
       "      <th>orig</th>\n",
       "      <th>impro</th>\n",
       "    </tr>\n",
       "  </thead>\n",
       "  <tbody>\n",
       "    <tr>\n",
       "      <th>0</th>\n",
       "      <td>NaN</td>\n",
       "      <td>NaN</td>\n",
       "    </tr>\n",
       "    <tr>\n",
       "      <th>1</th>\n",
       "      <td>NaN</td>\n",
       "      <td>NaN</td>\n",
       "    </tr>\n",
       "    <tr>\n",
       "      <th>2</th>\n",
       "      <td>NaN</td>\n",
       "      <td>NaN</td>\n",
       "    </tr>\n",
       "    <tr>\n",
       "      <th>3</th>\n",
       "      <td>NaN</td>\n",
       "      <td>NaN</td>\n",
       "    </tr>\n",
       "    <tr>\n",
       "      <th>4</th>\n",
       "      <td>NaN</td>\n",
       "      <td>NaN</td>\n",
       "    </tr>\n",
       "    <tr>\n",
       "      <th>...</th>\n",
       "      <td>...</td>\n",
       "      <td>...</td>\n",
       "    </tr>\n",
       "    <tr>\n",
       "      <th>460</th>\n",
       "      <td>Fm</td>\n",
       "      <td>NaN</td>\n",
       "    </tr>\n",
       "    <tr>\n",
       "      <th>461</th>\n",
       "      <td>Fm</td>\n",
       "      <td>NaN</td>\n",
       "    </tr>\n",
       "    <tr>\n",
       "      <th>462</th>\n",
       "      <td>Fm</td>\n",
       "      <td>NaN</td>\n",
       "    </tr>\n",
       "    <tr>\n",
       "      <th>463</th>\n",
       "      <td>Fm</td>\n",
       "      <td>NaN</td>\n",
       "    </tr>\n",
       "    <tr>\n",
       "      <th>464</th>\n",
       "      <td>Am</td>\n",
       "      <td>NaN</td>\n",
       "    </tr>\n",
       "  </tbody>\n",
       "</table>\n",
       "<p>465 rows × 2 columns</p>\n",
       "</div>"
      ],
      "text/plain": [
       "    orig impro\n",
       "0    NaN   NaN\n",
       "1    NaN   NaN\n",
       "2    NaN   NaN\n",
       "3    NaN   NaN\n",
       "4    NaN   NaN\n",
       "..   ...   ...\n",
       "460   Fm   NaN\n",
       "461   Fm   NaN\n",
       "462   Fm   NaN\n",
       "463   Fm   NaN\n",
       "464   Am   NaN\n",
       "\n",
       "[465 rows x 2 columns]"
      ]
     },
     "execution_count": 54,
     "metadata": {},
     "output_type": "execute_result"
    }
   ],
   "source": [
    "best"
   ]
  },
  {
   "cell_type": "code",
   "execution_count": null,
   "id": "0b9be8c5",
   "metadata": {},
   "outputs": [],
   "source": []
  }
 ],
 "metadata": {
  "kernelspec": {
   "display_name": "Python 3 (ipykernel)",
   "language": "python",
   "name": "python3"
  },
  "language_info": {
   "codemirror_mode": {
    "name": "ipython",
    "version": 3
   },
   "file_extension": ".py",
   "mimetype": "text/x-python",
   "name": "python",
   "nbconvert_exporter": "python",
   "pygments_lexer": "ipython3",
   "version": "3.8.10"
  }
 },
 "nbformat": 4,
 "nbformat_minor": 5
}
