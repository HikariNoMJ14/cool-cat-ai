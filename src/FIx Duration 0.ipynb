{
 "cells": [
  {
   "cell_type": "code",
   "execution_count": 1,
   "id": "ac2db999",
   "metadata": {},
   "outputs": [],
   "source": [
    "folder = '../data/finalised/csv/Weimar DB/'"
   ]
  },
  {
   "cell_type": "code",
   "execution_count": 2,
   "id": "be2e9b3f",
   "metadata": {},
   "outputs": [],
   "source": [
    "import pandas as pd"
   ]
  },
  {
   "cell_type": "code",
   "execution_count": 3,
   "id": "2c25785b",
   "metadata": {},
   "outputs": [],
   "source": [
    "import os"
   ]
  },
  {
   "cell_type": "code",
   "execution_count": 4,
   "id": "06eb8550",
   "metadata": {},
   "outputs": [
    {
     "data": {
      "text/plain": [
       "['Art Pepper - Anthropology -1-.csv',\n",
       " 'Art Pepper - Anthropology -2-.csv',\n",
       " 'Art Pepper - Anthropology -3-.csv',\n",
       " 'Art Pepper - Anthropology -4-.csv',\n",
       " 'Ben Webster - Bye Bye Blackbird -1-.csv',\n",
       " 'Ben Webster - Bye Bye Blackbird -2-.csv',\n",
       " 'Ben Webster - Bye Bye Blackbird -3-.csv',\n",
       " 'Ben Webster - Night And Day -1-.csv',\n",
       " 'Ben Webster - Night And Day -2-.csv',\n",
       " 'Benny Carter - Just Friends -1-.csv',\n",
       " 'Benny Carter - Just Friends -2-.csv',\n",
       " 'Benny Carter - Just Friends -3-.csv',\n",
       " 'Benny Carter - Long Ago And Far Away (1) -1-.csv',\n",
       " 'Benny Carter - Long Ago And Far Away (2) -1-.csv',\n",
       " 'Benny Carter - Long Ago And Far Away (2) -2-.csv',\n",
       " 'Benny Carter - Long Ago And Far Away (2) -3-.csv',\n",
       " 'Bix Beiderbecke - Margie -1-.csv',\n",
       " \"Bob Berg - I Didn't Know What Time It Was -1-.csv\",\n",
       " \"Bob Berg - I Didn't Know What Time It Was -2-.csv\",\n",
       " \"Bob Berg - I Didn't Know What Time It Was -3-.csv\",\n",
       " 'Branford Marsalis - The Nearness Of You -1-.csv',\n",
       " 'Branford Marsalis - The Nearness Of You -2-.csv']"
      ]
     },
     "execution_count": 4,
     "metadata": {},
     "output_type": "execute_result"
    }
   ],
   "source": [
    "os.listdir(folder)"
   ]
  },
  {
   "cell_type": "code",
   "execution_count": 14,
   "id": "18441a4c",
   "metadata": {},
   "outputs": [],
   "source": [
    "for f in os.listdir(folder):\n",
    "    file = os.path.join(folder,f)\n",
    "    df = pd.read_csv(file)\n",
    "    \n",
    "    if df[df['duration'] == 0].shape[0] > 0:\n",
    "        print(file)\n",
    "        print(len(df))\n",
    "        df = df[df['duration'] > 0]\n",
    "        print(len(df))\n",
    "        \n",
    "        df.to_csv(file)"
   ]
  },
  {
   "cell_type": "code",
   "execution_count": null,
   "id": "71fe0301",
   "metadata": {},
   "outputs": [],
   "source": []
  }
 ],
 "metadata": {
  "kernelspec": {
   "display_name": "Python 3 (ipykernel)",
   "language": "python",
   "name": "python3"
  },
  "language_info": {
   "codemirror_mode": {
    "name": "ipython",
    "version": 3
   },
   "file_extension": ".py",
   "mimetype": "text/x-python",
   "name": "python",
   "nbconvert_exporter": "python",
   "pygments_lexer": "ipython3",
   "version": "3.8.10"
  }
 },
 "nbformat": 4,
 "nbformat_minor": 5
}
