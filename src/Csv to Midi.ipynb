{
 "cells": [
  {
   "cell_type": "code",
   "execution_count": 1,
   "id": "2be69162",
   "metadata": {},
   "outputs": [],
   "source": [
    "import json\n",
    "import pandas as pd\n",
    "from ezchord import Chord\n",
    "from mingus.core.notes import int_to_note\n",
    "import pretty_midi as pm\n",
    "\n",
    "from utils import notes_and_chord_to_midi"
   ]
  },
  {
   "cell_type": "code",
   "execution_count": 2,
   "id": "e3ecb676",
   "metadata": {},
   "outputs": [],
   "source": [
    "irb_chord_progressions_filepath = '../data/chord_progressions/irb_chord_progressions.json'\n",
    "wdb_chord_progressions_filepath = '../data/chord_progressions/weimar_db.json'\n",
    "manual_chord_progressions_filepath = '../data/chord_progressions/manual_chord_progressions.json'\n",
    "\n",
    "chord_progressions = {}\n",
    "chord_progressions.update(json.load(open(irb_chord_progressions_filepath)))\n",
    "chord_progressions.update(json.load(open(wdb_chord_progressions_filepath)))\n",
    "chord_progressions.update(json.load(open(manual_chord_progressions_filepath)))"
   ]
  },
  {
   "cell_type": "code",
   "execution_count": 9,
   "id": "3310e91c",
   "metadata": {},
   "outputs": [],
   "source": [
    "df = pd.read_csv('../data/split_melody/Jazz-Midi/All Of Me_1.csv', index_col=0)"
   ]
  },
  {
   "cell_type": "code",
   "execution_count": 10,
   "id": "cd5adcff",
   "metadata": {},
   "outputs": [
    {
     "data": {
      "text/html": [
       "<div>\n",
       "<style scoped>\n",
       "    .dataframe tbody tr th:only-of-type {\n",
       "        vertical-align: middle;\n",
       "    }\n",
       "\n",
       "    .dataframe tbody tr th {\n",
       "        vertical-align: top;\n",
       "    }\n",
       "\n",
       "    .dataframe thead th {\n",
       "        text-align: right;\n",
       "    }\n",
       "</style>\n",
       "<table border=\"1\" class=\"dataframe\">\n",
       "  <thead>\n",
       "    <tr style=\"text-align: right;\">\n",
       "      <th></th>\n",
       "      <th>pitch</th>\n",
       "      <th>ticks</th>\n",
       "      <th>offset</th>\n",
       "      <th>measure</th>\n",
       "      <th>duration</th>\n",
       "      <th>chord_root</th>\n",
       "      <th>chord_bass</th>\n",
       "      <th>chord_notes</th>\n",
       "    </tr>\n",
       "  </thead>\n",
       "  <tbody>\n",
       "    <tr>\n",
       "      <th>0</th>\n",
       "      <td>72</td>\n",
       "      <td>12</td>\n",
       "      <td>12</td>\n",
       "      <td>0</td>\n",
       "      <td>24</td>\n",
       "      <td>C</td>\n",
       "      <td>C</td>\n",
       "      <td>['C', 'C', 'E', 'G', 'B']</td>\n",
       "    </tr>\n",
       "    <tr>\n",
       "      <th>1</th>\n",
       "      <td>67</td>\n",
       "      <td>37</td>\n",
       "      <td>37</td>\n",
       "      <td>0</td>\n",
       "      <td>8</td>\n",
       "      <td>C</td>\n",
       "      <td>C</td>\n",
       "      <td>['C', 'C', 'E', 'G', 'B']</td>\n",
       "    </tr>\n",
       "    <tr>\n",
       "      <th>2</th>\n",
       "      <td>64</td>\n",
       "      <td>45</td>\n",
       "      <td>45</td>\n",
       "      <td>0</td>\n",
       "      <td>24</td>\n",
       "      <td>C</td>\n",
       "      <td>C</td>\n",
       "      <td>['C', 'C', 'E', 'G', 'B']</td>\n",
       "    </tr>\n",
       "    <tr>\n",
       "      <th>3</th>\n",
       "      <td>67</td>\n",
       "      <td>69</td>\n",
       "      <td>21</td>\n",
       "      <td>1</td>\n",
       "      <td>4</td>\n",
       "      <td>C</td>\n",
       "      <td>C</td>\n",
       "      <td>['C', 'C', 'E', 'G', 'B']</td>\n",
       "    </tr>\n",
       "    <tr>\n",
       "      <th>4</th>\n",
       "      <td>72</td>\n",
       "      <td>73</td>\n",
       "      <td>25</td>\n",
       "      <td>1</td>\n",
       "      <td>8</td>\n",
       "      <td>C</td>\n",
       "      <td>C</td>\n",
       "      <td>['C', 'C', 'E', 'G', 'B']</td>\n",
       "    </tr>\n",
       "  </tbody>\n",
       "</table>\n",
       "</div>"
      ],
      "text/plain": [
       "   pitch  ticks  offset  measure  duration chord_root chord_bass  \\\n",
       "0     72     12      12        0        24          C          C   \n",
       "1     67     37      37        0         8          C          C   \n",
       "2     64     45      45        0        24          C          C   \n",
       "3     67     69      21        1         4          C          C   \n",
       "4     72     73      25        1         8          C          C   \n",
       "\n",
       "                 chord_notes  \n",
       "0  ['C', 'C', 'E', 'G', 'B']  \n",
       "1  ['C', 'C', 'E', 'G', 'B']  \n",
       "2  ['C', 'C', 'E', 'G', 'B']  \n",
       "3  ['C', 'C', 'E', 'G', 'B']  \n",
       "4  ['C', 'C', 'E', 'G', 'B']  "
      ]
     },
     "execution_count": 10,
     "metadata": {},
     "output_type": "execute_result"
    }
   ],
   "source": [
    "df.head()"
   ]
  },
  {
   "cell_type": "code",
   "execution_count": 11,
   "id": "e6ae881e",
   "metadata": {},
   "outputs": [
    {
     "data": {
      "text/plain": [
       "<pretty_midi.pretty_midi.PrettyMIDI at 0x7f7d8f258c10>"
      ]
     },
     "execution_count": 11,
     "metadata": {},
     "output_type": "execute_result"
    }
   ],
   "source": [
    "out_file = '../data/outputs/All Of Me_1.mid'\n",
    "\n",
    "notes_and_chord_to_midi(\n",
    "    df, \n",
    "    chord_progressions['All Of Me'], \n",
    "    out_file\n",
    ")"
   ]
  },
  {
   "cell_type": "code",
   "execution_count": null,
   "id": "6e79917f",
   "metadata": {},
   "outputs": [],
   "source": []
  },
  {
   "cell_type": "code",
   "execution_count": null,
   "id": "f9fa6416",
   "metadata": {},
   "outputs": [],
   "source": []
  },
  {
   "cell_type": "code",
   "execution_count": null,
   "id": "2138f453",
   "metadata": {},
   "outputs": [],
   "source": []
  }
 ],
 "metadata": {
  "kernelspec": {
   "display_name": "Python 3 (ipykernel)",
   "language": "python",
   "name": "python3"
  },
  "language_info": {
   "codemirror_mode": {
    "name": "ipython",
    "version": 3
   },
   "file_extension": ".py",
   "mimetype": "text/x-python",
   "name": "python",
   "nbconvert_exporter": "python",
   "pygments_lexer": "ipython3",
   "version": "3.8.10"
  }
 },
 "nbformat": 4,
 "nbformat_minor": 5
}
