{
 "cells": [
  {
   "cell_type": "code",
   "execution_count": 1,
   "id": "9c2411ad",
   "metadata": {},
   "outputs": [],
   "source": [
    "import os\n",
    "import re\n",
    "import json\n",
    "import sys\n",
    "from glob import glob\n",
    "import pandas as pd\n",
    "import numpy as np\n",
    "import seaborn as sns\n",
    "from matplotlib import rcParams\n",
    "from matplotlib import pyplot as plt\n",
    "\n",
    "sys.path.append('..', '..')\n",
    "\n",
    "from src.melody import Melody\n",
    "from src.utils import notes_to_midi, notes_and_chord_to_midi, get_chord_progressions\n",
    "\n",
    "rcParams['figure.figsize'] = 20,10"
   ]
  },
  {
   "cell_type": "code",
   "execution_count": 2,
   "id": "bbfc9c9d",
   "metadata": {},
   "outputs": [
    {
     "data": {
      "text/plain": [
       "<module 'objective_metrics' from '/media/manu/Data/PycharmProjects/thesis/src/objective_metrics.py'>"
      ]
     },
     "execution_count": 2,
     "metadata": {},
     "output_type": "execute_result"
    }
   ],
   "source": [
    "import importlib\n",
    "import objective_metrics\n",
    "\n",
    "\n",
    "importlib.reload(objective_metrics)"
   ]
  },
  {
   "cell_type": "code",
   "execution_count": 3,
   "id": "1f90c186",
   "metadata": {},
   "outputs": [],
   "source": [
    "version = '1.2'\n",
    "folder = f'../data/generated/22_05_22_00_52_58_transpose_all_chord_extended_7_batchsize_128_seed_1234567890/seen/'\n",
    "filepaths = [y for x in os.walk(folder) for y in glob(os.path.join(x[0], '*.csv'))]\n",
    "\n",
    "chord_progressions = get_chord_progressions('..')"
   ]
  },
  {
   "cell_type": "code",
   "execution_count": 4,
   "id": "8e98d079",
   "metadata": {},
   "outputs": [
    {
     "data": {
      "text/plain": [
       "'../data/generated/22_05_22_00_52_58_transpose_all_chord_extended_7_batchsize_128_seed_1234567890/seen/22_05_26_13_56_57 Softly As In A Morning Sunrise.csv'"
      ]
     },
     "execution_count": 4,
     "metadata": {},
     "output_type": "execute_result"
    }
   ],
   "source": [
    "filepaths[0]"
   ]
  },
  {
   "cell_type": "code",
   "execution_count": 5,
   "id": "0e35481f",
   "metadata": {},
   "outputs": [
    {
     "name": "stdout",
     "output_type": "stream",
     "text": [
      "10.620975048436001 0.36624051891158627\n"
     ]
    },
    {
     "ename": "TypeError",
     "evalue": "object of type 'float' has no len()",
     "output_type": "error",
     "traceback": [
      "\u001b[0;31m---------------------------------------------------------------------------\u001b[0m",
      "\u001b[0;31mTypeError\u001b[0m                                 Traceback (most recent call last)",
      "Input \u001b[0;32mIn [5]\u001b[0m, in \u001b[0;36m<cell line: 7>\u001b[0;34m()\u001b[0m\n\u001b[1;32m     24\u001b[0m pe4 \u001b[38;5;241m=\u001b[39m objective_metrics\u001b[38;5;241m.\u001b[39mcompute_piece_pitch_entropy(df, \u001b[38;5;241m4\u001b[39m)\n\u001b[1;32m     26\u001b[0m \u001b[38;5;66;03m# PV\u001b[39;00m\n\u001b[0;32m---> 27\u001b[0m pv4 \u001b[38;5;241m=\u001b[39m \u001b[43mobjective_metrics\u001b[49m\u001b[38;5;241;43m.\u001b[39;49m\u001b[43mcalculate_PV\u001b[49m\u001b[43m(\u001b[49m\u001b[43mdf\u001b[49m\u001b[43m[\u001b[49m\u001b[43mdf\u001b[49m\u001b[43m[\u001b[49m\u001b[38;5;124;43m'\u001b[39;49m\u001b[38;5;124;43mpitch\u001b[39;49m\u001b[38;5;124;43m'\u001b[39;49m\u001b[43m]\u001b[49m\u001b[43m \u001b[49m\u001b[38;5;241;43m>\u001b[39;49m\u001b[38;5;241;43m=\u001b[39;49m\u001b[43m \u001b[49m\u001b[38;5;241;43m0\u001b[39;49m\u001b[43m]\u001b[49m\u001b[43m,\u001b[49m\u001b[43m \u001b[49m\u001b[38;5;241;43m4\u001b[39;49m\u001b[43m)\u001b[49m\n\u001b[1;32m     29\u001b[0m \u001b[38;5;66;03m# TS\u001b[39;00m\n\u001b[1;32m     30\u001b[0m ts8 \u001b[38;5;241m=\u001b[39m objective_metrics\u001b[38;5;241m.\u001b[39mcalculate_TS(df, \u001b[38;5;241m8\u001b[39m)\n",
      "File \u001b[0;32m/media/manu/Data/PycharmProjects/thesis/src/objective_metrics.py:352\u001b[0m, in \u001b[0;36mcalculate_PV\u001b[0;34m(melody, window_size)\u001b[0m\n\u001b[1;32m    348\u001b[0m         pitch_variations \u001b[38;5;241m+\u001b[39m\u001b[38;5;241m=\u001b[39m (\u001b[38;5;28mfloat\u001b[39m(\u001b[38;5;28mlen\u001b[39m(diff_pitches)) \u001b[38;5;241m/\u001b[39m \u001b[38;5;28mlen\u001b[39m(sequence))\n\u001b[1;32m    350\u001b[0m \u001b[38;5;28mprint\u001b[39m(np\u001b[38;5;241m.\u001b[39mmean(pitch_variations), pitch_variations \u001b[38;5;241m/\u001b[39m (n_bars \u001b[38;5;241m-\u001b[39m window_size \u001b[38;5;241m+\u001b[39m \u001b[38;5;241m1\u001b[39m))\n\u001b[0;32m--> 352\u001b[0m \u001b[38;5;28;01mreturn\u001b[39;00m np\u001b[38;5;241m.\u001b[39mmean(pitch_variations) \u001b[38;5;28;01mif\u001b[39;00m \u001b[38;5;28;43mlen\u001b[39;49m\u001b[43m(\u001b[49m\u001b[43mpitch_variations\u001b[49m\u001b[43m)\u001b[49m \u001b[38;5;241m>\u001b[39m \u001b[38;5;241m0\u001b[39m \u001b[38;5;28;01melse\u001b[39;00m \u001b[38;5;241m0.0\u001b[39m\n",
      "\u001b[0;31mTypeError\u001b[0m: object of type 'float' has no len()"
     ]
    }
   ],
   "source": [
    "metrics = {}\n",
    "\n",
    "# filepath = '../data/split_melody/Real Book/All Of Me_original.csv'\n",
    "\n",
    "all_dfs = []\n",
    "\n",
    "for filepath in filepaths:\n",
    "    df = pd.read_csv(filepath, index_col=0)\n",
    "    \n",
    "    df['measure'] = (df['ticks'] // 48).astype('int')\n",
    "    df = df.rename({\n",
    "        'improvised_pitch': 'pitch', \n",
    "        'improvised_duration': 'duration'\n",
    "    }, axis=1)\n",
    "    df['offset'] = df['offset'].astype('int') \n",
    "    df['ticks'] = df['ticks'].astype('int') \n",
    "    df['duration'] = df['duration'].astype('int') \n",
    "    df['pitch'] = df['pitch'].replace(np.nan, -1).astype('int') \n",
    "    \n",
    "    all_dfs.append(df)\n",
    "\n",
    "    # PCHE\n",
    "    pe1 = objective_metrics.compute_piece_pitch_entropy(df, 1)\n",
    "    pe4 = objective_metrics.compute_piece_pitch_entropy(df, 4)\n",
    "    \n",
    "    # PV\n",
    "    pv4 = objective_metrics.calculate_PV(df[df['pitch'] >= 0], 4)\n",
    "    \n",
    "    # TS\n",
    "    ts8 = objective_metrics.calculate_TS(df, 8)\n",
    "    \n",
    "    # CPR\n",
    "    cpr2 = objective_metrics.calculate_CPR(df, 2)\n",
    "    \n",
    "    # ----------\n",
    "    \n",
    "    # DPR\n",
    "    dpr12 = objective_metrics.calculate_DPR(df, 12)\n",
    "    \n",
    "    # GPS\n",
    "    gs = objective_metrics.compute_piece_groove_similarity(df, max_pairs=np.inf)\n",
    "    \n",
    "    # RV\n",
    "    rv4 = objective_metrics.calculate_RV(df, 4)\n",
    "    \n",
    "    # QR\n",
    "    qr = objective_metrics.calculate_QD(df)\n",
    "    \n",
    "    # ----------\n",
    "    \n",
    "    # HC\n",
    "    hc = objective_metrics.calculate_HC(df[df['pitch'] >= 0])\n",
    "    \n",
    "    # ----------\n",
    "    \n",
    "    # RN \n",
    "#     rm = objective_metrics.calculate_RM(df)\n",
    "\n",
    "    metrics[filepath] = {\n",
    "        'PCHE1': pe1,\n",
    "        'PCHE4': pe4,\n",
    "        'PV4': pv4,\n",
    "        'TS8': ts8,\n",
    "        'CPR2': cpr2,\n",
    "        'DPR12': dpr12,       \n",
    "        'GPS': gs,\n",
    "        'RV4': rv4,\n",
    "        'QR': qr,\n",
    "        'HC': hc,\n",
    "#         'RM': rm\n",
    "    }\n",
    "\n",
    "total_df = pd.concat(all_dfs)  "
   ]
  },
  {
   "cell_type": "code",
   "execution_count": null,
   "id": "7e61e823",
   "metadata": {
    "scrolled": true
   },
   "outputs": [],
   "source": [
    "gen = pd.DataFrame().from_dict(metrics).T\n",
    "gen"
   ]
  },
  {
   "cell_type": "code",
   "execution_count": null,
   "id": "d3dc5a60",
   "metadata": {},
   "outputs": [],
   "source": [
    "gen['HC-m'] = gen['HC'].apply(np.mean)\n",
    "\n",
    "for metric in ['PCHE1', 'PCHE4', 'PV4', 'TS8', 'CPR2', 'DPR12', 'GPS', 'RV4', 'QR', 'HC-m']:\n",
    "    print(f'{metric} - {gen[metric].mean():5.2f} - {gen[metric].std():5.2f}')"
   ]
  },
  {
   "cell_type": "code",
   "execution_count": null,
   "id": "d2e802cd",
   "metadata": {},
   "outputs": [],
   "source": [
    "gen['PV4']"
   ]
  },
  {
   "cell_type": "code",
   "execution_count": null,
   "id": "62a2af91",
   "metadata": {},
   "outputs": [],
   "source": []
  }
 ],
 "metadata": {
  "kernelspec": {
   "display_name": "Python 3 (ipykernel)",
   "language": "python",
   "name": "python3"
  },
  "language_info": {
   "codemirror_mode": {
    "name": "ipython",
    "version": 3
   },
   "file_extension": ".py",
   "mimetype": "text/x-python",
   "name": "python",
   "nbconvert_exporter": "python",
   "pygments_lexer": "ipython3",
   "version": "3.10.0"
  }
 },
 "nbformat": 4,
 "nbformat_minor": 5
}
