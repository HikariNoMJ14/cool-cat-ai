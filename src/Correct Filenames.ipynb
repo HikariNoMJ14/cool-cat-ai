{
 "cells": [
  {
   "cell_type": "code",
   "execution_count": 1,
   "id": "6068216d",
   "metadata": {},
   "outputs": [],
   "source": [
    "import pandas as pd\n",
    "import re\n",
    "from difflib import SequenceMatcher\n",
    "import itertools\n",
    "from string_similarity import similar"
   ]
  },
  {
   "cell_type": "code",
   "execution_count": 10,
   "id": "a8ec7dde",
   "metadata": {},
   "outputs": [],
   "source": [
    "df = pd.read_csv('../data/Thesis - Jazz Dataset/Thesis - Jazz Dataset - v1.0.csv')"
   ]
  },
  {
   "cell_type": "code",
   "execution_count": 11,
   "id": "224403eb",
   "metadata": {},
   "outputs": [
    {
     "name": "stdout",
     "output_type": "stream",
     "text": [
      "(3170, 6)\n"
     ]
    }
   ],
   "source": [
    "print(df.shape)"
   ]
  },
  {
   "cell_type": "code",
   "execution_count": 12,
   "id": "7c3677b1",
   "metadata": {},
   "outputs": [
    {
     "data": {
      "text/html": [
       "<div>\n",
       "<style scoped>\n",
       "    .dataframe tbody tr th:only-of-type {\n",
       "        vertical-align: middle;\n",
       "    }\n",
       "\n",
       "    .dataframe tbody tr th {\n",
       "        vertical-align: top;\n",
       "    }\n",
       "\n",
       "    .dataframe thead th {\n",
       "        text-align: right;\n",
       "    }\n",
       "</style>\n",
       "<table border=\"1\" class=\"dataframe\">\n",
       "  <thead>\n",
       "    <tr style=\"text-align: right;\">\n",
       "      <th></th>\n",
       "      <th>Source</th>\n",
       "      <th>Filename</th>\n",
       "      <th>Song name</th>\n",
       "      <th>Artist</th>\n",
       "      <th>Composer</th>\n",
       "      <th>Original</th>\n",
       "    </tr>\n",
       "  </thead>\n",
       "  <tbody>\n",
       "  </tbody>\n",
       "</table>\n",
       "</div>"
      ],
      "text/plain": [
       "Empty DataFrame\n",
       "Columns: [Source, Filename, Song name, Artist, Composer, Original]\n",
       "Index: []"
      ]
     },
     "execution_count": 12,
     "metadata": {},
     "output_type": "execute_result"
    }
   ],
   "source": [
    "df[df['Song name'].str.contains('\\(')]"
   ]
  },
  {
   "cell_type": "code",
   "execution_count": 13,
   "id": "3ee1b1b8",
   "metadata": {},
   "outputs": [],
   "source": [
    "df['Song name'] = df['Song name'].str.strip()"
   ]
  },
  {
   "cell_type": "code",
   "execution_count": 14,
   "id": "2fa907ed",
   "metadata": {},
   "outputs": [],
   "source": [
    "all_sns = set(df['Song name'].unique())"
   ]
  },
  {
   "cell_type": "code",
   "execution_count": 15,
   "id": "71822e5d",
   "metadata": {
    "scrolled": false
   },
   "outputs": [
    {
     "name": "stdout",
     "output_type": "stream",
     "text": [
      "Blues For Trane   -   Blues For Blanche\n",
      "Love   -   Lover\n",
      "You Don't Know My Name   -   You Don't Know Me\n",
      "So In Love   -   Stone In Love\n",
      "Mordance   -   Moondance\n",
      "You'll Never Know   -   You'll Never Find\n",
      "If I Loved You   -   I Love You\n",
      "Basin Street Blues   -   Beale Street Blues\n",
      "Do Nothing 'Till You Hear From Me   -   Do Nothing 'Til You Hear From Me\n",
      "Funk   -   Fun\n",
      "What Kind Of Fool Am I   -   What A Kind Of Fool\n",
      "Yesterdays   -   Yesterday\n",
      "Lover Come Back To Me   -   Come Back To Me\n",
      "No More Blues   -   1 Moe Blues\n",
      "Serene   -   Serenade\n",
      "Pure Imagination   -   Imagination\n",
      "It's A Wonderful World   -   What A Wonderful World\n",
      "Don't Know Much   -   Don't Know Why\n",
      "Where Is Love   -   Where Is The Love\n",
      "MWV Blues   -   GM Blues\n",
      "Tristeza   -   Triste\n",
      "You Are So Beautiful   -   You Are Too Beautiful\n",
      "Swing, Swing, Swing   -   Sing, Sing, Sing\n",
      "Bitter Moon   -   Sister Moon\n",
      "Chick   -   Chicken\n",
      "Light Years   -   Light Year\n",
      "No Moe   -   No More\n",
      "We Will Meet Again   -   We'll Meet Again\n",
      "Summer Wind   -   Summer Wine\n",
      "Blue Room   -   Blue Rondo\n",
      "In The Dawn   -   In The Rain\n",
      "Inside   -   Insider\n",
      "Over The Rainbow   -   Over The Rain\n",
      "Image   -   Imagine\n",
      "Brazilian Like   -   Brazilian Suite\n",
      "Blue Moon   -   Blue Monk\n",
      "Whisper It   -   Whisper Not\n",
      "All Of You   -   All Over You\n",
      "Moonlight   -   Moonlighting\n",
      "Love Is Stronger Than Justice   -   Love Is Stronger Than Pride\n",
      "Daydream   -   Day Dream\n",
      "Night Train   -   Freight Train\n",
      "I'm Getting Sentimental Over You   -   I'm Gettin' Sentimental Over You\n",
      "Kiss Of Fire   -   Kiss Of Life\n",
      "Blues For Blanche   -   Blues For Basie\n",
      "Blues For Blanche   -   Blues For Alice\n",
      "Blues For Blanche   -   Blues For Bela\n",
      "Broadway   -   On Broadway\n",
      "On Green Dolphin Street   -   Green Dolphin Street\n",
      "Secret Love   -   Sweet Love\n",
      "BTR Blues   -   Bb Blues\n",
      "We'll Be Together Again   -   Well Be Together\n",
      "Early Morning Mood   -   Early Morning Rock\n",
      "Dreamy   -   Dreams\n",
      "I Don't Know Why   -   Don't Know Why\n",
      "How Deep Is The Ocean   -   How Deep Is the Ocean\n",
      "Blues For Basie   -   Blues For Bela\n",
      "Lazy Bird   -   Lady Bird\n",
      "Lazy Bird   -   Lazybird\n",
      "Bolivia   -   Bolivar\n",
      "Another Day   -   Just Another Day\n",
      "Trane's Blues   -   Barney's Blues\n"
     ]
    }
   ],
   "source": [
    "for sn1, sn2 in list(itertools.combinations(all_sns, 2)):    \n",
    "    sim = similar(sn1, sn2)\n",
    "    \n",
    "    if sim > 0.8:\n",
    "        print(sn1 + '   -   ' + sn2)"
   ]
  },
  {
   "cell_type": "code",
   "execution_count": 16,
   "id": "660d3802",
   "metadata": {},
   "outputs": [],
   "source": [
    "def similar(a, b):\n",
    "    return SequenceMatcher(None, a, b).ratio()"
   ]
  },
  {
   "cell_type": "code",
   "execution_count": 44,
   "id": "a1cd2d0f",
   "metadata": {},
   "outputs": [],
   "source": [
    "def upper_repl(match):\n",
    "    return match.group(1).lower()"
   ]
  },
  {
   "cell_type": "code",
   "execution_count": 18,
   "id": "25a7a43c",
   "metadata": {},
   "outputs": [],
   "source": [
    "old_version = '1.1'\n",
    "new_version = '1.0'\n",
    "\n",
    "old_df = pd.read_csv(f'../data/Thesis - Jazz Dataset/Thesis - Jazz Dataset - v{old_version}.csv')\n",
    "new_df = pd.read_csv(f'../data/Thesis - Jazz Dataset/Thesis - Jazz Dataset - v{new_version}.csv')"
   ]
  },
  {
   "cell_type": "code",
   "execution_count": 19,
   "id": "f79af698",
   "metadata": {},
   "outputs": [
    {
     "name": "stdout",
     "output_type": "stream",
     "text": [
      "(3170, 6) (3170, 6)\n"
     ]
    }
   ],
   "source": [
    "print(old_df.shape, new_df.shape)"
   ]
  },
  {
   "cell_type": "code",
   "execution_count": 22,
   "id": "d78763f0",
   "metadata": {},
   "outputs": [],
   "source": [
    "aaa = pd.concat([old_df, new_df], axis=1)"
   ]
  },
  {
   "cell_type": "code",
   "execution_count": 26,
   "id": "c8f73529",
   "metadata": {},
   "outputs": [],
   "source": [
    "aaa.columns = ['o Source', 'o Filename', 'o Song name', 'o Artist', 'o Composer', 'n Original',\n",
    "       'n Source', 'n Filename', 'n Song name', 'n Artist', 'n Composer', 'n Original']"
   ]
  },
  {
   "cell_type": "code",
   "execution_count": 34,
   "id": "bd4df8e4",
   "metadata": {},
   "outputs": [],
   "source": [
    "diff = aaa[aaa['o Filename'] != aaa['n Filename']]"
   ]
  },
  {
   "cell_type": "code",
   "execution_count": 43,
   "id": "6cd607fb",
   "metadata": {
    "scrolled": true
   },
   "outputs": [
    {
     "data": {
      "text/html": [
       "<div>\n",
       "<style scoped>\n",
       "    .dataframe tbody tr th:only-of-type {\n",
       "        vertical-align: middle;\n",
       "    }\n",
       "\n",
       "    .dataframe tbody tr th {\n",
       "        vertical-align: top;\n",
       "    }\n",
       "\n",
       "    .dataframe thead th {\n",
       "        text-align: right;\n",
       "    }\n",
       "</style>\n",
       "<table border=\"1\" class=\"dataframe\">\n",
       "  <thead>\n",
       "    <tr style=\"text-align: right;\">\n",
       "      <th></th>\n",
       "      <th>o Filename</th>\n",
       "      <th>n Filename</th>\n",
       "    </tr>\n",
       "  </thead>\n",
       "  <tbody>\n",
       "    <tr>\n",
       "      <th>2490</th>\n",
       "      <td>Coleman Hawkins - It's Only A Papermoon</td>\n",
       "      <td>Coleman Hawkins - It's Only A Paper Moon</td>\n",
       "    </tr>\n",
       "    <tr>\n",
       "      <th>2528</th>\n",
       "      <td>Dizzy Gillespie - Blue'n Boogie</td>\n",
       "      <td>Dizzy Gillespie - Blue 'N' Boogie</td>\n",
       "    </tr>\n",
       "    <tr>\n",
       "      <th>2722</th>\n",
       "      <td>Milt Jackson - Bag's Groove</td>\n",
       "      <td>Milt Jackson - Bags' Groove</td>\n",
       "    </tr>\n",
       "    <tr>\n",
       "      <th>2753</th>\n",
       "      <td>Phil Woods - Cotton Tail</td>\n",
       "      <td>Phil Woods - Cottontail</td>\n",
       "    </tr>\n",
       "    <tr>\n",
       "      <th>2839</th>\n",
       "      <td>Wynton Marsalis - Cherokee II</td>\n",
       "      <td>Wynton Marsalis - Cherokee (2)</td>\n",
       "    </tr>\n",
       "    <tr>\n",
       "      <th>2840</th>\n",
       "      <td>Wynton Marsalis - Cherokee</td>\n",
       "      <td>Wynton Marsalis - Cherokee (1)</td>\n",
       "    </tr>\n",
       "  </tbody>\n",
       "</table>\n",
       "</div>"
      ],
      "text/plain": [
       "                                   o Filename  \\\n",
       "2490  Coleman Hawkins - It's Only A Papermoon   \n",
       "2528          Dizzy Gillespie - Blue'n Boogie   \n",
       "2722              Milt Jackson - Bag's Groove   \n",
       "2753                 Phil Woods - Cotton Tail   \n",
       "2839            Wynton Marsalis - Cherokee II   \n",
       "2840               Wynton Marsalis - Cherokee   \n",
       "\n",
       "                                    n Filename  \n",
       "2490  Coleman Hawkins - It's Only A Paper Moon  \n",
       "2528         Dizzy Gillespie - Blue 'N' Boogie  \n",
       "2722               Milt Jackson - Bags' Groove  \n",
       "2753                   Phil Woods - Cottontail  \n",
       "2839            Wynton Marsalis - Cherokee (2)  \n",
       "2840            Wynton Marsalis - Cherokee (1)  "
      ]
     },
     "execution_count": 43,
     "metadata": {},
     "output_type": "execute_result"
    }
   ],
   "source": [
    "diff[diff['o Source'] == 'Weimar DB'][['o Filename', 'n Filename']]"
   ]
  },
  {
   "cell_type": "code",
   "execution_count": 63,
   "id": "51a5ebbd",
   "metadata": {},
   "outputs": [],
   "source": [
    "has_impro_old = pd.read_csv('../data/intermediate_csvs/has_original_v0.8.csv')\n",
    "has_impro_new = pd.read_csv('../data/intermediate_csvs/has_original_v1.1.csv')"
   ]
  },
  {
   "cell_type": "code",
   "execution_count": 64,
   "id": "a57540c8",
   "metadata": {},
   "outputs": [],
   "source": [
    "old_fn = set(has_impro_old['Source'] + ' - ' + has_impro_old['Filename'])"
   ]
  },
  {
   "cell_type": "code",
   "execution_count": 65,
   "id": "3ba2cc54",
   "metadata": {},
   "outputs": [],
   "source": [
    "new_fn = set(has_impro_new['Source'] + ' - ' + has_impro_new['Filename'])"
   ]
  },
  {
   "cell_type": "code",
   "execution_count": 66,
   "id": "7a488011",
   "metadata": {},
   "outputs": [
    {
     "name": "stdout",
     "output_type": "stream",
     "text": [
      "458 458\n"
     ]
    }
   ],
   "source": [
    "print(len(old_fn), len(new_fn))"
   ]
  },
  {
   "cell_type": "code",
   "execution_count": 56,
   "id": "b56f1a8e",
   "metadata": {
    "scrolled": true
   },
   "outputs": [
    {
     "data": {
      "text/plain": [
       "{'Doug McKenzie - All The Things You Are (3)',\n",
       " 'Doug McKenzie - Come Rain Or Come Shine (1)',\n",
       " 'Doug McKenzie - Come Rain Or Come Shine (2)',\n",
       " \"Doug McKenzie - I'm Confessin' That I Love You\",\n",
       " 'Doug McKenzie - Just The Way You Look Tonight',\n",
       " 'Doug McKenzie - Long Ago And Far Away',\n",
       " \"Doug McKenzie - Peri's Scope\",\n",
       " 'Doug McKenzie - Pick Yourself Up',\n",
       " 'Doug McKenzie - Recado Bossa Nova',\n",
       " 'Doug McKenzie - Spring Is Here',\n",
       " 'Doug McKenzie - The Days Of Wine And Roses',\n",
       " 'Doug McKenzie - You Are Too Beautiful',\n",
       " 'Jazz-Midi - A Foggy Day',\n",
       " 'Jazz-Midi - A Foggy Day (2)',\n",
       " 'Jazz-Midi - April In Paris',\n",
       " 'Jazz-Midi - Eighty-One',\n",
       " \"Jazz-Midi - Gettin' Sentimental Over You\",\n",
       " 'Jazz-Midi - In A Sentimental Mood',\n",
       " 'Jazz-Midi - Just The Way You Look Tonight',\n",
       " 'Jazz-Midi - Just The Way You Look Tonight (2)',\n",
       " 'Jazz-Midi - Moon River',\n",
       " 'Jazz-Midi - Sweet Georgia Brown',\n",
       " 'Jazz-Midi - The Nearness Of You',\n",
       " \"Jazz-Midi - They Can't Take That Away From Me (2)\",\n",
       " 'Jazz-Midi - Watermelon Man',\n",
       " \"Jazz-Midi - We'll Be Together Again\",\n",
       " 'JazzPage - A Night In Tunisia',\n",
       " \"JazzPage - Ain't Misbehavin'\",\n",
       " 'JazzPage - Criss-Cross',\n",
       " \"JazzPage - Do Nothin' 'Til You Hear From Me\",\n",
       " \"JazzPage - I've Grown Accustomed To Her Face\",\n",
       " \"JazzPage - I've Grown Accustomed To Her Face (1)\",\n",
       " \"JazzPage - It's All Right With Me\",\n",
       " 'JazzPage - My Favorite Things (1)',\n",
       " 'JazzPage - Our Love Is Here To Stay (2)',\n",
       " 'JazzPage - Palladium',\n",
       " 'JazzPage - Straight, No Chaser',\n",
       " 'JazzPage - Straight, No Chaser (1)',\n",
       " 'JazzPage - The Days Of Wine And Roses',\n",
       " \"JazzPage - Well, You Needn't\",\n",
       " \"MidKar - Bags' Groove\",\n",
       " 'MidKar - East Of The Sun',\n",
       " 'MidKar - Gentle Rain',\n",
       " \"MidKar - Gettin' Sentimental Over You\",\n",
       " \"MidKar - I Don't Know Why\",\n",
       " \"MidKar - I'm Confessin' That I Love You\",\n",
       " 'MidKar - Lady Is A Tramp',\n",
       " 'MidKar - My Favorite Things',\n",
       " 'MidKar - New York, New York',\n",
       " 'MidKar - Someone To Watch Over Me',\n",
       " \"MidKar - Swingin' Shepherd Blues\",\n",
       " \"MidKar - Well, You Needn't\",\n",
       " 'Oocities - All Of Me',\n",
       " 'Oocities - Another You',\n",
       " 'Oocities - Footprints',\n",
       " 'Oocities - Give My Regards To Broadway',\n",
       " 'Oocities - My Favorite Things',\n",
       " 'Oocities - New York, New York (1)',\n",
       " 'Oocities - New York, New York (2)',\n",
       " 'Oocities - Night And Day',\n",
       " 'Oocities - So What',\n",
       " 'Oocities - Take Me Out To The Ball Game',\n",
       " 'Oocities - The Days Of Wine And Roses',\n",
       " 'Oocities - When Sunny Gets Blue',\n",
       " 'Oocities - You Took Advantage Of Me',\n",
       " 'Weimar DB - Art Pepper - In A Mellow Tone',\n",
       " 'Weimar DB - Herbie Hancock - Dolores',\n",
       " 'Weimar DB - John Coltrane - Impressions',\n",
       " 'Weimar DB - John Coltrane - Impressions (2)',\n",
       " 'Weimar DB - John Coltrane - My Favorite Things (1)',\n",
       " 'Weimar DB - John Coltrane - My Favorite Things (2)',\n",
       " 'Weimar DB - Miles Davis - Dolores',\n",
       " 'Weimar DB - Miles Davis - E.S.P.',\n",
       " 'Weimar DB - Miles Davis - Eighty-One',\n",
       " \"Weimar DB - Milt Jackson - Bags' Groove\",\n",
       " 'Weimar DB - Phil Woods - Cottontail',\n",
       " 'Weimar DB - Wayne Shorter - Dolores',\n",
       " 'Weimar DB - Wayne Shorter - E.S.P.',\n",
       " 'Weimar DB - Wayne Shorter - Eighty-One'}"
      ]
     },
     "execution_count": 56,
     "metadata": {},
     "output_type": "execute_result"
    }
   ],
   "source": [
    "old_fn.difference(new_fn)"
   ]
  },
  {
   "cell_type": "code",
   "execution_count": 109,
   "id": "d7f9c2e0",
   "metadata": {},
   "outputs": [],
   "source": [
    "import os\n",
    "from glob import glob\n",
    "import re\n",
    "\n",
    "\n",
    "jazz_standard_files = [y for x in os.walk('../data/Unique Raw Data/Jazz Standards') for y in glob(os.path.join(x[0], '*.mid'))]\n",
    "other_files = [y for x in os.walk('../data/Unique Raw Data') for y in glob(os.path.join(x[0], '*.mid')) if 'Jazz Standards' not in y]\n",
    "print(len(jazz_standard_files), len(other_files))\n",
    "\n",
    "for fn1, fn2 in list(itertools.product(jazz_standard_files, other_files)):  \n",
    "    sn1 = fn1.split('/')[-1].replace('.mid', '')\n",
    "    sn2 = fn2.split('/')[-1].replace('.mid', '')\n",
    "    \n",
    "    sn1  =re.sub(r' \\([0-9]\\)', '', sn1)\n",
    "    sn2  =re.sub(r' \\([0-9]\\)', '', sn2)\n",
    "    \n",
    "    sim = similar(sn1, sn2)\n",
    "    \n",
    "    if sim > 0.8 and sim < 1:\n",
    "        print(sn1 + '   -   ' + sn2)"
   ]
  },
  {
   "cell_type": "code",
   "execution_count": 124,
   "id": "6e9c4c24",
   "metadata": {},
   "outputs": [
    {
     "name": "stdout",
     "output_type": "stream",
     "text": [
      "Doug McKenzie Secret Love   -   Jazz-Midi Sweet Love\n",
      "Doug McKenzie Secret Love   -   MidKar Sweet Love\n",
      "Doug McKenzie So In Love   -   Jazz-Midi Stone In Love\n",
      "Doug McKenzie So In Love   -   Jazz-Midi Stone In Love\n",
      "Doug McKenzie Summer Wind   -   Jazz-Midi Summer Wine\n",
      "Doug McKenzie If I Loved You   -   Doug McKenzie I Love You\n",
      "Doug McKenzie If I Loved You   -   Real Book I Love You\n",
      "Doug McKenzie If I Loved You   -   Weimar DB I Love You\n",
      "Doug McKenzie Over The Rain   -   Doug McKenzie Over The Rainbow\n",
      "Doug McKenzie Over The Rain   -   Jazz-Midi Over The Rainbow\n",
      "Doug McKenzie Over The Rain   -   MidKar Over The Rainbow\n",
      "Doug McKenzie Over The Rain   -   Oocities Over The Rainbow\n",
      "Doug McKenzie Pure Imagination   -   Real Book Imagination\n",
      "Doug McKenzie Pure Imagination   -   Weimar DB Imagination\n",
      "Doug McKenzie Where Is Love   -   Jazz-Midi Where Is The Love\n",
      "Doug McKenzie Yesterday   -   Doug McKenzie Yesterdays\n",
      "Doug McKenzie Yesterday   -   Jazz-Midi Yesterdays\n",
      "Doug McKenzie Yesterday   -   Real Book Yesterdays\n",
      "Doug McKenzie Yesterday   -   Weimar DB Yesterdays\n",
      "Doug McKenzie Yesterdays   -   Jazz-Midi Yesterday\n",
      "Doug McKenzie Yesterdays   -   MidKar Yesterday\n",
      "Doug McKenzie Blue Room   -   Jazz Standards Blue Rondo\n",
      "Doug McKenzie Brazilian Suite   -   MidKar Brazilian Like\n",
      "Jazz Standards Bb Blues   -   Oocities BTR Blues\n",
      "Jazz Standards Chicken   -   Oocities Chick\n",
      "Jazz Standards Blue Monk   -   MidKar Blue Moon\n",
      "Jazz Standards Blue Rondo   -   MidKar Blue Room\n",
      "Jazz Standards Blue Rondo   -   Real Book Blue Room\n",
      "Jazz Standards Blues For Alice   -   Weimar DB Blues For Blanche\n",
      "Jazz-Midi Just Another Day   -   Jazz-Midi Another Day\n",
      "Jazz-Midi Kiss Of Fire   -   Jazz-Midi Kiss Of Life\n",
      "Jazz-Midi Kiss Of Fire   -   MidKar Kiss Of Life\n",
      "Jazz-Midi Secret Love   -   Jazz-Midi Sweet Love\n",
      "Jazz-Midi Secret Love   -   MidKar Sweet Love\n",
      "Jazz-Midi In The Rain   -   Jazz-Midi In The Dawn\n",
      "Jazz-Midi Bitter Moon   -   Jazz-Midi Sister Moon\n",
      "Jazz-Midi Freight Train   -   MidKar Night Train\n",
      "Jazz-Midi Sweet Love   -   JazzPage Secret Love\n",
      "Jazz-Midi Sweet Love   -   Oocities Secret Love\n",
      "Jazz-Midi Sweet Love   -   Real Book Secret Love\n",
      "Jazz-Midi Sweet Love   -   Weimar DB Secret Love\n",
      "Jazz-Midi Imagine   -   Oocities Image\n",
      "Jazz-Midi Mordance   -   Jazz-Midi Moondance\n",
      "Jazz-Midi Mordance   -   MidKar Moondance\n",
      "Jazz-Midi Mordance   -   Oocities Moondance\n",
      "Jazz-Midi Yesterday   -   Jazz-Midi Yesterdays\n",
      "Jazz-Midi Yesterday   -   Real Book Yesterdays\n",
      "Jazz-Midi Yesterday   -   Weimar DB Yesterdays\n",
      "Jazz-Midi Yesterdays   -   MidKar Yesterday\n",
      "Jazz-Midi You Don't Know Me   -   Jazz-Midi You Don't Know My Name\n",
      "Jazz-Midi Stone In Love   -   MidKar So In Love\n",
      "Jazz-Midi Summer Wind   -   Jazz-Midi Summer Wine\n",
      "Jazz-Midi Love Is Stronger Than Justice   -   MidKar Love Is Stronger Than Pride\n",
      "Jazz-Midi Love   -   JazzPage Lover\n",
      "Jazz-Midi All Over You   -   MidKar All Of You\n",
      "Jazz-Midi What A Kind Of Fool   -   Jazz-Midi What Kind Of Fool Am I\n",
      "Jazz-Midi What A Wonderful World   -   Weimar DB It's A Wonderful World\n",
      "Jazz-Midi What A Wonderful World   -   Weimar DB It's A Wonderful World\n",
      "Jazz-Midi Inside   -   Oocities Insider\n",
      "Jazz-Midi Dreams   -   Oocities Dreamy\n",
      "Jazz-Midi You'll Never Find   -   Jazz-Midi You'll Never Know\n",
      "Jazz-Midi You'll Never Find   -   MidKar You'll Never Know\n",
      "JazzPage No More Blues   -   Oocities 1 Moe Blues\n",
      "JazzPage Bolivia   -   Real Book Bolivar\n",
      "JazzPage MWV Blues   -   Oocities GM Blues\n",
      "JazzPage Beale Street Blues   -   Weimar DB Basin Street Blues\n",
      "JazzPage Blue Monk   -   MidKar Blue Moon\n",
      "JazzPage Blue Monk   -   MidKar Blue Moon\n",
      "JazzPage Blues For Alice   -   Weimar DB Blues For Blanche\n",
      "JazzPage Blues For Basie   -   Weimar DB Blues For Blanche\n",
      "JazzPage Blues For Basie   -   Weimar DB Blues For Bela\n",
      "JazzPage Blues For Trane   -   Weimar DB Blues For Blanche\n",
      "JazzPage Secret Love   -   MidKar Sweet Love\n",
      "JazzPage Sing, Sing, Sing   -   MidKar Swing, Swing, Swing\n",
      "JazzPage Triste   -   JazzPage Tristeza\n",
      "JazzPage Whisper Not   -   MidKar Whisper It\n",
      "JazzPage Whisper Not   -   MidKar Whisper It\n",
      "JazzPage Bb Blues   -   Oocities BTR Blues\n",
      "MidKar Lover, Come Back To Me   -   MidKar Come Back To Me\n",
      "MidKar Sing, Sing, Sing   -   MidKar Swing, Swing, Swing\n",
      "MidKar Blue Moon   -   Real Book Blue Monk\n",
      "MidKar Brazilian Like   -   MidKar Brazilian Suite\n",
      "MidKar Broadway   -   MidKar On Broadway\n",
      "MidKar Broadway   -   MidKar On Broadway\n",
      "MidKar Barney's Blues   -   Weimar DB Trane's Blues\n",
      "MidKar Barney's Blues   -   Weimar DB Trane's Blues\n",
      "MidKar On Broadway   -   Oocities Broadway\n",
      "MidKar Moonlight   -   MidKar Moonlighting\n",
      "MidKar Sweet Love   -   Oocities Secret Love\n",
      "MidKar Sweet Love   -   Real Book Secret Love\n",
      "MidKar Sweet Love   -   Weimar DB Secret Love\n",
      "MidKar Yesterday   -   Real Book Yesterdays\n",
      "MidKar Yesterday   -   Weimar DB Yesterdays\n",
      "Oocities Serenade   -   Weimar DB Serene\n",
      "Oocities Trio #3   -   Oocities Trio #4\n",
      "Oocities Trio #3   -   Oocities Trio #5\n",
      "Oocities Trio #3   -   Oocities Trio #6\n",
      "Oocities Trio #4   -   Oocities Trio #5\n",
      "Oocities Trio #4   -   Oocities Trio #6\n",
      "Oocities Trio #5   -   Oocities Trio #6\n",
      "Oocities Fun   -   Oocities Funk\n",
      "Oocities No More   -   Weimar DB No Moe\n",
      "Real Book Blues For Alice   -   Weimar DB Blues For Blanche\n",
      "Weimar DB Blues For Blanche   -   Weimar DB Blues For Bela\n",
      "Weimar DB Blues For Blanche   -   Weimar DB Blues For Alice\n",
      "Weimar DB Early Morning Mood   -   Weimar DB Early Morning Rock\n"
     ]
    }
   ],
   "source": [
    "all_files = [y for x in os.walk('../data/Unique Raw Data') for y in glob(os.path.join(x[0], '*.mid'))]\n",
    "all_songnames = [(x.split('/')[-2], \n",
    "                 re.sub(r'.* - (.*)', r'\\1', \n",
    "                        re.sub(r' \\([0-9]\\)', '', \n",
    "                               x.split('/')[-1].replace('.mid', '')\n",
    "                          )\n",
    "                   )\n",
    "                 ) for x in all_files]\n",
    "\n",
    "# for song in all_songnames:\n",
    "#     print(song)\n",
    "\n",
    "for sn1, sn2 in list(itertools.combinations(all_songnames, 2)):  \n",
    "    sim = similar(sn1[1], sn2[1])\n",
    "    \n",
    "    if sim > 0.8 and sim < 1:\n",
    "        print(f'{sn1[0]} {sn1[1]}   -   {sn2[0]} {sn2[1]}')"
   ]
  },
  {
   "cell_type": "code",
   "execution_count": null,
   "id": "62170d8c",
   "metadata": {},
   "outputs": [],
   "source": []
  }
 ],
 "metadata": {
  "kernelspec": {
   "display_name": "Python 3 (ipykernel)",
   "language": "python",
   "name": "python3"
  },
  "language_info": {
   "codemirror_mode": {
    "name": "ipython",
    "version": 3
   },
   "file_extension": ".py",
   "mimetype": "text/x-python",
   "name": "python",
   "nbconvert_exporter": "python",
   "pygments_lexer": "ipython3",
   "version": "3.8.10"
  }
 },
 "nbformat": 4,
 "nbformat_minor": 5
}
