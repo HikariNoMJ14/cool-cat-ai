{
 "cells": [
  {
   "cell_type": "code",
   "execution_count": 63,
   "id": "86215123",
   "metadata": {},
   "outputs": [],
   "source": [
    "from utils import extract_melody_by_index, extract_melody_by_name"
   ]
  },
  {
   "cell_type": "code",
   "execution_count": 2,
   "id": "2329faf6",
   "metadata": {},
   "outputs": [
    {
     "name": "stdout",
     "output_type": "stream",
     "text": [
      "\n"
     ]
    }
   ],
   "source": [
    "extract_melody_by_index('../data/Complete Examples/Doug McKenzie/All The Things You Are (2).mid', 0)"
   ]
  },
  {
   "cell_type": "code",
   "execution_count": 3,
   "id": "1144ab8d",
   "metadata": {},
   "outputs": [
    {
     "name": "stdout",
     "output_type": "stream",
     "text": [
      "MIDI 1\n"
     ]
    }
   ],
   "source": [
    "extract_melody_by_index('../data/Complete Examples/Doug McKenzie/Alone Together.mid', 0)"
   ]
  },
  {
   "cell_type": "code",
   "execution_count": 4,
   "id": "75da8427",
   "metadata": {},
   "outputs": [
    {
     "name": "stdout",
     "output_type": "stream",
     "text": [
      "\n"
     ]
    }
   ],
   "source": [
    "extract_melody_by_index('../data/Complete Examples/Doug McKenzie/In A Sentimental Mood (1).mid', 0)"
   ]
  },
  {
   "cell_type": "code",
   "execution_count": 5,
   "id": "4d7ead7d",
   "metadata": {},
   "outputs": [
    {
     "name": "stdout",
     "output_type": "stream",
     "text": [
      "\n"
     ]
    }
   ],
   "source": [
    "extract_melody_by_index('../data/Complete Examples/Doug McKenzie/Spring Is Here (1).mid', 0)"
   ]
  },
  {
   "cell_type": "code",
   "execution_count": 6,
   "id": "fd6b9501",
   "metadata": {},
   "outputs": [
    {
     "name": "stdout",
     "output_type": "stream",
     "text": [
      "\n"
     ]
    }
   ],
   "source": [
    "extract_melody_by_index(\"../data/Complete Examples/Doug McKenzie/You Don't Know What Love Is.mid\", 0)"
   ]
  },
  {
   "cell_type": "code",
   "execution_count": 7,
   "id": "7aca579d",
   "metadata": {},
   "outputs": [
    {
     "name": "stdout",
     "output_type": "stream",
     "text": [
      "Vibes\n"
     ]
    }
   ],
   "source": [
    "extract_melody_by_index(\"../data/Complete Examples/Jazz-Midi/All Of Me.mid\", 1)"
   ]
  },
  {
   "cell_type": "code",
   "execution_count": 8,
   "id": "5666ef60",
   "metadata": {},
   "outputs": [
    {
     "name": "stdout",
     "output_type": "stream",
     "text": [
      "1st Solo / Vibes\n"
     ]
    }
   ],
   "source": [
    "extract_melody_by_index(\"../data/Complete Examples/Jazz-Midi/But Not For Me.mid\", 4)"
   ]
  },
  {
   "cell_type": "code",
   "execution_count": 9,
   "id": "3d1b22c5",
   "metadata": {},
   "outputs": [
    {
     "name": "stdout",
     "output_type": "stream",
     "text": [
      "2nd Solo / Vibes\n"
     ]
    }
   ],
   "source": [
    "extract_melody_by_index(\"../data/Complete Examples/Jazz-Midi/But Not For Me.mid\", 5)"
   ]
  },
  {
   "cell_type": "code",
   "execution_count": 10,
   "id": "c10084b2",
   "metadata": {},
   "outputs": [
    {
     "name": "stdout",
     "output_type": "stream",
     "text": [
      "Solo / Jazz guitar\n"
     ]
    }
   ],
   "source": [
    "extract_melody_by_index(\"../data/Complete Examples/Jazz-Midi/I'll Be Seeing You.mid\", 4)"
   ]
  },
  {
   "cell_type": "code",
   "execution_count": 11,
   "id": "dbe64920",
   "metadata": {},
   "outputs": [
    {
     "name": "stdout",
     "output_type": "stream",
     "text": [
      "Solo /(diminished) Jazz guitar\n"
     ]
    }
   ],
   "source": [
    "extract_melody_by_index(\"../data/Complete Examples/Jazz-Midi/I'll Be Seeing You.mid\", 5)"
   ]
  },
  {
   "cell_type": "code",
   "execution_count": 12,
   "id": "8a6dda59",
   "metadata": {},
   "outputs": [
    {
     "name": "stdout",
     "output_type": "stream",
     "text": [
      "THE WAY YOU LOOK \n"
     ]
    }
   ],
   "source": [
    "extract_melody_by_index(\"../data/Complete Examples/Jazz-Midi/Just The Way You Look Tonight.mid\", 7)"
   ]
  },
  {
   "cell_type": "code",
   "execution_count": 13,
   "id": "74cd6c8c",
   "metadata": {},
   "outputs": [
    {
     "name": "stdout",
     "output_type": "stream",
     "text": [
      "More\n"
     ]
    }
   ],
   "source": [
    "extract_melody_by_index(\"../data/Complete Examples/Jazz-Midi/More.mid\", 8)"
   ]
  },
  {
   "cell_type": "code",
   "execution_count": 14,
   "id": "800507ae",
   "metadata": {},
   "outputs": [
    {
     "name": "stdout",
     "output_type": "stream",
     "text": [
      "\n"
     ]
    }
   ],
   "source": [
    "extract_melody_by_index(\"../data/Complete Examples/Jazz-Midi/Someone To Watch Over Me.mid\", 2)"
   ]
  },
  {
   "cell_type": "code",
   "execution_count": 66,
   "id": "b7561be9",
   "metadata": {},
   "outputs": [
    {
     "name": "stdout",
     "output_type": "stream",
     "text": [
      "VIBES\n"
     ]
    }
   ],
   "source": [
    "extract_melody_by_index(\"../data/Complete Examples/Jazz-Midi/Watermelon Man.mid\", 6)"
   ]
  },
  {
   "cell_type": "code",
   "execution_count": 16,
   "id": "2f77d6ce",
   "metadata": {},
   "outputs": [
    {
     "name": "stdout",
     "output_type": "stream",
     "text": [
      "\n"
     ]
    }
   ],
   "source": [
    "extract_melody_by_index(\"../data/Complete Examples/Jazz-Midi/We'll Be Together Again.mid\", 2)"
   ]
  },
  {
   "cell_type": "code",
   "execution_count": 17,
   "id": "a75d7f52",
   "metadata": {},
   "outputs": [
    {
     "name": "stdout",
     "output_type": "stream",
     "text": [
      "A Night in Tunisia\n"
     ]
    }
   ],
   "source": [
    "extract_melody_by_index(\"../data/Complete Examples/JazzPage/A Night In Tunisia.mid\", 2)"
   ]
  },
  {
   "cell_type": "code",
   "execution_count": 18,
   "id": "9753806c",
   "metadata": {},
   "outputs": [
    {
     "name": "stdout",
     "output_type": "stream",
     "text": [
      "Piano RH\n"
     ]
    }
   ],
   "source": [
    "extract_melody_by_index(\"../data/Complete Examples/JazzPage/Alice In Wonderland.mid\", 1)"
   ]
  },
  {
   "cell_type": "code",
   "execution_count": 19,
   "id": "76dac706",
   "metadata": {},
   "outputs": [
    {
     "name": "stdout",
     "output_type": "stream",
     "text": [
      "Electric Jazz Guitar\n"
     ]
    }
   ],
   "source": [
    "extract_melody_by_index(\"../data/Complete Examples/JazzPage/All Of Me (1).mid\", 1)"
   ]
  },
  {
   "cell_type": "code",
   "execution_count": 20,
   "id": "4fdd3ec9",
   "metadata": {},
   "outputs": [
    {
     "name": "stdout",
     "output_type": "stream",
     "text": [
      "\n"
     ]
    }
   ],
   "source": [
    "extract_melody_by_index(\"../data/Complete Examples/JazzPage/All The Things You Are.mid\", 1)"
   ]
  },
  {
   "cell_type": "code",
   "execution_count": 21,
   "id": "8af99ba1",
   "metadata": {},
   "outputs": [
    {
     "name": "stdout",
     "output_type": "stream",
     "text": [
      "\n"
     ]
    }
   ],
   "source": [
    "extract_melody_by_index(\"../data/Complete Examples/JazzPage/Bewitched.mid\", 1)"
   ]
  },
  {
   "cell_type": "code",
   "execution_count": 22,
   "id": "37f495fe",
   "metadata": {},
   "outputs": [
    {
     "name": "stdout",
     "output_type": "stream",
     "text": [
      "Blue In Green\n"
     ]
    }
   ],
   "source": [
    "extract_melody_by_index(\"../data/Complete Examples/JazzPage/Blue In Green.mid\", 1)"
   ]
  },
  {
   "cell_type": "code",
   "execution_count": 23,
   "id": "7df27b19",
   "metadata": {},
   "outputs": [
    {
     "name": "stdout",
     "output_type": "stream",
     "text": [
      "SAX SOLO\n"
     ]
    }
   ],
   "source": [
    "extract_melody_by_index(\"../data/Complete Examples/JazzPage/Blue Train.mid\", 8)"
   ]
  },
  {
   "cell_type": "code",
   "execution_count": 24,
   "id": "ac17b721",
   "metadata": {},
   "outputs": [
    {
     "name": "stdout",
     "output_type": "stream",
     "text": [
      "TROMB/SOLO\n"
     ]
    }
   ],
   "source": [
    "extract_melody_by_index(\"../data/Complete Examples/JazzPage/Blue Train.mid\", 9)"
   ]
  },
  {
   "cell_type": "code",
   "execution_count": 25,
   "id": "7cfa3524",
   "metadata": {},
   "outputs": [
    {
     "name": "stdout",
     "output_type": "stream",
     "text": [
      "TROMB/SOLO\n"
     ]
    }
   ],
   "source": [
    "extract_melody_by_index(\"../data/Complete Examples/JazzPage/Blue Train.mid\", 10)"
   ]
  },
  {
   "cell_type": "code",
   "execution_count": 26,
   "id": "5ef58626",
   "metadata": {},
   "outputs": [
    {
     "name": "stdout",
     "output_type": "stream",
     "text": [
      "VIBES\n"
     ]
    }
   ],
   "source": [
    "extract_melody_by_index(\"../data/Complete Examples/JazzPage/Blue Train.mid\", 11)"
   ]
  },
  {
   "cell_type": "code",
   "execution_count": 27,
   "id": "2eab67cf",
   "metadata": {},
   "outputs": [
    {
     "name": "stdout",
     "output_type": "stream",
     "text": [
      "Channel 3\n"
     ]
    }
   ],
   "source": [
    "extract_melody_by_index(\"../data/Complete Examples/JazzPage/Blues For Alice.mid\", 2)"
   ]
  },
  {
   "cell_type": "code",
   "execution_count": 28,
   "id": "49e4bfba",
   "metadata": {},
   "outputs": [
    {
     "name": "stdout",
     "output_type": "stream",
     "text": [
      "\n"
     ]
    }
   ],
   "source": [
    "extract_melody_by_index(\"../data/Complete Examples/JazzPage/Bye Bye Blackbird.mid\", 1)"
   ]
  },
  {
   "cell_type": "code",
   "execution_count": 29,
   "id": "65a2b041",
   "metadata": {},
   "outputs": [
    {
     "name": "stdout",
     "output_type": "stream",
     "text": [
      "vb \n"
     ]
    }
   ],
   "source": [
    "extract_melody_by_index(\"../data/Complete Examples/JazzPage/Christmas Song.mid\", 1)"
   ]
  },
  {
   "cell_type": "code",
   "execution_count": 30,
   "id": "7bc24e06",
   "metadata": {},
   "outputs": [
    {
     "name": "stdout",
     "output_type": "stream",
     "text": [
      "\n"
     ]
    }
   ],
   "source": [
    "extract_melody_by_index(\"../data/Complete Examples/JazzPage/Cottontail.mid\", 5)"
   ]
  },
  {
   "cell_type": "code",
   "execution_count": 31,
   "id": "4a7c5674",
   "metadata": {},
   "outputs": [
    {
     "name": "stdout",
     "output_type": "stream",
     "text": [
      "Vibraphone\n"
     ]
    }
   ],
   "source": [
    "extract_melody_by_index(\"../data/Complete Examples/JazzPage/Criss-Cross.mid\", 1)"
   ]
  },
  {
   "cell_type": "code",
   "execution_count": 32,
   "id": "8e9ceca4",
   "metadata": {},
   "outputs": [
    {
     "name": "stdout",
     "output_type": "stream",
     "text": [
      "Jazz Electric\n"
     ]
    }
   ],
   "source": [
    "extract_melody_by_index(\"../data/Complete Examples/JazzPage/Criss-Cross.mid\", 2)"
   ]
  },
  {
   "cell_type": "code",
   "execution_count": 33,
   "id": "0930a23f",
   "metadata": {},
   "outputs": [
    {
     "name": "stdout",
     "output_type": "stream",
     "text": [
      "\n"
     ]
    }
   ],
   "source": [
    "extract_melody_by_index(\"../data/Complete Examples/JazzPage/Do Nothin' 'Til You Hear From Me.mid\", 2)"
   ]
  },
  {
   "cell_type": "code",
   "execution_count": 34,
   "id": "f6977e85",
   "metadata": {},
   "outputs": [
    {
     "name": "stdout",
     "output_type": "stream",
     "text": [
      "E-flat Alto Saxes\n"
     ]
    }
   ],
   "source": [
    "extract_melody_by_index(\"../data/Complete Examples/JazzPage/Doxy.mid\", 0)"
   ]
  },
  {
   "cell_type": "code",
   "execution_count": 35,
   "id": "fb76271a",
   "metadata": {},
   "outputs": [
    {
     "name": "stdout",
     "output_type": "stream",
     "text": [
      "E-flat Baritone Sax\n"
     ]
    }
   ],
   "source": [
    "extract_melody_by_index(\"../data/Complete Examples/JazzPage/Doxy.mid\", 2)"
   ]
  },
  {
   "cell_type": "code",
   "execution_count": 36,
   "id": "7f5cf0ad",
   "metadata": {},
   "outputs": [
    {
     "name": "stdout",
     "output_type": "stream",
     "text": [
      "Trombones\n"
     ]
    }
   ],
   "source": [
    "extract_melody_by_index(\"../data/Complete Examples/JazzPage/Doxy.mid\", 4)"
   ]
  },
  {
   "cell_type": "code",
   "execution_count": 37,
   "id": "7347b70e",
   "metadata": {},
   "outputs": [
    {
     "name": "stdout",
     "output_type": "stream",
     "text": [
      "\n"
     ]
    }
   ],
   "source": [
    "extract_melody_by_index(\"../data/Complete Examples/JazzPage/Footprints.mid\", 1)"
   ]
  },
  {
   "cell_type": "code",
   "execution_count": 38,
   "id": "324ea997",
   "metadata": {},
   "outputs": [
    {
     "name": "stdout",
     "output_type": "stream",
     "text": [
      "\n"
     ]
    }
   ],
   "source": [
    "extract_melody_by_index(\"../data/Complete Examples/JazzPage/Good Bait.mid\", 2)"
   ]
  },
  {
   "cell_type": "code",
   "execution_count": 39,
   "id": "1c8fd2ca",
   "metadata": {},
   "outputs": [
    {
     "name": "stdout",
     "output_type": "stream",
     "text": [
      "Jazz Guitar\n"
     ]
    }
   ],
   "source": [
    "extract_melody_by_index(\"../data/Complete Examples/JazzPage/How Insensitive (2).mid\", 2)"
   ]
  },
  {
   "cell_type": "code",
   "execution_count": 40,
   "id": "c18b7426",
   "metadata": {},
   "outputs": [
    {
     "name": "stdout",
     "output_type": "stream",
     "text": [
      "alto\n"
     ]
    }
   ],
   "source": [
    "extract_melody_by_index(\"../data/Complete Examples/JazzPage/Impressions.mid\", 1)"
   ]
  },
  {
   "cell_type": "code",
   "execution_count": 41,
   "id": "c9f034be",
   "metadata": {},
   "outputs": [
    {
     "name": "stdout",
     "output_type": "stream",
     "text": [
      "In Your Own Sweet Way, Dave Brubeck\n"
     ]
    }
   ],
   "source": [
    "extract_melody_by_index(\"../data/Complete Examples/JazzPage/In Your Own Sweet Way.mid\", 0)"
   ]
  },
  {
   "cell_type": "code",
   "execution_count": 42,
   "id": "4fac3278",
   "metadata": {},
   "outputs": [
    {
     "name": "stdout",
     "output_type": "stream",
     "text": [
      "It Don't Mean A Thing\n"
     ]
    }
   ],
   "source": [
    "extract_melody_by_index(\"../data/Complete Examples/JazzPage/It Don't Mean A Thing (If You Ain't Got That Swing).mid\", 6)"
   ]
  },
  {
   "cell_type": "code",
   "execution_count": 43,
   "id": "22109326",
   "metadata": {},
   "outputs": [
    {
     "name": "stdout",
     "output_type": "stream",
     "text": [
      "It Don't Mean A Thing\n"
     ]
    }
   ],
   "source": [
    "extract_melody_by_index(\"../data/Complete Examples/JazzPage/It Don't Mean A Thing (If You Ain't Got That Swing).mid\", 7)"
   ]
  },
  {
   "cell_type": "code",
   "execution_count": 44,
   "id": "6648e24b",
   "metadata": {},
   "outputs": [
    {
     "name": "stdout",
     "output_type": "stream",
     "text": [
      "org\n"
     ]
    }
   ],
   "source": [
    "extract_melody_by_index(\"../data/Complete Examples/JazzPage/It's All Right With Me.mid\", 1)"
   ]
  },
  {
   "cell_type": "code",
   "execution_count": 45,
   "id": "b564faea",
   "metadata": {},
   "outputs": [
    {
     "name": "stdout",
     "output_type": "stream",
     "text": [
      "\n"
     ]
    }
   ],
   "source": [
    "extract_melody_by_index(\"../data/Complete Examples/JazzPage/It's All Right With Me.mid\", 2)"
   ]
  },
  {
   "cell_type": "code",
   "execution_count": 46,
   "id": "b6ab5890",
   "metadata": {},
   "outputs": [
    {
     "name": "stdout",
     "output_type": "stream",
     "text": [
      "Vibraphone\n"
     ]
    }
   ],
   "source": [
    "extract_melody_by_index(\"../data/Complete Examples/JazzPage/Just Friends.mid\", 4)"
   ]
  },
  {
   "cell_type": "code",
   "execution_count": 47,
   "id": "6ac50058",
   "metadata": {},
   "outputs": [
    {
     "name": "stdout",
     "output_type": "stream",
     "text": [
      "S.S adlib                           \n"
     ]
    },
    {
     "name": "stderr",
     "output_type": "stream",
     "text": [
      "/media/manu/Data/PycharmProjects/thesis/venv/lib/python3.8/site-packages/pretty_midi/pretty_midi.py:97: RuntimeWarning: Tempo, Key or Time signature change events found on non-zero tracks.  This is not a valid type 0 or type 1 MIDI file.  Tempo, Key or Time Signature may be wrong.\n",
      "  warnings.warn(\n"
     ]
    }
   ],
   "source": [
    "extract_melody_by_index(\"../data/Complete Examples/JazzPage/Lullaby Of Birdland (1).mid\", 8)"
   ]
  },
  {
   "cell_type": "code",
   "execution_count": 48,
   "id": "694772c3",
   "metadata": {},
   "outputs": [
    {
     "name": "stdout",
     "output_type": "stream",
     "text": [
      "\n"
     ]
    }
   ],
   "source": [
    "extract_melody_by_index(\"../data/Complete Examples/JazzPage/Lullaby Of Birdland.mid\", 4)"
   ]
  },
  {
   "cell_type": "code",
   "execution_count": 49,
   "id": "268fa926",
   "metadata": {},
   "outputs": [
    {
     "name": "stdout",
     "output_type": "stream",
     "text": [
      "untitled\n"
     ]
    }
   ],
   "source": [
    "extract_melody_by_index(\"../data/Complete Examples/JazzPage/Maiden Voyage.mid\", 11)"
   ]
  },
  {
   "cell_type": "code",
   "execution_count": 50,
   "id": "a3c71ef7",
   "metadata": {},
   "outputs": [
    {
     "name": "stdout",
     "output_type": "stream",
     "text": [
      "My One And Only Love\n"
     ]
    }
   ],
   "source": [
    "extract_melody_by_index(\"../data/Complete Examples/JazzPage/My One And Only Love.mid\", 0)"
   ]
  },
  {
   "cell_type": "code",
   "execution_count": 51,
   "id": "83a9c400",
   "metadata": {},
   "outputs": [
    {
     "name": "stdout",
     "output_type": "stream",
     "text": [
      "\n"
     ]
    }
   ],
   "source": [
    "extract_melody_by_index(\"../data/Complete Examples/JazzPage/Nardis (3).mid\", 1)"
   ]
  },
  {
   "cell_type": "code",
   "execution_count": 52,
   "id": "549ba7e8",
   "metadata": {},
   "outputs": [
    {
     "name": "stdout",
     "output_type": "stream",
     "text": [
      "Solo/A.Sax\n"
     ]
    }
   ],
   "source": [
    "extract_melody_by_index('../data/Complete Examples/JazzPage/One Note Samba.mid', 3)"
   ]
  },
  {
   "cell_type": "code",
   "execution_count": 53,
   "id": "f4d09ace",
   "metadata": {},
   "outputs": [
    {
     "name": "stdout",
     "output_type": "stream",
     "text": [
      "Solo/Piano\n"
     ]
    }
   ],
   "source": [
    "extract_melody_by_index('../data/Complete Examples/JazzPage/One Note Samba.mid', 4)"
   ]
  },
  {
   "cell_type": "code",
   "execution_count": 54,
   "id": "4644b8f4",
   "metadata": {},
   "outputs": [
    {
     "name": "stdout",
     "output_type": "stream",
     "text": [
      "\n"
     ]
    }
   ],
   "source": [
    "extract_melody_by_index('../data/Complete Examples/JazzPage/Ornithology.mid', 7)"
   ]
  },
  {
   "cell_type": "code",
   "execution_count": 55,
   "id": "7405c1b9",
   "metadata": {},
   "outputs": [
    {
     "name": "stdout",
     "output_type": "stream",
     "text": [
      "Jazz Gtr\n"
     ]
    }
   ],
   "source": [
    "extract_melody_by_index(\"../data/Complete Examples/JazzPage/Here's That Rainy Day.mid\", 2)"
   ]
  },
  {
   "cell_type": "code",
   "execution_count": 56,
   "id": "e177284c",
   "metadata": {},
   "outputs": [
    {
     "name": "stdout",
     "output_type": "stream",
     "text": [
      "Tenor Sax           \n"
     ]
    }
   ],
   "source": [
    "extract_melody_by_index(\"../data/Complete Examples/JazzPage/Jordu.mid\", 7)"
   ]
  },
  {
   "cell_type": "code",
   "execution_count": 57,
   "id": "4de29dcf",
   "metadata": {},
   "outputs": [
    {
     "name": "stdout",
     "output_type": "stream",
     "text": [
      "Flute.Adlib                         \n"
     ]
    }
   ],
   "source": [
    "extract_melody_by_index(\"../data/Complete Examples/JazzPage/Our Love Is Here To Stay.mid\", 1)"
   ]
  },
  {
   "cell_type": "code",
   "execution_count": 58,
   "id": "86a4eaa1",
   "metadata": {},
   "outputs": [
    {
     "name": "stdout",
     "output_type": "stream",
     "text": [
      "Alto Sax\n"
     ]
    }
   ],
   "source": [
    "extract_melody_by_index(\"../data/Complete Examples/JazzPage/Palladium.mid\", 3)"
   ]
  },
  {
   "cell_type": "code",
   "execution_count": 59,
   "id": "8297be03",
   "metadata": {},
   "outputs": [
    {
     "name": "stdout",
     "output_type": "stream",
     "text": [
      "Prelude to A Kiss\n"
     ]
    }
   ],
   "source": [
    "extract_melody_by_index(\"../data/Complete Examples/JazzPage/Prelude To A Kiss.mid\", 1)"
   ]
  },
  {
   "cell_type": "code",
   "execution_count": 60,
   "id": "deb3e616",
   "metadata": {},
   "outputs": [
    {
     "name": "stdout",
     "output_type": "stream",
     "text": [
      "So What\n"
     ]
    }
   ],
   "source": [
    "extract_melody_by_index(\"../data/Complete Examples/JazzPage/So What.mid\", 0)"
   ]
  },
  {
   "cell_type": "code",
   "execution_count": 61,
   "id": "ef0fe491",
   "metadata": {},
   "outputs": [
    {
     "name": "stdout",
     "output_type": "stream",
     "text": [
      "\n"
     ]
    }
   ],
   "source": [
    "extract_melody_by_index(\"../data/Complete Examples/JazzPage/Takin' A Chance On Love.mid\", 1)"
   ]
  },
  {
   "cell_type": "code",
   "execution_count": 62,
   "id": "d27dfa1f",
   "metadata": {},
   "outputs": [
    {
     "name": "stdout",
     "output_type": "stream",
     "text": [
      "Solo's  EWI\n"
     ]
    }
   ],
   "source": [
    "extract_melody_by_index(\"../data/Complete Examples/JazzPage/Round Midnight.mid\", 5)"
   ]
  },
  {
   "cell_type": "code",
   "execution_count": null,
   "id": "fdb84920",
   "metadata": {},
   "outputs": [],
   "source": []
  }
 ],
 "metadata": {
  "kernelspec": {
   "display_name": "Python 3 (ipykernel)",
   "language": "python",
   "name": "python3"
  },
  "language_info": {
   "codemirror_mode": {
    "name": "ipython",
    "version": 3
   },
   "file_extension": ".py",
   "mimetype": "text/x-python",
   "name": "python",
   "nbconvert_exporter": "python",
   "pygments_lexer": "ipython3",
   "version": "3.8.10"
  }
 },
 "nbformat": 4,
 "nbformat_minor": 5
}
