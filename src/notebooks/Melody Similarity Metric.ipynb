{
 "cells": [
  {
   "cell_type": "code",
   "execution_count": 6,
   "id": "9a90efd1",
   "metadata": {},
   "outputs": [],
   "source": [
    "from tslearn.metrics import dtw\n",
    "import pandas as pd"
   ]
  },
  {
   "cell_type": "code",
   "execution_count": 2,
   "id": "bc290eaf",
   "metadata": {},
   "outputs": [
    {
     "data": {
      "text/plain": [
       "1.4142135623730951"
      ]
     },
     "execution_count": 2,
     "metadata": {},
     "output_type": "execute_result"
    }
   ],
   "source": [
    "dtw([0,1,2,3], [0,2,3,4])"
   ]
  },
  {
   "cell_type": "code",
   "execution_count": 3,
   "id": "32b643d7",
   "metadata": {},
   "outputs": [
    {
     "data": {
      "text/plain": [
       "0.0"
      ]
     },
     "execution_count": 3,
     "metadata": {},
     "output_type": "execute_result"
    }
   ],
   "source": [
    "dtw([0,1,2,3], [0,1,2,3])"
   ]
  },
  {
   "cell_type": "code",
   "execution_count": 4,
   "id": "c2b4d659",
   "metadata": {},
   "outputs": [
    {
     "data": {
      "text/plain": [
       "0.5"
      ]
     },
     "execution_count": 4,
     "metadata": {},
     "output_type": "execute_result"
    }
   ],
   "source": [
    "dtw([0,1,2,3], [0,0.5,2,3])"
   ]
  },
  {
   "cell_type": "code",
   "execution_count": 5,
   "id": "36a92ae6",
   "metadata": {},
   "outputs": [
    {
     "data": {
      "text/plain": [
       "1.118033988749895"
      ]
     },
     "execution_count": 5,
     "metadata": {},
     "output_type": "execute_result"
    }
   ],
   "source": [
    "dtw([0,1,2,3], [0,0.5,1,3])"
   ]
  },
  {
   "cell_type": "code",
   "execution_count": 36,
   "id": "58c6d8a0",
   "metadata": {},
   "outputs": [],
   "source": [
    "columns = ['pitch', 'ticks', 'duration', 'measure', 'offset']"
   ]
  },
  {
   "cell_type": "code",
   "execution_count": 14,
   "id": "ffcd2208",
   "metadata": {},
   "outputs": [],
   "source": [
    "m1 = pd.read_csv('../data/split_melody_data/v1.2/Real Book/All Of Me original.csv', index_col=0)[columns]"
   ]
  },
  {
   "cell_type": "code",
   "execution_count": 15,
   "id": "7ccf0030",
   "metadata": {},
   "outputs": [],
   "source": [
    "m2 = pd.read_csv('../data/split_melody_data/v1.2/Real Book/A Felicidade original.csv', index_col=0)[columns]"
   ]
  },
  {
   "cell_type": "code",
   "execution_count": 16,
   "id": "afe1c3a1",
   "metadata": {},
   "outputs": [
    {
     "data": {
      "text/plain": [
       "0.0"
      ]
     },
     "execution_count": 16,
     "metadata": {},
     "output_type": "execute_result"
    }
   ],
   "source": [
    "dtw(m1, m1)"
   ]
  },
  {
   "cell_type": "code",
   "execution_count": 17,
   "id": "15dc3905",
   "metadata": {},
   "outputs": [
    {
     "data": {
      "text/plain": [
       "3602.407667102656"
      ]
     },
     "execution_count": 17,
     "metadata": {},
     "output_type": "execute_result"
    }
   ],
   "source": [
    "dtw(m1, m2)"
   ]
  },
  {
   "cell_type": "code",
   "execution_count": 37,
   "id": "5f9587fa",
   "metadata": {},
   "outputs": [],
   "source": [
    "m3 = pd.read_csv('../data/split_melody_data/v1.2/Real Book/Beauty And The Beast original.csv', index_col=0)[columns]"
   ]
  },
  {
   "cell_type": "code",
   "execution_count": 38,
   "id": "f2290fe1",
   "metadata": {},
   "outputs": [],
   "source": [
    "m4 = pd.read_csv('../data/split_melody_data/v1.2/Jazz Standards/Beauty And The Beast -1-.csv', index_col=0)[columns]"
   ]
  },
  {
   "cell_type": "code",
   "execution_count": 27,
   "id": "65478d5d",
   "metadata": {},
   "outputs": [
    {
     "data": {
      "text/plain": [
       "0.0"
      ]
     },
     "execution_count": 27,
     "metadata": {},
     "output_type": "execute_result"
    }
   ],
   "source": [
    "dtw(m3, m3)"
   ]
  },
  {
   "cell_type": "code",
   "execution_count": 28,
   "id": "9c5c5212",
   "metadata": {},
   "outputs": [
    {
     "data": {
      "text/plain": [
       "172.01744097619869"
      ]
     },
     "execution_count": 28,
     "metadata": {},
     "output_type": "execute_result"
    }
   ],
   "source": [
    "dtw(m3, m4)"
   ]
  },
  {
   "cell_type": "code",
   "execution_count": 74,
   "id": "1de24f9b",
   "metadata": {},
   "outputs": [],
   "source": [
    "import os\n",
    "from glob import glob\n",
    "import itertools\n",
    "\n",
    "folder = f'../data/split_melody_data/v1.2/Real Book'\n",
    "\n",
    "filepaths = [y for x in os.walk(folder) for y in glob(os.path.join(x[0], '*.csv'))]"
   ]
  },
  {
   "cell_type": "code",
   "execution_count": 75,
   "id": "afe3d1b4",
   "metadata": {},
   "outputs": [],
   "source": [
    "scores = []\n",
    "\n",
    "\n",
    "for f1, f2 in list(itertools.combinations(filepaths, 2)): \n",
    "    df1 = pd.read_csv(f1)[columns]\n",
    "    df2 = pd.read_csv(f2)[columns]\n",
    "\n",
    "    score = 1 / dtw(df1, df2)\n",
    "#     print(score)\n",
    "    scores.append({\n",
    "        'filename1': os.path.basename(f1),\n",
    "        'filename2': os.path.basename(f2),\n",
    "        'score': score\n",
    "    })"
   ]
  },
  {
   "cell_type": "code",
   "execution_count": 76,
   "id": "0f40ba1d",
   "metadata": {},
   "outputs": [],
   "source": [
    "df = pd.DataFrame.from_dict(scores)"
   ]
  },
  {
   "cell_type": "code",
   "execution_count": 77,
   "id": "077d721b",
   "metadata": {
    "scrolled": true
   },
   "outputs": [
    {
     "data": {
      "text/html": [
       "<div>\n",
       "<style scoped>\n",
       "    .dataframe tbody tr th:only-of-type {\n",
       "        vertical-align: middle;\n",
       "    }\n",
       "\n",
       "    .dataframe tbody tr th {\n",
       "        vertical-align: top;\n",
       "    }\n",
       "\n",
       "    .dataframe thead th {\n",
       "        text-align: right;\n",
       "    }\n",
       "</style>\n",
       "<table border=\"1\" class=\"dataframe\">\n",
       "  <thead>\n",
       "    <tr style=\"text-align: right;\">\n",
       "      <th></th>\n",
       "      <th>filename1</th>\n",
       "      <th>filename2</th>\n",
       "      <th>score</th>\n",
       "    </tr>\n",
       "  </thead>\n",
       "  <tbody>\n",
       "    <tr>\n",
       "      <th>9599</th>\n",
       "      <td>Girl Talk original.csv</td>\n",
       "      <td>Now's The Time original.csv</td>\n",
       "      <td>116.558998</td>\n",
       "    </tr>\n",
       "    <tr>\n",
       "      <th>9652</th>\n",
       "      <td>Girl Talk original.csv</td>\n",
       "      <td>Bessie's Blues original.csv</td>\n",
       "      <td>129.499035</td>\n",
       "    </tr>\n",
       "    <tr>\n",
       "      <th>17358</th>\n",
       "      <td>Bessie's Blues original.csv</td>\n",
       "      <td>Blues For Alice original.csv</td>\n",
       "      <td>133.828248</td>\n",
       "    </tr>\n",
       "    <tr>\n",
       "      <th>12688</th>\n",
       "      <td>Now's The Time original.csv</td>\n",
       "      <td>Bessie's Blues original.csv</td>\n",
       "      <td>134.480482</td>\n",
       "    </tr>\n",
       "    <tr>\n",
       "      <th>12694</th>\n",
       "      <td>Now's The Time original.csv</td>\n",
       "      <td>Blues For Alice original.csv</td>\n",
       "      <td>134.736780</td>\n",
       "    </tr>\n",
       "    <tr>\n",
       "      <th>...</th>\n",
       "      <td>...</td>\n",
       "      <td>...</td>\n",
       "      <td>...</td>\n",
       "    </tr>\n",
       "    <tr>\n",
       "      <th>679</th>\n",
       "      <td>A Night In Tunisia original.csv</td>\n",
       "      <td>Straight, No Chaser original.csv</td>\n",
       "      <td>22019.613507</td>\n",
       "    </tr>\n",
       "    <tr>\n",
       "      <th>598</th>\n",
       "      <td>A Night In Tunisia original.csv</td>\n",
       "      <td>Equinox original.csv</td>\n",
       "      <td>22265.197417</td>\n",
       "    </tr>\n",
       "    <tr>\n",
       "      <th>670</th>\n",
       "      <td>A Night In Tunisia original.csv</td>\n",
       "      <td>Peace original.csv</td>\n",
       "      <td>22302.855759</td>\n",
       "    </tr>\n",
       "    <tr>\n",
       "      <th>693</th>\n",
       "      <td>A Night In Tunisia original.csv</td>\n",
       "      <td>Things Ain't What They Used To Be original.csv</td>\n",
       "      <td>22323.123393</td>\n",
       "    </tr>\n",
       "    <tr>\n",
       "      <th>718</th>\n",
       "      <td>A Night In Tunisia original.csv</td>\n",
       "      <td>Blue In Green original.csv</td>\n",
       "      <td>22366.866969</td>\n",
       "    </tr>\n",
       "  </tbody>\n",
       "</table>\n",
       "<p>19306 rows × 3 columns</p>\n",
       "</div>"
      ],
      "text/plain": [
       "                             filename1  \\\n",
       "9599            Girl Talk original.csv   \n",
       "9652            Girl Talk original.csv   \n",
       "17358      Bessie's Blues original.csv   \n",
       "12688      Now's The Time original.csv   \n",
       "12694      Now's The Time original.csv   \n",
       "...                                ...   \n",
       "679    A Night In Tunisia original.csv   \n",
       "598    A Night In Tunisia original.csv   \n",
       "670    A Night In Tunisia original.csv   \n",
       "693    A Night In Tunisia original.csv   \n",
       "718    A Night In Tunisia original.csv   \n",
       "\n",
       "                                            filename2         score  \n",
       "9599                      Now's The Time original.csv    116.558998  \n",
       "9652                      Bessie's Blues original.csv    129.499035  \n",
       "17358                    Blues For Alice original.csv    133.828248  \n",
       "12688                     Bessie's Blues original.csv    134.480482  \n",
       "12694                    Blues For Alice original.csv    134.736780  \n",
       "...                                               ...           ...  \n",
       "679                  Straight, No Chaser original.csv  22019.613507  \n",
       "598                              Equinox original.csv  22265.197417  \n",
       "670                                Peace original.csv  22302.855759  \n",
       "693    Things Ain't What They Used To Be original.csv  22323.123393  \n",
       "718                        Blue In Green original.csv  22366.866969  \n",
       "\n",
       "[19306 rows x 3 columns]"
      ]
     },
     "execution_count": 77,
     "metadata": {},
     "output_type": "execute_result"
    }
   ],
   "source": [
    "df.sort_values('score')"
   ]
  },
  {
   "cell_type": "code",
   "execution_count": 93,
   "id": "ffd7b74a",
   "metadata": {},
   "outputs": [
    {
     "data": {
      "text/plain": [
       "0        0.000308\n",
       "1        0.002853\n",
       "2        0.000095\n",
       "3        0.004138\n",
       "4        0.001536\n",
       "           ...   \n",
       "19301    0.000139\n",
       "19302    0.001615\n",
       "19303    0.000242\n",
       "19304    0.003895\n",
       "19305    0.000235\n",
       "Name: score, Length: 19306, dtype: float64"
      ]
     },
     "execution_count": 93,
     "metadata": {},
     "output_type": "execute_result"
    }
   ],
   "source": [
    "df['score']"
   ]
  },
  {
   "cell_type": "code",
   "execution_count": 94,
   "id": "f3cdc40b",
   "metadata": {},
   "outputs": [
    {
     "name": "stderr",
     "output_type": "stream",
     "text": [
      "/home/manu/anaconda3/envs/thesis/lib/python3.10/site-packages/numpy/core/fromnumeric.py:3438: FutureWarning: In a future version, DataFrame.mean(axis=None) will return a scalar mean over the entire DataFrame. To retain the old behavior, use 'frame.mean(axis=0)' or just 'frame.mean()'\n",
      "  return mean(axis=axis, dtype=dtype, out=out, **kwargs)\n",
      "/home/manu/anaconda3/envs/thesis/lib/python3.10/site-packages/numpy/core/fromnumeric.py:3438: FutureWarning: Dropping of nuisance columns in DataFrame reductions (with 'numeric_only=None') is deprecated; in a future version this will raise TypeError.  Select only valid columns before calling the reduction.\n",
      "  return mean(axis=axis, dtype=dtype, out=out, **kwargs)\n"
     ]
    },
    {
     "data": {
      "text/plain": [
       "6.581625484497871e-07"
      ]
     },
     "execution_count": 94,
     "metadata": {},
     "output_type": "execute_result"
    }
   ],
   "source": [
    "df.groupby('filename1').apply(np.mean)['score'].var()"
   ]
  },
  {
   "cell_type": "code",
   "execution_count": 95,
   "id": "581bacf4",
   "metadata": {},
   "outputs": [
    {
     "name": "stderr",
     "output_type": "stream",
     "text": [
      "/home/manu/anaconda3/envs/thesis/lib/python3.10/site-packages/numpy/core/fromnumeric.py:3438: FutureWarning: In a future version, DataFrame.mean(axis=None) will return a scalar mean over the entire DataFrame. To retain the old behavior, use 'frame.mean(axis=0)' or just 'frame.mean()'\n",
      "  return mean(axis=axis, dtype=dtype, out=out, **kwargs)\n",
      "/home/manu/anaconda3/envs/thesis/lib/python3.10/site-packages/numpy/core/fromnumeric.py:3438: FutureWarning: Dropping of nuisance columns in DataFrame reductions (with 'numeric_only=None') is deprecated; in a future version this will raise TypeError.  Select only valid columns before calling the reduction.\n",
      "  return mean(axis=axis, dtype=dtype, out=out, **kwargs)\n"
     ]
    },
    {
     "data": {
      "text/plain": [
       "5.534306754103713e-07"
      ]
     },
     "execution_count": 95,
     "metadata": {},
     "output_type": "execute_result"
    }
   ],
   "source": [
    "df.groupby('filename2').apply(np.mean)['score'].var()"
   ]
  },
  {
   "cell_type": "code",
   "execution_count": 96,
   "id": "f46545a6",
   "metadata": {},
   "outputs": [
    {
     "data": {
      "text/plain": [
       "1.8484370413398177e-06"
      ]
     },
     "execution_count": 96,
     "metadata": {},
     "output_type": "execute_result"
    }
   ],
   "source": [
    "df['score'].var()"
   ]
  },
  {
   "cell_type": "code",
   "execution_count": null,
   "id": "8e65f166",
   "metadata": {},
   "outputs": [],
   "source": []
  }
 ],
 "metadata": {
  "kernelspec": {
   "display_name": "Python 3 (ipykernel)",
   "language": "python",
   "name": "python3"
  },
  "language_info": {
   "codemirror_mode": {
    "name": "ipython",
    "version": 3
   },
   "file_extension": ".py",
   "mimetype": "text/x-python",
   "name": "python",
   "nbconvert_exporter": "python",
   "pygments_lexer": "ipython3",
   "version": "3.10.0"
  }
 },
 "nbformat": 4,
 "nbformat_minor": 5
}
