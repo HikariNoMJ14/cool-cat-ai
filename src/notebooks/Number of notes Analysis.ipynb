{
 "cells": [
  {
   "cell_type": "code",
   "execution_count": 20,
   "id": "fe74529e",
   "metadata": {},
   "outputs": [],
   "source": [
    "import os\n",
    "from glob import glob\n",
    "import pandas as pd\n",
    "import matplotlib.pyplot as plt\n",
    "import seaborn as sns"
   ]
  },
  {
   "cell_type": "code",
   "execution_count": 21,
   "id": "95da37b7",
   "metadata": {},
   "outputs": [],
   "source": [
    "ts_filepaths = glob('../data/encoded/timestep/mono/*/*.csv')\n",
    "du_filepaths = glob('../data/encoded/duration/mono/*/*.csv')"
   ]
  },
  {
   "cell_type": "code",
   "execution_count": 22,
   "id": "b6bbcf43",
   "metadata": {},
   "outputs": [],
   "source": [
    "do_len = {}\n",
    "di_len = {}\n",
    "\n",
    "for f in du_filepaths:\n",
    "    df = pd.read_csv(f)\n",
    "    \n",
    "    o = df[df['type'] == 'original']\n",
    "    i = df[df['type'] == 'improvised']\n",
    "    \n",
    "    do_len[os.path.basename(f)]= o.shape[0]\n",
    "    di_len[os.path.basename(f)]= i.shape[0]\n",
    "    \n",
    "do = pd.Series(do_len)\n",
    "di = pd.Series(di_len)"
   ]
  },
  {
   "cell_type": "code",
   "execution_count": 23,
   "id": "2a8eba26",
   "metadata": {
    "scrolled": false
   },
   "outputs": [
    {
     "data": {
      "text/plain": [
       "Miles Davis - Eighty-One -5-.csv           40\n",
       "Miles Davis - Eighty-One -4-.csv           40\n",
       "Wayne Shorter - Eighty-One -5-.csv         40\n",
       "Wayne Shorter - Eighty-One -4-.csv         40\n",
       "Wayne Shorter - Eighty-One -3-.csv         40\n",
       "Wayne Shorter - Eighty-One -2-.csv         40\n",
       "Eighty-One -2-.csv                         40\n",
       "Wayne Shorter - Eighty-One -1-.csv         40\n",
       "Miles Davis - Eighty-One -1-.csv           40\n",
       "Miles Davis - Eighty-One -2-.csv           40\n",
       "Miles Davis - Eighty-One -3-.csv           40\n",
       "Miles Davis - Eighty-One -6-.csv           40\n",
       "Eighty-One -1-.csv                         40\n",
       "John Coltrane - Giant Steps (2) -1-.csv    42\n",
       "John Coltrane - Giant Steps (1) -9-.csv    42\n",
       "John Coltrane - Giant Steps (1) -3-.csv    42\n",
       "John Coltrane - Giant Steps (2) -2-.csv    42\n",
       "John Coltrane - Giant Steps (1) -8-.csv    42\n",
       "John Coltrane - Giant Steps (1) -7-.csv    42\n",
       "John Coltrane - Giant Steps (1) -6-.csv    42\n",
       "dtype: int64"
      ]
     },
     "execution_count": 23,
     "metadata": {},
     "output_type": "execute_result"
    }
   ],
   "source": [
    "do.sort_values().head(20)"
   ]
  },
  {
   "cell_type": "code",
   "execution_count": 24,
   "id": "71b7ed10",
   "metadata": {},
   "outputs": [
    {
     "data": {
      "text/plain": [
       "Chet Baker - Just Friends -2-.csv          64\n",
       "Miles Davis - Eighty-One -3-.csv           77\n",
       "Wayne Shorter - Eighty-One -1-.csv         83\n",
       "Curtis Fuller - Blue Train -2-.csv         84\n",
       "Miles Davis - Eighty-One -1-.csv           88\n",
       "Eighty-One -2-.csv                         89\n",
       "Curtis Fuller - Blue Train -1-.csv         92\n",
       "Wayne Shorter - Eighty-One -5-.csv         99\n",
       "Miles Davis - Eighty-One -6-.csv          100\n",
       "Miles Davis - Eighty-One -2-.csv          102\n",
       "Miles Davis - Eighty-One -5-.csv          102\n",
       "John Coltrane - Bessie's Blues -4-.csv    104\n",
       "Eighty-One -1-.csv                        105\n",
       "Sidney Bechet - Summertime -1-.csv        105\n",
       "John Coltrane - Bessie's Blues -5-.csv    108\n",
       "John Coltrane - Bessie's Blues -1-.csv    109\n",
       "John Coltrane - Bessie's Blues -3-.csv    110\n",
       "Miles Davis - Eighty-One -4-.csv          112\n",
       "J J Johnson - Yesterdays -4-.csv          113\n",
       "Bix Beiderbecke - Margie -1-.csv          115\n",
       "dtype: int64"
      ]
     },
     "execution_count": 24,
     "metadata": {},
     "output_type": "execute_result"
    }
   ],
   "source": [
    "di.sort_values().head(20)"
   ]
  },
  {
   "cell_type": "code",
   "execution_count": 25,
   "id": "fa0b6d6c",
   "metadata": {},
   "outputs": [
    {
     "name": "stderr",
     "output_type": "stream",
     "text": [
      "/home/manu/anaconda3/envs/thesis/lib/python3.10/site-packages/seaborn/distributions.py:2619: FutureWarning: `distplot` is a deprecated function and will be removed in a future version. Please adapt your code to use either `displot` (a figure-level function with similar flexibility) or `histplot` (an axes-level function for histograms).\n",
      "  warnings.warn(msg, FutureWarning)\n"
     ]
    },
    {
     "data": {
      "text/plain": [
       "<AxesSubplot:ylabel='Density'>"
      ]
     },
     "execution_count": 25,
     "metadata": {},
     "output_type": "execute_result"
    },
    {
     "data": {
      "image/png": "[encoded data removed]",
      "text/plain": [
       "<Figure size 432x288 with 1 Axes>"
      ]
     },
     "metadata": {
      "needs_background": "light"
     },
     "output_type": "display_data"
    }
   ],
   "source": [
    "sns.distplot(do)"
   ]
  },
  {
   "cell_type": "code",
   "execution_count": 26,
   "id": "0ea95775",
   "metadata": {},
   "outputs": [
    {
     "name": "stderr",
     "output_type": "stream",
     "text": [
      "/home/manu/anaconda3/envs/thesis/lib/python3.10/site-packages/seaborn/distributions.py:2619: FutureWarning: `distplot` is a deprecated function and will be removed in a future version. Please adapt your code to use either `displot` (a figure-level function with similar flexibility) or `histplot` (an axes-level function for histograms).\n",
      "  warnings.warn(msg, FutureWarning)\n"
     ]
    },
    {
     "data": {
      "text/plain": [
       "<AxesSubplot:ylabel='Density'>"
      ]
     },
     "execution_count": 26,
     "metadata": {},
     "output_type": "execute_result"
    },
    {
     "data": {
      "image/png": "[encoded data removed]",
      "text/plain": [
       "<Figure size 432x288 with 1 Axes>"
      ]
     },
     "metadata": {
      "needs_background": "light"
     },
     "output_type": "display_data"
    }
   ],
   "source": [
    "sns.distplot(di)"
   ]
  },
  {
   "cell_type": "code",
   "execution_count": 27,
   "id": "51527da6",
   "metadata": {},
   "outputs": [],
   "source": [
    "t_len = {}\n",
    "for f in ts_filepaths:\n",
    "    df = pd.read_csv(f)\n",
    "    t_len[os.path.basename(f)]= df.shape[0]\n",
    "    \n",
    "t = pd.Series(t_len)"
   ]
  },
  {
   "cell_type": "code",
   "execution_count": 28,
   "id": "1113531c",
   "metadata": {},
   "outputs": [
    {
     "name": "stderr",
     "output_type": "stream",
     "text": [
      "/home/manu/anaconda3/envs/thesis/lib/python3.10/site-packages/seaborn/distributions.py:2619: FutureWarning: `distplot` is a deprecated function and will be removed in a future version. Please adapt your code to use either `displot` (a figure-level function with similar flexibility) or `histplot` (an axes-level function for histograms).\n",
      "  warnings.warn(msg, FutureWarning)\n"
     ]
    },
    {
     "data": {
      "text/plain": [
       "<AxesSubplot:ylabel='Density'>"
      ]
     },
     "execution_count": 28,
     "metadata": {},
     "output_type": "execute_result"
    },
    {
     "data": {
      "image/png": "[encoded data removed]",
      "text/plain": [
       "<Figure size 432x288 with 1 Axes>"
      ]
     },
     "metadata": {
      "needs_background": "light"
     },
     "output_type": "display_data"
    }
   ],
   "source": [
    "sns.distplot(t)"
   ]
  },
  {
   "cell_type": "code",
   "execution_count": 15,
   "id": "4a50ce20",
   "metadata": {},
   "outputs": [
    {
     "data": {
      "text/plain": [
       "Miles Davis - Eighty-One -5-.csv            576\n",
       "Miles Davis - Eighty-One -4-.csv            576\n",
       "John Coltrane - Blue Train -2-.csv          576\n",
       "Miles Davis - Eighty-One -6-.csv            576\n",
       "John Coltrane - Blue Train -1-.csv          576\n",
       "Lee Morgan - Blue Train -1-.csv             576\n",
       "Lee Morgan - Blue Train -2-.csv             576\n",
       "Lee Morgan - Blue Train -3-.csv             576\n",
       "John Coltrane - Bessie's Blues -5-.csv      576\n",
       "Charlie Parker - Blues For Alice -3-.csv    576\n",
       "John Coltrane - Bessie's Blues -4-.csv      576\n",
       "Milt Jackson - Bags' Groove -2-.csv         576\n",
       "Curtis Fuller - Blue Train -5-.csv          576\n",
       "Curtis Fuller - Blue Train -4-.csv          576\n",
       "Curtis Fuller - Blue Train -3-.csv          576\n",
       "Curtis Fuller - Blue Train -2-.csv          576\n",
       "Curtis Fuller - Blue Train -1-.csv          576\n",
       "John Coltrane - Bessie's Blues -3-.csv      576\n",
       "Lee Morgan - Blue Train -4-.csv             576\n",
       "John Coltrane - Bessie's Blues -2-.csv      576\n",
       "dtype: int64"
      ]
     },
     "execution_count": 15,
     "metadata": {},
     "output_type": "execute_result"
    }
   ],
   "source": [
    "t.sort_values().head(20)"
   ]
  },
  {
   "cell_type": "code",
   "execution_count": null,
   "id": "261ac6fd",
   "metadata": {},
   "outputs": [],
   "source": []
  }
 ],
 "metadata": {
  "kernelspec": {
   "display_name": "Python 3 (ipykernel)",
   "language": "python",
   "name": "python3"
  },
  "language_info": {
   "codemirror_mode": {
    "name": "ipython",
    "version": 3
   },
   "file_extension": ".py",
   "mimetype": "text/x-python",
   "name": "python",
   "nbconvert_exporter": "python",
   "pygments_lexer": "ipython3",
   "version": "3.10.0"
  }
 },
 "nbformat": 4,
 "nbformat_minor": 5
}
