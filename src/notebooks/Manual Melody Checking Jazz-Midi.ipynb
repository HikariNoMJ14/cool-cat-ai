{
 "cells": [
  {
   "cell_type": "code",
   "execution_count": 3,
   "id": "f284a864",
   "metadata": {},
   "outputs": [],
   "source": [
    "import os\n",
    "import sys\n",
    "import difflib\n",
    "import shutil\n",
    "from glob import glob\n",
    "import pandas as pd\n",
    "import numpy as np\n",
    "import operator\n",
    "\n",
    "import music21\n",
    "\n",
    "sys.path.append('..', '..')\n",
    "from src.utils import get_chord_progressions, calculate_melody_results, flatten_chord_progression\n",
    "from src.melody import Melody\n",
    "\n",
    "source = 'Jazz-Midi'\n",
    "\n",
    "input_folder = f'../data/Complete Examples Melodies Auto/v1.2/{source}'\n",
    "filepaths = [y for x in os.walk(input_folder) for y in glob(os.path.join(x[0], '*.mid'))]\n",
    "cps = get_chord_progressions('..')"
   ]
  },
  {
   "cell_type": "code",
   "execution_count": 8,
   "id": "f3e62923",
   "metadata": {},
   "outputs": [],
   "source": [
    "file_idx = 8"
   ]
  },
  {
   "cell_type": "code",
   "execution_count": 9,
   "id": "a9c7ee6d",
   "metadata": {},
   "outputs": [
    {
     "data": {
      "text/plain": [
       "['../data/Complete Examples Melodies Auto/v1.2/Jazz-Midi/Eighty-One.mid',\n",
       " '../data/Complete Examples Melodies Auto/v1.2/Jazz-Midi/Happy Birthday.mid',\n",
       " \"../data/Complete Examples Melodies Auto/v1.2/Jazz-Midi/I Can't Give You Anything But Love.mid\",\n",
       " '../data/Complete Examples Melodies Auto/v1.2/Jazz-Midi/I Concentrate On You.mid',\n",
       " '../data/Complete Examples Melodies Auto/v1.2/Jazz-Midi/I Should Care.mid',\n",
       " '../data/Complete Examples Melodies Auto/v1.2/Jazz-Midi/In A Sentimental Mood.mid',\n",
       " '../data/Complete Examples Melodies Auto/v1.2/Jazz-Midi/Moon River.mid',\n",
       " '../data/Complete Examples Melodies Auto/v1.2/Jazz-Midi/My Funny Valentine.mid',\n",
       " '../data/Complete Examples Melodies Auto/v1.2/Jazz-Midi/Night And Day.mid',\n",
       " '../data/Complete Examples Melodies Auto/v1.2/Jazz-Midi/Our Love Is Here To Stay.mid',\n",
       " '../data/Complete Examples Melodies Auto/v1.2/Jazz-Midi/People.mid',\n",
       " '../data/Complete Examples Melodies Auto/v1.2/Jazz-Midi/Polka Dots And Moonbeams.mid',\n",
       " '../data/Complete Examples Melodies Auto/v1.2/Jazz-Midi/Secret Love.mid',\n",
       " '../data/Complete Examples Melodies Auto/v1.2/Jazz-Midi/September Song.mid',\n",
       " '../data/Complete Examples Melodies Auto/v1.2/Jazz-Midi/Since I Fell For You.mid',\n",
       " '../data/Complete Examples Melodies Auto/v1.2/Jazz-Midi/Strangers In The Night.mid',\n",
       " '../data/Complete Examples Melodies Auto/v1.2/Jazz-Midi/Sweet Georgia Brown.mid',\n",
       " \"../data/Complete Examples Melodies Auto/v1.2/Jazz-Midi/The Party's Over.mid\",\n",
       " '../data/Complete Examples Melodies Auto/v1.2/Jazz-Midi/The Shadow Of Your Smile.mid',\n",
       " '../data/Complete Examples Melodies Auto/v1.2/Jazz-Midi/The Way You Look Tonight (1).mid',\n",
       " \"../data/Complete Examples Melodies Auto/v1.2/Jazz-Midi/They Can't Take That Away From Me (1).mid\",\n",
       " '../data/Complete Examples Melodies Auto/v1.2/Jazz-Midi/When Your Lover Has Gone.mid',\n",
       " '../data/Complete Examples Melodies Auto/v1.2/Jazz-Midi/Yesterdays.mid',\n",
       " '../data/Complete Examples Melodies Auto/v1.2/Jazz-Midi/You Are Too Beautiful.mid',\n",
       " '../data/Complete Examples Melodies Auto/v1.2/Jazz-Midi/Yours Is My Heart Alone.mid']"
      ]
     },
     "execution_count": 9,
     "metadata": {},
     "output_type": "execute_result"
    }
   ],
   "source": [
    "filepaths[file_idx:100]"
   ]
  },
  {
   "cell_type": "code",
   "execution_count": 11,
   "id": "6ee93919",
   "metadata": {},
   "outputs": [
    {
     "name": "stdout",
     "output_type": "stream",
     "text": [
      "('-5_10', (0.7847999999999999, 0.7847999999999999, 0.7847999999999999, 1))\n",
      "('-5_14', (0.7770816326530612, 0.8481632653061225, 0.706, 2))\n",
      "('-5_2', (0.7671052631578947, 0.7671052631578947, 0.7671052631578947, 1))\n",
      "('-5_6', (0.7531914893617021, 0.7531914893617021, 0.7531914893617021, 1))\n",
      "('-5_22', (0.738989898989899, 0.738989898989899, 0.738989898989899, 1))\n",
      "('-5_18', (0.7348148148148148, 0.7348148148148148, 0.7348148148148148, 1))\n",
      "('2_14', (0.7183124018838304, 0.8281632653061224, 0.6084615384615384, 2))\n",
      "('2_21', (0.7167708333333334, 0.7167708333333334, 0.7167708333333334, 1))\n",
      "('-3_20', (0.7126666666666668, 0.7126666666666668, 0.7126666666666668, 1))\n",
      "('2_6', (0.7106382978723403, 0.7106382978723403, 0.7106382978723403, 1))\n",
      "('-3_0', (0.7074074074074075, 0.7074074074074075, 0.7074074074074075, 1))\n",
      "('2_2', (0.7028947368421053, 0.7028947368421053, 0.7028947368421053, 1))\n",
      "('-3_12', (0.7018657635467981, 0.7155172413793104, 0.6882142857142858, 2))\n",
      "('2_17', (0.7000270270270271, 0.7310000000000001, 0.6690540540540542, 2))\n",
      "('-5_7', (0.6982222222222223, 0.6982222222222223, 0.6982222222222223, 1))\n",
      "('-5_3', (0.6981981981981982, 0.6981981981981982, 0.6981981981981982, 1))\n",
      "('2_10', (0.6957333333333334, 0.6957333333333334, 0.6957333333333334, 1))\n",
      "('2_13', (0.695545905707196, 0.7157692307692307, 0.6753225806451613, 2))\n",
      "('2_9', (0.6943589743589743, 0.6943589743589743, 0.6943589743589743, 1))\n",
      "('2_1', (0.6937719298245615, 0.6937719298245615, 0.6937719298245615, 1))\n",
      "('-5_15', (0.6932150706436421, 0.7261224489795918, 0.6603076923076924, 2))\n",
      "('2_8', (0.6919047619047618, 0.6919047619047618, 0.6919047619047618, 1))\n",
      "('2_22', (0.6918181818181819, 0.6918181818181819, 0.6918181818181819, 1))\n",
      "('0_4', (0.6915686274509805, 0.6915686274509805, 0.6915686274509805, 1))\n",
      "('2_20', (0.6906666666666667, 0.6906666666666667, 0.6906666666666667, 1))\n",
      "('0_8', (0.689047619047619, 0.689047619047619, 0.689047619047619, 1))\n",
      "('0_16', (0.687806905370844, 0.7882608695652173, 0.5873529411764705, 2))\n",
      "('-5_11', (0.6858437500000001, 0.7120000000000001, 0.6596875, 2))\n",
      "('2_4', (0.6837254901960784, 0.6837254901960784, 0.6837254901960784, 1))\n",
      "('2_16', (0.6835102301790281, 0.692608695652174, 0.6744117647058824, 2))\n",
      "('-5_23', (0.680952380952381, 0.680952380952381, 0.680952380952381, 1))\n",
      "('4_18', (0.6806172839506173, 0.6806172839506173, 0.6806172839506173, 1))\n",
      "('4_22', (0.6771717171717171, 0.6771717171717171, 0.6771717171717171, 1))\n",
      "('2_12', (0.6703879310344828, 0.6825, 0.6582758620689656, 2))\n",
      "('-5_9', (0.6687179487179487, 0.6687179487179487, 0.6687179487179487, 1))\n",
      "('-3_16', (0.6661572890025576, 0.692608695652174, 0.6397058823529411, 2))\n",
      "('0_0', (0.6657407407407407, 0.6657407407407407, 0.6657407407407407, 1))\n",
      "('-5_17', (0.6657094594594595, 0.7475, 0.5839189189189189, 2))\n",
      "('0_7', (0.6650000000000001, 0.6650000000000001, 0.6650000000000001, 1))\n",
      "('2_5', (0.6644444444444445, 0.6644444444444445, 0.6644444444444445, 1))\n",
      "----------------\n"
     ]
    }
   ],
   "source": [
    "filename = filepaths[file_idx]\n",
    "\n",
    "all_hc = {}\n",
    "for t in range(-6,6):\n",
    "    melody = Melody(filename, '1.2')\n",
    "    melody.setup()\n",
    "    melody.set_song_structure(cps[melody.song_name])\n",
    "    melody.align_key()\n",
    "    \n",
    "#     melody.tempo /= 2\n",
    "    \n",
    "    melody.transpose_semitones = t\n",
    "    \n",
    "    melody.parse_notes()\n",
    "\n",
    "    # print(melody.note_info)\n",
    "\n",
    "    if len(melody.errors) > 0:\n",
    "        raise Exception(melody.errors[0])\n",
    "\n",
    "    for starting_measure in range(0, melody.n_chord_prog_measures):\n",
    "        melody.starting_measure = starting_measure\n",
    "        melody.split_note_info = []\n",
    "\n",
    "        melody.split_melody(quantized=True, save=False)\n",
    "\n",
    "        results = calculate_melody_results(melody)\n",
    "        \n",
    "#         for s in melody.split_note_info:\n",
    "#             s.loc[:, 'end_ticks'] = s['ticks'] + s['duration']\n",
    "#             melody.remove_strong_polyphony(s)\n",
    "#             melody.remove_weak_polyphony(s)\n",
    "\n",
    "        hc = np.array([])\n",
    "        for k, res in results.items():\n",
    "            hc = np.append(hc, res['harmonic_consistency_mean']) \n",
    "\n",
    "        all_hc[str(t) + '_' + str(starting_measure)] = (hc.mean(), hc.max(), hc.min(), len(hc))\n",
    "    \n",
    "all_hc = sorted(all_hc.items(), key=operator.itemgetter(1), reverse=True)\n",
    "\n",
    "for i in all_hc[:40]:\n",
    "    print(i)\n",
    "print('----------------')"
   ]
  },
  {
   "cell_type": "code",
   "execution_count": 19,
   "id": "3342a5e2",
   "metadata": {},
   "outputs": [
    {
     "name": "stdout",
     "output_type": "stream",
     "text": [
      "Eighty-One\n",
      "Transpose semitones: -2\n",
      "Starting measure: 2\n",
      "N. repetitions: 1\n"
     ]
    }
   ],
   "source": [
    "# tra_semi = all_hc[correct_index][0].split('_')[0]\n",
    "# starting = all_hc[correct_index][0].split('_')[1]\n",
    "\n",
    "correct_index = 0\n",
    "tra_semi = -2\n",
    "starting = 2\n",
    "\n",
    "melody = Melody(filename, '1.2')\n",
    "melody.setup()\n",
    "melody.set_song_structure(cps[melody.song_name])\n",
    "melody.align_key()\n",
    "\n",
    "# melody.tempo /= 2\n",
    "\n",
    "melody.transpose_semitones = int(tra_semi)\n",
    "melody.starting_measure = int(starting)\n",
    "\n",
    "melody.parse_notes()\n",
    "\n",
    "melody.split_melody(quantized=True, save=False)\n",
    "\n",
    "repetitions = len(melody.split_note_info)\n",
    "# repetitions = \n",
    "\n",
    "print(melody.song_name)\n",
    "print(f'Transpose semitones: {melody.transpose_semitones}')\n",
    "print(f'Starting measure: {melody.starting_measure}')\n",
    "\n",
    "print(f'N. repetitions: {repetitions}')\n",
    "\n",
    "for r in range(1, repetitions + 1):\n",
    "    melody.save_split_melody(repetition=r, quantized=True, chords=True)"
   ]
  },
  {
   "cell_type": "code",
   "execution_count": 14,
   "id": "9255dfca",
   "metadata": {},
   "outputs": [],
   "source": [
    "all_results = {}\n",
    "results = calculate_melody_results(melody)\n",
    "\n",
    "for k, v in results.items():\n",
    "    all_results_key = melody.filename + ' -' + str(k) + '-'\n",
    "    all_results[all_results_key] = v"
   ]
  },
  {
   "cell_type": "code",
   "execution_count": 15,
   "id": "2a14ded7",
   "metadata": {},
   "outputs": [
    {
     "name": "stdout",
     "output_type": "stream",
     "text": [
      "Good to go? g\n",
      "Finalising\n"
     ]
    },
    {
     "ename": "FileNotFoundError",
     "evalue": "[Errno 2] No such file or directory: '../data/split_melody/v1.2/Jazz-Midi/Eighty-One -1-.mid'",
     "output_type": "error",
     "traceback": [
      "\u001b[0;31m---------------------------------------------------------------------------\u001b[0m",
      "\u001b[0;31mFileNotFoundError\u001b[0m                         Traceback (most recent call last)",
      "Input \u001b[0;32mIn [15]\u001b[0m, in \u001b[0;36m<cell line: 3>\u001b[0;34m()\u001b[0m\n\u001b[1;32m     20\u001b[0m \u001b[38;5;28;01mif\u001b[39;00m \u001b[38;5;129;01mnot\u001b[39;00m os\u001b[38;5;241m.\u001b[39mpath\u001b[38;5;241m.\u001b[39mexists(os\u001b[38;5;241m.\u001b[39mpath\u001b[38;5;241m.\u001b[39mdirname(dst_csv)):\n\u001b[1;32m     21\u001b[0m     os\u001b[38;5;241m.\u001b[39mmakedirs(os\u001b[38;5;241m.\u001b[39mpath\u001b[38;5;241m.\u001b[39mdirname(dst_csv))\n\u001b[0;32m---> 23\u001b[0m \u001b[43mshutil\u001b[49m\u001b[38;5;241;43m.\u001b[39;49m\u001b[43mcopyfile\u001b[49m\u001b[43m(\u001b[49m\u001b[43msrc_midi\u001b[49m\u001b[43m,\u001b[49m\u001b[43m \u001b[49m\u001b[43mdst_midi\u001b[49m\u001b[43m)\u001b[49m\n\u001b[1;32m     24\u001b[0m shutil\u001b[38;5;241m.\u001b[39mcopyfile(src_csv, dst_csv)\n",
      "File \u001b[0;32m~/anaconda3/envs/thesis/lib/python3.10/shutil.py:254\u001b[0m, in \u001b[0;36mcopyfile\u001b[0;34m(src, dst, follow_symlinks)\u001b[0m\n\u001b[1;32m    252\u001b[0m     os\u001b[38;5;241m.\u001b[39msymlink(os\u001b[38;5;241m.\u001b[39mreadlink(src), dst)\n\u001b[1;32m    253\u001b[0m \u001b[38;5;28;01melse\u001b[39;00m:\n\u001b[0;32m--> 254\u001b[0m     \u001b[38;5;28;01mwith\u001b[39;00m \u001b[38;5;28;43mopen\u001b[39;49m\u001b[43m(\u001b[49m\u001b[43msrc\u001b[49m\u001b[43m,\u001b[49m\u001b[43m \u001b[49m\u001b[38;5;124;43m'\u001b[39;49m\u001b[38;5;124;43mrb\u001b[39;49m\u001b[38;5;124;43m'\u001b[39;49m\u001b[43m)\u001b[49m \u001b[38;5;28;01mas\u001b[39;00m fsrc:\n\u001b[1;32m    255\u001b[0m         \u001b[38;5;28;01mtry\u001b[39;00m:\n\u001b[1;32m    256\u001b[0m             \u001b[38;5;28;01mwith\u001b[39;00m \u001b[38;5;28mopen\u001b[39m(dst, \u001b[38;5;124m'\u001b[39m\u001b[38;5;124mwb\u001b[39m\u001b[38;5;124m'\u001b[39m) \u001b[38;5;28;01mas\u001b[39;00m fdst:\n\u001b[1;32m    257\u001b[0m                 \u001b[38;5;66;03m# macOS\u001b[39;00m\n",
      "\u001b[0;31mFileNotFoundError\u001b[0m: [Errno 2] No such file or directory: '../data/split_melody/v1.2/Jazz-Midi/Eighty-One -1-.mid'"
     ]
    }
   ],
   "source": [
    "gtg = input('Good to go? ')\n",
    "\n",
    "if gtg == 'g':\n",
    "    \n",
    "    print('Finalising')\n",
    "    \n",
    "    for k, results in all_results.items():\n",
    "        folder_midi = f'../data/split_melody/v1.2/{source}/'\n",
    "        folder_csv = f'../data/split_melody_data/v1.2/{source}/'\n",
    "\n",
    "        src_midi = folder_midi + results['out_filename']\n",
    "        dst_midi = src_midi.replace('split_melody/v1.2', 'finalised/midi')\n",
    "\n",
    "        src_csv = folder_csv + results['out_filename'].replace('.mid', '.csv')\n",
    "        dst_csv = src_csv.replace('split_melody_data/v1.2', 'finalised/csv')\n",
    "\n",
    "        if not os.path.exists(os.path.dirname(dst_midi)):\n",
    "            os.makedirs(os.path.dirname(dst_midi))\n",
    "\n",
    "        if not os.path.exists(os.path.dirname(dst_csv)):\n",
    "            os.makedirs(os.path.dirname(dst_csv))\n",
    "\n",
    "        shutil.copyfile(src_midi, dst_midi)\n",
    "        shutil.copyfile(src_csv, dst_csv)"
   ]
  },
  {
   "cell_type": "code",
   "execution_count": null,
   "id": "906ac5cb",
   "metadata": {},
   "outputs": [],
   "source": []
  }
 ],
 "metadata": {
  "kernelspec": {
   "display_name": "Python 3 (ipykernel)",
   "language": "python",
   "name": "python3"
  },
  "language_info": {
   "codemirror_mode": {
    "name": "ipython",
    "version": 3
   },
   "file_extension": ".py",
   "mimetype": "text/x-python",
   "name": "python",
   "nbconvert_exporter": "python",
   "pygments_lexer": "ipython3",
   "version": "3.10.0"
  }
 },
 "nbformat": 4,
 "nbformat_minor": 5
}
