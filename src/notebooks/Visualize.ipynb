{
 "cells": [
  {
   "cell_type": "code",
   "execution_count": 9,
   "id": "40434990",
   "metadata": {},
   "outputs": [
    {
     "ename": "ModuleNotFoundError",
     "evalue": "No module named 'pycore.tikzeng'",
     "output_type": "error",
     "traceback": [
      "\u001b[0;31m---------------------------------------------------------------------------\u001b[0m",
      "\u001b[0;31mModuleNotFoundError\u001b[0m                       Traceback (most recent call last)",
      "Input \u001b[0;32mIn [9]\u001b[0m, in \u001b[0;36m<cell line: 1>\u001b[0;34m()\u001b[0m\n\u001b[0;32m----> 1\u001b[0m \u001b[38;5;28;01mfrom\u001b[39;00m \u001b[38;5;21;01mpycore\u001b[39;00m\u001b[38;5;21;01m.\u001b[39;00m\u001b[38;5;21;01mtikzeng\u001b[39;00m \u001b[38;5;28;01mimport\u001b[39;00m \u001b[38;5;241m*\u001b[39m\n\u001b[1;32m      3\u001b[0m \u001b[38;5;66;03m# defined your arch\u001b[39;00m\n\u001b[1;32m      4\u001b[0m arch \u001b[38;5;241m=\u001b[39m [\n\u001b[1;32m      5\u001b[0m     to_head( \u001b[38;5;124m'\u001b[39m\u001b[38;5;124m..\u001b[39m\u001b[38;5;124m'\u001b[39m ),\n\u001b[1;32m      6\u001b[0m     to_cor(),\n\u001b[0;32m   (...)\u001b[0m\n\u001b[1;32m     15\u001b[0m     to_end()\n\u001b[1;32m     16\u001b[0m ]\n",
      "\u001b[0;31mModuleNotFoundError\u001b[0m: No module named 'pycore.tikzeng'"
     ]
    }
   ],
   "source": [
    "from pycore.tikzeng import *\n",
    "\n",
    "# defined your arch\n",
    "arch = [\n",
    "    to_head( '..' ),\n",
    "    to_cor(),\n",
    "    to_begin(),\n",
    "    to_Conv(\"conv1\", 512, 64, offset=\"(0,0,0)\", to=\"(0,0,0)\", height=64, depth=64, width=2 ),\n",
    "    to_Pool(\"pool1\", offset=\"(0,0,0)\", to=\"(conv1-east)\"),\n",
    "    to_Conv(\"conv2\", 128, 64, offset=\"(1,0,0)\", to=\"(pool1-east)\", height=32, depth=32, width=2 ),\n",
    "    to_connection( \"pool1\", \"conv2\"),\n",
    "    to_Pool(\"pool2\", offset=\"(0,0,0)\", to=\"(conv2-east)\", height=28, depth=28, width=1),\n",
    "    to_SoftMax(\"soft1\", 10 ,\"(3,0,0)\", \"(pool1-east)\", caption=\"SOFT\"  ),\n",
    "    to_connection(\"pool2\", \"soft1\"),\n",
    "    to_end()\n",
    "]"
   ]
  },
  {
   "cell_type": "code",
   "execution_count": 10,
   "id": "ebc0f885",
   "metadata": {},
   "outputs": [],
   "source": [
    "def main():\n",
    "    namefile = str(sys.argv[0]).split('.')[0]\n",
    "    to_generate(arch, namefile + '.tex' )"
   ]
  },
  {
   "cell_type": "code",
   "execution_count": null,
   "id": "a2d8e077",
   "metadata": {},
   "outputs": [],
   "source": []
  }
 ],
 "metadata": {
  "kernelspec": {
   "display_name": "Python 3 (ipykernel)",
   "language": "python",
   "name": "python3"
  },
  "language_info": {
   "codemirror_mode": {
    "name": "ipython",
    "version": 3
   },
   "file_extension": ".py",
   "mimetype": "text/x-python",
   "name": "python",
   "nbconvert_exporter": "python",
   "pygments_lexer": "ipython3",
   "version": "3.10.0"
  }
 },
 "nbformat": 4,
 "nbformat_minor": 5
}
