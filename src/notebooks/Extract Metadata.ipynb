{
 "cells": [
  {
   "cell_type": "code",
   "execution_count": 540,
   "id": "7fc047fc",
   "metadata": {},
   "outputs": [],
   "source": [
    "import os\n",
    "import sys\n",
    "from glob import glob\n",
    "\n",
    "import pandas as pd\n",
    "\n",
    "sys.path.append(os.path.join('..', '..'))\n",
    "\n",
    "\n",
    "from src.melody import Melody\n",
    "from src.utils import get_chord_progressions, replace_enharmonic\n",
    "from src.utils.constants import PITCH_CLS"
   ]
  },
  {
   "cell_type": "code",
   "execution_count": 541,
   "id": "d25d68ee",
   "metadata": {},
   "outputs": [],
   "source": [
    "solo_info = pd.read_csv('/home/manu/Downloads/weimar_db_solo_info.csv')"
   ]
  },
  {
   "cell_type": "code",
   "execution_count": 542,
   "id": "c19f7f8e",
   "metadata": {},
   "outputs": [
    {
     "name": "stdout",
     "output_type": "stream",
     "text": [
      "Tenderly ['no tempo detected']\n",
      "Here's That Rainy Day ['no tempo detected']\n"
     ]
    },
    {
     "name": "stderr",
     "output_type": "stream",
     "text": [
      "/home/manu/anaconda3/envs/thesis/lib/python3.10/site-packages/music21/midi/translate.py:790: TranslateWarning: Unable to determine instrument from <music21.midi.MidiEvent PROGRAM_CHANGE, track=3, channel=10, data=32>; getting generic UnpitchedPercussion\n",
      "  warnings.warn(\n"
     ]
    }
   ],
   "source": [
    "metadata = []\n",
    "\n",
    "chord_progs = get_chord_progressions('../..')\n",
    "\n",
    "folder_o = '../../data/Complete Examples/v1.2'\n",
    "files_o = [y for x in os.walk(folder_o) for y in glob(os.path.join(x[0], '*.mid'))]\n",
    "\n",
    "for file in files_o:\n",
    "    m = Melody(file)\n",
    "    m.setup()\n",
    "    if m.song_name in chord_progs:\n",
    "        m.set_song_structure(chord_progs[m.song_name])\n",
    "        \n",
    "    artist = \"\".join(m.filename.split(' - ')[0]) if len(m.filename.split(' - ')) > 1 else \"\"\n",
    "   \n",
    "    \n",
    "    meta = {\n",
    "        'filename': m.filename.replace('.mid', '.csv'),\n",
    "        'source': m.source,\n",
    "        'song_name': m.song_name,\n",
    "        'key_tonic': m.chord_progression_key,\n",
    "        'key_mode': 'minor' if m.chord_progression_minor else 'major',\n",
    "        'tempo': m.tempo\n",
    "    }\n",
    "    \n",
    "    metadata.append(meta)"
   ]
  },
  {
   "cell_type": "code",
   "execution_count": 543,
   "id": "28df3610",
   "metadata": {},
   "outputs": [],
   "source": [
    "wei_old = df[df['source'] == 'Weimar DB'].sort_values('song_name')\n",
    "wei_old['performer'] = wei_old['filename'].str.split(' - ').apply(lambda x: x[0])"
   ]
  },
  {
   "cell_type": "code",
   "execution_count": 549,
   "id": "0882e5e9",
   "metadata": {},
   "outputs": [
    {
     "data": {
      "text/html": [
       "<div>\n",
       "<style scoped>\n",
       "    .dataframe tbody tr th:only-of-type {\n",
       "        vertical-align: middle;\n",
       "    }\n",
       "\n",
       "    .dataframe tbody tr th {\n",
       "        vertical-align: top;\n",
       "    }\n",
       "\n",
       "    .dataframe thead th {\n",
       "        text-align: right;\n",
       "    }\n",
       "</style>\n",
       "<table border=\"1\" class=\"dataframe\">\n",
       "  <thead>\n",
       "    <tr style=\"text-align: right;\">\n",
       "      <th></th>\n",
       "      <th>filename</th>\n",
       "      <th>source</th>\n",
       "      <th>song_name</th>\n",
       "      <th>key_tonic</th>\n",
       "      <th>key_mode</th>\n",
       "      <th>tempo</th>\n",
       "      <th>performer</th>\n",
       "    </tr>\n",
       "  </thead>\n",
       "  <tbody>\n",
       "    <tr>\n",
       "      <th>0</th>\n",
       "      <td>Clifford Brown - A Night In Tunisia.csv</td>\n",
       "      <td>Weimar DB</td>\n",
       "      <td>A Night In Tunisia</td>\n",
       "      <td>D</td>\n",
       "      <td>minor</td>\n",
       "      <td>63</td>\n",
       "      <td>Clifford Brown</td>\n",
       "    </tr>\n",
       "    <tr>\n",
       "      <th>1</th>\n",
       "      <td>Pepper Adams - A Night In Tunisia.csv</td>\n",
       "      <td>Weimar DB</td>\n",
       "      <td>A Night In Tunisia</td>\n",
       "      <td>D</td>\n",
       "      <td>minor</td>\n",
       "      <td>94</td>\n",
       "      <td>Pepper Adams</td>\n",
       "    </tr>\n",
       "    <tr>\n",
       "      <th>2</th>\n",
       "      <td>Miles Davis - Airegin.csv</td>\n",
       "      <td>Weimar DB</td>\n",
       "      <td>Airegin</td>\n",
       "      <td>F</td>\n",
       "      <td>minor</td>\n",
       "      <td>50</td>\n",
       "      <td>Miles Davis</td>\n",
       "    </tr>\n",
       "    <tr>\n",
       "      <th>3</th>\n",
       "      <td>Sonny Rollins - Airegin.csv</td>\n",
       "      <td>Weimar DB</td>\n",
       "      <td>Airegin</td>\n",
       "      <td>F</td>\n",
       "      <td>minor</td>\n",
       "      <td>50</td>\n",
       "      <td>Sonny Rollins</td>\n",
       "    </tr>\n",
       "    <tr>\n",
       "      <th>4</th>\n",
       "      <td>Lee Konitz - All The Things You Are.csv</td>\n",
       "      <td>Weimar DB</td>\n",
       "      <td>All The Things You Are</td>\n",
       "      <td>Ab</td>\n",
       "      <td>major</td>\n",
       "      <td>63</td>\n",
       "      <td>Lee Konitz</td>\n",
       "    </tr>\n",
       "    <tr>\n",
       "      <th>...</th>\n",
       "      <td>...</td>\n",
       "      <td>...</td>\n",
       "      <td>...</td>\n",
       "      <td>...</td>\n",
       "      <td>...</td>\n",
       "      <td>...</td>\n",
       "      <td>...</td>\n",
       "    </tr>\n",
       "    <tr>\n",
       "      <th>99</th>\n",
       "      <td>Chet Baker - There Will Never Be Another You (...</td>\n",
       "      <td>Weimar DB</td>\n",
       "      <td>There Will Never Be Another You</td>\n",
       "      <td>Eb</td>\n",
       "      <td>major</td>\n",
       "      <td>71</td>\n",
       "      <td>Chet Baker</td>\n",
       "    </tr>\n",
       "    <tr>\n",
       "      <th>100</th>\n",
       "      <td>Chet Baker - There Will Never Be Another You (...</td>\n",
       "      <td>Weimar DB</td>\n",
       "      <td>There Will Never Be Another You</td>\n",
       "      <td>Eb</td>\n",
       "      <td>major</td>\n",
       "      <td>71</td>\n",
       "      <td>Chet Baker</td>\n",
       "    </tr>\n",
       "    <tr>\n",
       "      <th>101</th>\n",
       "      <td>David Liebman - There Will Never Be Another Yo...</td>\n",
       "      <td>Weimar DB</td>\n",
       "      <td>There Will Never Be Another You</td>\n",
       "      <td>Eb</td>\n",
       "      <td>major</td>\n",
       "      <td>79</td>\n",
       "      <td>David Liebman</td>\n",
       "    </tr>\n",
       "    <tr>\n",
       "      <th>102</th>\n",
       "      <td>Milt Jackson - What's New.csv</td>\n",
       "      <td>Weimar DB</td>\n",
       "      <td>What's New</td>\n",
       "      <td>C</td>\n",
       "      <td>major</td>\n",
       "      <td>167</td>\n",
       "      <td>Milt Jackson</td>\n",
       "    </tr>\n",
       "    <tr>\n",
       "      <th>103</th>\n",
       "      <td>J J Johnson - Yesterdays.csv</td>\n",
       "      <td>Weimar DB</td>\n",
       "      <td>Yesterdays</td>\n",
       "      <td>D</td>\n",
       "      <td>minor</td>\n",
       "      <td>96</td>\n",
       "      <td>J J Johnson</td>\n",
       "    </tr>\n",
       "  </tbody>\n",
       "</table>\n",
       "<p>104 rows × 7 columns</p>\n",
       "</div>"
      ],
      "text/plain": [
       "                                              filename     source  \\\n",
       "0              Clifford Brown - A Night In Tunisia.csv  Weimar DB   \n",
       "1                Pepper Adams - A Night In Tunisia.csv  Weimar DB   \n",
       "2                            Miles Davis - Airegin.csv  Weimar DB   \n",
       "3                          Sonny Rollins - Airegin.csv  Weimar DB   \n",
       "4              Lee Konitz - All The Things You Are.csv  Weimar DB   \n",
       "..                                                 ...        ...   \n",
       "99   Chet Baker - There Will Never Be Another You (...  Weimar DB   \n",
       "100  Chet Baker - There Will Never Be Another You (...  Weimar DB   \n",
       "101  David Liebman - There Will Never Be Another Yo...  Weimar DB   \n",
       "102                      Milt Jackson - What's New.csv  Weimar DB   \n",
       "103                       J J Johnson - Yesterdays.csv  Weimar DB   \n",
       "\n",
       "                           song_name key_tonic key_mode  tempo       performer  \n",
       "0                 A Night In Tunisia         D    minor     63  Clifford Brown  \n",
       "1                 A Night In Tunisia         D    minor     94    Pepper Adams  \n",
       "2                            Airegin         F    minor     50     Miles Davis  \n",
       "3                            Airegin         F    minor     50   Sonny Rollins  \n",
       "4             All The Things You Are        Ab    major     63      Lee Konitz  \n",
       "..                               ...       ...      ...    ...             ...  \n",
       "99   There Will Never Be Another You        Eb    major     71      Chet Baker  \n",
       "100  There Will Never Be Another You        Eb    major     71      Chet Baker  \n",
       "101  There Will Never Be Another You        Eb    major     79   David Liebman  \n",
       "102                       What's New         C    major    167    Milt Jackson  \n",
       "103                       Yesterdays         D    minor     96     J J Johnson  \n",
       "\n",
       "[104 rows x 7 columns]"
      ]
     },
     "execution_count": 549,
     "metadata": {},
     "output_type": "execute_result"
    }
   ],
   "source": [
    "wei_old"
   ]
  },
  {
   "cell_type": "code",
   "execution_count": 544,
   "id": "cad5969a",
   "metadata": {
    "scrolled": false
   },
   "outputs": [],
   "source": [
    "wei_new = solo_info[['performer', 'title', 'avgtempo']].sort_values('title').reset_index(drop=True)\n",
    "\n",
    "wei_new = wei_new.iloc[3:] \n",
    "wei_new = wei_new.drop(range(5,11))\n",
    "wei_new = wei_new.drop(range(13,16))\n",
    "wei_new = wei_new.drop(range(22,24))\n",
    "wei_new = wei_new.drop(25)\n",
    "wei_new = wei_new.drop(29)\n",
    "wei_new = wei_new.drop(range(32,37))\n",
    "wei_new = wei_new.drop(range(38,43))\n",
    "wei_new = wei_new.drop(range(45,57))\n",
    "wei_new = wei_new.drop(range(60,62))\n",
    "wei_new = wei_new.drop(range(63,93))\n",
    "wei_new = wei_new.drop(range(94,109))\n",
    "wei_new = wei_new.drop(range(110,119))\n",
    "wei_new = wei_new.drop(range(120,138))\n",
    "wei_new = wei_new.drop(range(141,142))\n",
    "wei_new = wei_new.drop(range(143,144))\n",
    "wei_new = wei_new.drop(range(145,156))\n",
    "wei_new = wei_new.drop(range(158,161))\n",
    "wei_new = wei_new.drop(164)\n",
    "wei_new = wei_new.drop(167)\n",
    "wei_new = wei_new.drop(range(170,174))\n",
    "wei_new = wei_new.drop(range(175,186))\n",
    "wei_new = wei_new.drop(range(187,192))\n",
    "wei_new = wei_new.drop(193)\n",
    "wei_new = wei_new.drop(range(195,197))\n",
    "wei_new = wei_new.drop(198)\n",
    "wei_new = wei_new.drop(200)\n",
    "wei_new = wei_new.drop(range(205,211))\n",
    "wei_new = wei_new.drop(range(214,218))\n",
    "wei_new = wei_new.drop(range(219,231))\n",
    "wei_new = wei_new.drop(232)\n",
    "wei_new = wei_new.drop(range(236,247))\n",
    "wei_new = wei_new.drop(range(248,249))\n",
    "wei_new = wei_new.drop(range(251,253))\n",
    "wei_new = wei_new.drop(256)\n",
    "wei_new = wei_new.drop(260)\n",
    "wei_new = wei_new.drop(range(263,274))\n",
    "wei_new = wei_new.drop(range(278,280))\n",
    "wei_new = wei_new.drop(range(281,286))\n",
    "wei_new = wei_new.drop(range(289,295))\n",
    "wei_new = wei_new.drop(299)\n",
    "wei_new = wei_new.drop(range(303,306))\n",
    "wei_new = wei_new.drop(range(307,315))\n",
    "wei_new = wei_new.drop(range(316,346))\n",
    "wei_new = wei_new.drop(range(347,358))\n",
    "wei_new = wei_new.drop(range(361,363))\n",
    "wei_new = wei_new.drop(365)\n",
    "wei_new = wei_new.drop(range(367,369))\n",
    "wei_new = wei_new.drop(range(371,375))\n",
    "wei_new = wei_new.drop(range(377,386))\n",
    "wei_new = wei_new.drop(range(387,402))\n",
    "wei_new = wei_new.drop(range(403,410))\n",
    "wei_new = wei_new.drop(range(413,437))\n",
    "wei_new = wei_new.drop(range(438,449))\n",
    "wei_new = wei_new.drop(range(450,456))"
   ]
  },
  {
   "cell_type": "code",
   "execution_count": 545,
   "id": "96892659",
   "metadata": {},
   "outputs": [],
   "source": [
    "wei_old = wei_old.sort_values(['song_name', 'performer']).reset_index(drop=True)"
   ]
  },
  {
   "cell_type": "code",
   "execution_count": 546,
   "id": "fdac6de6",
   "metadata": {},
   "outputs": [],
   "source": [
    "wei_new = wei_new.sort_values(['title', 'performer']).reset_index(drop=True)"
   ]
  },
  {
   "cell_type": "code",
   "execution_count": 547,
   "id": "bbff1f1f",
   "metadata": {},
   "outputs": [],
   "source": [
    "wei_new['tempo'] = wei_new['avgtempo'].apply(round)\n",
    "wei_new['tempo_idx']= df['tempo']"
   ]
  },
  {
   "cell_type": "code",
   "execution_count": 548,
   "id": "94ce6333",
   "metadata": {},
   "outputs": [
    {
     "ename": "KeyError",
     "evalue": "\"['tempo_idx'] not found in axis\"",
     "output_type": "error",
     "traceback": [
      "\u001b[0;31m---------------------------------------------------------------------------\u001b[0m",
      "\u001b[0;31mKeyError\u001b[0m                                  Traceback (most recent call last)",
      "Input \u001b[0;32mIn [548]\u001b[0m, in \u001b[0;36m<cell line: 1>\u001b[0;34m()\u001b[0m\n\u001b[0;32m----> 1\u001b[0m wei_tot \u001b[38;5;241m=\u001b[39m pd\u001b[38;5;241m.\u001b[39mconcat([\u001b[43mwei_old\u001b[49m\u001b[38;5;241;43m.\u001b[39;49m\u001b[43mdrop\u001b[49m\u001b[43m(\u001b[49m\u001b[43m[\u001b[49m\u001b[38;5;124;43m'\u001b[39;49m\u001b[38;5;124;43mtempo\u001b[39;49m\u001b[38;5;124;43m'\u001b[39;49m\u001b[43m,\u001b[49m\u001b[43m \u001b[49m\u001b[38;5;124;43m'\u001b[39;49m\u001b[38;5;124;43mtempo_idx\u001b[39;49m\u001b[38;5;124;43m'\u001b[39;49m\u001b[43m]\u001b[49m\u001b[43m,\u001b[49m\u001b[43m \u001b[49m\u001b[43maxis\u001b[49m\u001b[38;5;241;43m=\u001b[39;49m\u001b[38;5;241;43m1\u001b[39;49m\u001b[43m)\u001b[49m, \n\u001b[1;32m      2\u001b[0m                      wei_new[[\u001b[38;5;124m'\u001b[39m\u001b[38;5;124mtempo\u001b[39m\u001b[38;5;124m'\u001b[39m, \u001b[38;5;124m'\u001b[39m\u001b[38;5;124mtempo_idx\u001b[39m\u001b[38;5;124m'\u001b[39m]]], axis\u001b[38;5;241m=\u001b[39m\u001b[38;5;241m1\u001b[39m)\n",
      "File \u001b[0;32m~/anaconda3/envs/thesis/lib/python3.10/site-packages/pandas/util/_decorators.py:311\u001b[0m, in \u001b[0;36mdeprecate_nonkeyword_arguments.<locals>.decorate.<locals>.wrapper\u001b[0;34m(*args, **kwargs)\u001b[0m\n\u001b[1;32m    305\u001b[0m \u001b[38;5;28;01mif\u001b[39;00m \u001b[38;5;28mlen\u001b[39m(args) \u001b[38;5;241m>\u001b[39m num_allow_args:\n\u001b[1;32m    306\u001b[0m     warnings\u001b[38;5;241m.\u001b[39mwarn(\n\u001b[1;32m    307\u001b[0m         msg\u001b[38;5;241m.\u001b[39mformat(arguments\u001b[38;5;241m=\u001b[39marguments),\n\u001b[1;32m    308\u001b[0m         \u001b[38;5;167;01mFutureWarning\u001b[39;00m,\n\u001b[1;32m    309\u001b[0m         stacklevel\u001b[38;5;241m=\u001b[39mstacklevel,\n\u001b[1;32m    310\u001b[0m     )\n\u001b[0;32m--> 311\u001b[0m \u001b[38;5;28;01mreturn\u001b[39;00m \u001b[43mfunc\u001b[49m\u001b[43m(\u001b[49m\u001b[38;5;241;43m*\u001b[39;49m\u001b[43margs\u001b[49m\u001b[43m,\u001b[49m\u001b[43m \u001b[49m\u001b[38;5;241;43m*\u001b[39;49m\u001b[38;5;241;43m*\u001b[39;49m\u001b[43mkwargs\u001b[49m\u001b[43m)\u001b[49m\n",
      "File \u001b[0;32m~/anaconda3/envs/thesis/lib/python3.10/site-packages/pandas/core/frame.py:4948\u001b[0m, in \u001b[0;36mDataFrame.drop\u001b[0;34m(self, labels, axis, index, columns, level, inplace, errors)\u001b[0m\n\u001b[1;32m   4800\u001b[0m \u001b[38;5;129m@deprecate_nonkeyword_arguments\u001b[39m(version\u001b[38;5;241m=\u001b[39m\u001b[38;5;28;01mNone\u001b[39;00m, allowed_args\u001b[38;5;241m=\u001b[39m[\u001b[38;5;124m\"\u001b[39m\u001b[38;5;124mself\u001b[39m\u001b[38;5;124m\"\u001b[39m, \u001b[38;5;124m\"\u001b[39m\u001b[38;5;124mlabels\u001b[39m\u001b[38;5;124m\"\u001b[39m])\n\u001b[1;32m   4801\u001b[0m \u001b[38;5;28;01mdef\u001b[39;00m \u001b[38;5;21mdrop\u001b[39m(\n\u001b[1;32m   4802\u001b[0m     \u001b[38;5;28mself\u001b[39m,\n\u001b[0;32m   (...)\u001b[0m\n\u001b[1;32m   4809\u001b[0m     errors: \u001b[38;5;28mstr\u001b[39m \u001b[38;5;241m=\u001b[39m \u001b[38;5;124m\"\u001b[39m\u001b[38;5;124mraise\u001b[39m\u001b[38;5;124m\"\u001b[39m,\n\u001b[1;32m   4810\u001b[0m ):\n\u001b[1;32m   4811\u001b[0m     \u001b[38;5;124;03m\"\"\"\u001b[39;00m\n\u001b[1;32m   4812\u001b[0m \u001b[38;5;124;03m    Drop specified labels from rows or columns.\u001b[39;00m\n\u001b[1;32m   4813\u001b[0m \n\u001b[0;32m   (...)\u001b[0m\n\u001b[1;32m   4946\u001b[0m \u001b[38;5;124;03m            weight  1.0     0.8\u001b[39;00m\n\u001b[1;32m   4947\u001b[0m \u001b[38;5;124;03m    \"\"\"\u001b[39;00m\n\u001b[0;32m-> 4948\u001b[0m     \u001b[38;5;28;01mreturn\u001b[39;00m \u001b[38;5;28;43msuper\u001b[39;49m\u001b[43m(\u001b[49m\u001b[43m)\u001b[49m\u001b[38;5;241;43m.\u001b[39;49m\u001b[43mdrop\u001b[49m\u001b[43m(\u001b[49m\n\u001b[1;32m   4949\u001b[0m \u001b[43m        \u001b[49m\u001b[43mlabels\u001b[49m\u001b[38;5;241;43m=\u001b[39;49m\u001b[43mlabels\u001b[49m\u001b[43m,\u001b[49m\n\u001b[1;32m   4950\u001b[0m \u001b[43m        \u001b[49m\u001b[43maxis\u001b[49m\u001b[38;5;241;43m=\u001b[39;49m\u001b[43maxis\u001b[49m\u001b[43m,\u001b[49m\n\u001b[1;32m   4951\u001b[0m \u001b[43m        \u001b[49m\u001b[43mindex\u001b[49m\u001b[38;5;241;43m=\u001b[39;49m\u001b[43mindex\u001b[49m\u001b[43m,\u001b[49m\n\u001b[1;32m   4952\u001b[0m \u001b[43m        \u001b[49m\u001b[43mcolumns\u001b[49m\u001b[38;5;241;43m=\u001b[39;49m\u001b[43mcolumns\u001b[49m\u001b[43m,\u001b[49m\n\u001b[1;32m   4953\u001b[0m \u001b[43m        \u001b[49m\u001b[43mlevel\u001b[49m\u001b[38;5;241;43m=\u001b[39;49m\u001b[43mlevel\u001b[49m\u001b[43m,\u001b[49m\n\u001b[1;32m   4954\u001b[0m \u001b[43m        \u001b[49m\u001b[43minplace\u001b[49m\u001b[38;5;241;43m=\u001b[39;49m\u001b[43minplace\u001b[49m\u001b[43m,\u001b[49m\n\u001b[1;32m   4955\u001b[0m \u001b[43m        \u001b[49m\u001b[43merrors\u001b[49m\u001b[38;5;241;43m=\u001b[39;49m\u001b[43merrors\u001b[49m\u001b[43m,\u001b[49m\n\u001b[1;32m   4956\u001b[0m \u001b[43m    \u001b[49m\u001b[43m)\u001b[49m\n",
      "File \u001b[0;32m~/anaconda3/envs/thesis/lib/python3.10/site-packages/pandas/core/generic.py:4279\u001b[0m, in \u001b[0;36mNDFrame.drop\u001b[0;34m(self, labels, axis, index, columns, level, inplace, errors)\u001b[0m\n\u001b[1;32m   4277\u001b[0m \u001b[38;5;28;01mfor\u001b[39;00m axis, labels \u001b[38;5;129;01min\u001b[39;00m axes\u001b[38;5;241m.\u001b[39mitems():\n\u001b[1;32m   4278\u001b[0m     \u001b[38;5;28;01mif\u001b[39;00m labels \u001b[38;5;129;01mis\u001b[39;00m \u001b[38;5;129;01mnot\u001b[39;00m \u001b[38;5;28;01mNone\u001b[39;00m:\n\u001b[0;32m-> 4279\u001b[0m         obj \u001b[38;5;241m=\u001b[39m \u001b[43mobj\u001b[49m\u001b[38;5;241;43m.\u001b[39;49m\u001b[43m_drop_axis\u001b[49m\u001b[43m(\u001b[49m\u001b[43mlabels\u001b[49m\u001b[43m,\u001b[49m\u001b[43m \u001b[49m\u001b[43maxis\u001b[49m\u001b[43m,\u001b[49m\u001b[43m \u001b[49m\u001b[43mlevel\u001b[49m\u001b[38;5;241;43m=\u001b[39;49m\u001b[43mlevel\u001b[49m\u001b[43m,\u001b[49m\u001b[43m \u001b[49m\u001b[43merrors\u001b[49m\u001b[38;5;241;43m=\u001b[39;49m\u001b[43merrors\u001b[49m\u001b[43m)\u001b[49m\n\u001b[1;32m   4281\u001b[0m \u001b[38;5;28;01mif\u001b[39;00m inplace:\n\u001b[1;32m   4282\u001b[0m     \u001b[38;5;28mself\u001b[39m\u001b[38;5;241m.\u001b[39m_update_inplace(obj)\n",
      "File \u001b[0;32m~/anaconda3/envs/thesis/lib/python3.10/site-packages/pandas/core/generic.py:4323\u001b[0m, in \u001b[0;36mNDFrame._drop_axis\u001b[0;34m(self, labels, axis, level, errors, consolidate, only_slice)\u001b[0m\n\u001b[1;32m   4321\u001b[0m         new_axis \u001b[38;5;241m=\u001b[39m axis\u001b[38;5;241m.\u001b[39mdrop(labels, level\u001b[38;5;241m=\u001b[39mlevel, errors\u001b[38;5;241m=\u001b[39merrors)\n\u001b[1;32m   4322\u001b[0m     \u001b[38;5;28;01melse\u001b[39;00m:\n\u001b[0;32m-> 4323\u001b[0m         new_axis \u001b[38;5;241m=\u001b[39m \u001b[43maxis\u001b[49m\u001b[38;5;241;43m.\u001b[39;49m\u001b[43mdrop\u001b[49m\u001b[43m(\u001b[49m\u001b[43mlabels\u001b[49m\u001b[43m,\u001b[49m\u001b[43m \u001b[49m\u001b[43merrors\u001b[49m\u001b[38;5;241;43m=\u001b[39;49m\u001b[43merrors\u001b[49m\u001b[43m)\u001b[49m\n\u001b[1;32m   4324\u001b[0m     indexer \u001b[38;5;241m=\u001b[39m axis\u001b[38;5;241m.\u001b[39mget_indexer(new_axis)\n\u001b[1;32m   4326\u001b[0m \u001b[38;5;66;03m# Case for non-unique axis\u001b[39;00m\n\u001b[1;32m   4327\u001b[0m \u001b[38;5;28;01melse\u001b[39;00m:\n",
      "File \u001b[0;32m~/anaconda3/envs/thesis/lib/python3.10/site-packages/pandas/core/indexes/base.py:6644\u001b[0m, in \u001b[0;36mIndex.drop\u001b[0;34m(self, labels, errors)\u001b[0m\n\u001b[1;32m   6642\u001b[0m \u001b[38;5;28;01mif\u001b[39;00m mask\u001b[38;5;241m.\u001b[39many():\n\u001b[1;32m   6643\u001b[0m     \u001b[38;5;28;01mif\u001b[39;00m errors \u001b[38;5;241m!=\u001b[39m \u001b[38;5;124m\"\u001b[39m\u001b[38;5;124mignore\u001b[39m\u001b[38;5;124m\"\u001b[39m:\n\u001b[0;32m-> 6644\u001b[0m         \u001b[38;5;28;01mraise\u001b[39;00m \u001b[38;5;167;01mKeyError\u001b[39;00m(\u001b[38;5;124mf\u001b[39m\u001b[38;5;124m\"\u001b[39m\u001b[38;5;132;01m{\u001b[39;00m\u001b[38;5;28mlist\u001b[39m(labels[mask])\u001b[38;5;132;01m}\u001b[39;00m\u001b[38;5;124m not found in axis\u001b[39m\u001b[38;5;124m\"\u001b[39m)\n\u001b[1;32m   6645\u001b[0m     indexer \u001b[38;5;241m=\u001b[39m indexer[\u001b[38;5;241m~\u001b[39mmask]\n\u001b[1;32m   6646\u001b[0m \u001b[38;5;28;01mreturn\u001b[39;00m \u001b[38;5;28mself\u001b[39m\u001b[38;5;241m.\u001b[39mdelete(indexer)\n",
      "\u001b[0;31mKeyError\u001b[0m: \"['tempo_idx'] not found in axis\""
     ]
    }
   ],
   "source": [
    "wei_tot = pd.concat([wei_old.drop(['tempo', 'tempo_idx'], axis=1), \n",
    "                     wei_new[['tempo', 'tempo_idx']]], axis=1)"
   ]
  },
  {
   "cell_type": "code",
   "execution_count": null,
   "id": "2939b22e",
   "metadata": {},
   "outputs": [],
   "source": [
    "nowei = df[df['source'] != 'Weimar DB']"
   ]
  },
  {
   "cell_type": "code",
   "execution_count": null,
   "id": "41f632ff",
   "metadata": {},
   "outputs": [],
   "source": [
    "tot = pd.concat([nowei, wei_tot], axis=0)"
   ]
  },
  {
   "cell_type": "code",
   "execution_count": null,
   "id": "0f5baef5",
   "metadata": {
    "scrolled": true
   },
   "outputs": [],
   "source": [
    "    tempo_mapping = {}\n",
    "    for k,v in enumerate(set(tot['tempo'].sort_values().unique())):\n",
    "        tempo_mapping[v] = k\n",
    "    tempo_mapping"
   ]
  },
  {
   "cell_type": "code",
   "execution_count": null,
   "id": "6e52612a",
   "metadata": {},
   "outputs": [],
   "source": [
    "tot.to_csv('../../data/finalised/metadata_2.csv')"
   ]
  },
  {
   "cell_type": "code",
   "execution_count": 14,
   "id": "b8969000",
   "metadata": {},
   "outputs": [],
   "source": [
    "df = pd.DataFrame.from_dict(metadata)\n",
    "df = df.dropna()\n",
    "df['tempo'] = (df['tempo'] / 5000).apply(round).astype(int)"
   ]
  },
  {
   "cell_type": "code",
   "execution_count": 9,
   "id": "680a6496",
   "metadata": {},
   "outputs": [
    {
     "data": {
      "text/plain": [
       "495838.22721088433"
      ]
     },
     "execution_count": 9,
     "metadata": {},
     "output_type": "execute_result"
    }
   ],
   "source": [
    "df['tempo'].mean()"
   ]
  },
  {
   "cell_type": "code",
   "execution_count": null,
   "id": "fcd019d6",
   "metadata": {},
   "outputs": [],
   "source": [
    "filename_mapping = {}\n",
    "for k,v in enumerate(set(df['filename'].unique())):\n",
    "    filename_mapping[v] = k\n",
    "filename_mapping"
   ]
  },
  {
   "cell_type": "code",
   "execution_count": null,
   "id": "19906388",
   "metadata": {},
   "outputs": [],
   "source": [
    "source_mapping = {}\n",
    "for k,v in enumerate(set(df['source'].unique())):\n",
    "    source_mapping[v] = k\n",
    "source_mapping"
   ]
  },
  {
   "cell_type": "code",
   "execution_count": null,
   "id": "c63eb75c",
   "metadata": {},
   "outputs": [],
   "source": [
    "song_name_mapping = {}\n",
    "for k,v in enumerate(set(df['song_name'].unique())):\n",
    "    song_name_mapping[v] = k\n",
    "song_name_mapping"
   ]
  },
  {
   "cell_type": "code",
   "execution_count": null,
   "id": "1a5f4f64",
   "metadata": {},
   "outputs": [],
   "source": [
    "def get_key(row):\n",
    "    tonic = row['key_tonic']\n",
    "    mode = row['key_mode']\n",
    "    \n",
    "    idx = PITCH_CLS.index(replace_enharmonic(tonic))\n",
    "    \n",
    "    if mode == 'minor':\n",
    "        idx = (idx + 3) % 12\n",
    "        \n",
    "    return idx"
   ]
  },
  {
   "cell_type": "code",
   "execution_count": null,
   "id": "d6355f7e",
   "metadata": {},
   "outputs": [],
   "source": [
    "df['key'] = df.apply(get_key, axis=1)"
   ]
  },
  {
   "cell_type": "code",
   "execution_count": null,
   "id": "5d704d00",
   "metadata": {},
   "outputs": [],
   "source": [
    "df['filename_idx'] = df['filename'].apply(lambda x: filename_mapping[x])\n",
    "df['source_idx'] = df['source'].apply(lambda x: source_mapping[x])\n",
    "df['song_name_idx'] = df['song_name'].apply(lambda x: song_name_mapping[x])\n",
    "df['key_idx'] = df['key']\n",
    "df['tempo_idx'] = df['tempo'].apply(lambda x: tempo_mapping[x])"
   ]
  },
  {
   "cell_type": "code",
   "execution_count": null,
   "id": "eeeda33a",
   "metadata": {},
   "outputs": [],
   "source": [
    "df[['filename_idx', 'source_idx', 'song_name_idx', 'tempo_idx', 'key_idx']]"
   ]
  },
  {
   "cell_type": "code",
   "execution_count": null,
   "id": "3b26cd46",
   "metadata": {},
   "outputs": [],
   "source": [
    "df.to_csv('../../data/finalised/metadata.csv')"
   ]
  },
  {
   "cell_type": "code",
   "execution_count": null,
   "id": "856db6d8",
   "metadata": {},
   "outputs": [],
   "source": [
    "df['tempo_idx'].max()"
   ]
  },
  {
   "cell_type": "code",
   "execution_count": null,
   "id": "167b489a",
   "metadata": {},
   "outputs": [],
   "source": []
  },
  {
   "cell_type": "code",
   "execution_count": null,
   "id": "1052dfb4",
   "metadata": {},
   "outputs": [],
   "source": []
  }
 ],
 "metadata": {
  "kernelspec": {
   "display_name": "Python 3 (ipykernel)",
   "language": "python",
   "name": "python3"
  },
  "language_info": {
   "codemirror_mode": {
    "name": "ipython",
    "version": 3
   },
   "file_extension": ".py",
   "mimetype": "text/x-python",
   "name": "python",
   "nbconvert_exporter": "python",
   "pygments_lexer": "ipython3",
   "version": "3.10.0"
  }
 },
 "nbformat": 4,
 "nbformat_minor": 5
}
