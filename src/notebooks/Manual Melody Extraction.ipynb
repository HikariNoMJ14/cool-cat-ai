{
 "cells": [
  {
   "cell_type": "code",
   "execution_count": 7,
   "id": "7c45be19",
   "metadata": {},
   "outputs": [],
   "source": [
    "import os\n",
    "import copy\n",
    "import difflib\n",
    "import shutil\n",
    "from glob import glob\n",
    "import pandas as pd\n",
    "import numpy as np\n",
    "import operator\n",
    "import sys\n",
    "\n",
    "from mido import MidiFile\n",
    "import pretty_midi as pm\n",
    "import music21\n",
    "\n",
    "sys.path.append('/media/manu/Data/PycharmProjects/thesis')\n",
    "\n",
    "from utils import get_chord_progressions, calculate_melody_results, flatten_chord_progression\n",
    "from melody import Melody\n",
    "\n",
    "source = 'JazzPage'"
   ]
  },
  {
   "cell_type": "code",
   "execution_count": 8,
   "id": "2c7ed822",
   "metadata": {},
   "outputs": [
    {
     "name": "stdout",
     "output_type": "stream",
     "text": [
      "92\n",
      "29\n"
     ]
    }
   ],
   "source": [
    "input_folder = f'../data/Complete Examples/v1.2/{source}'\n",
    "filepaths = [y for x in os.walk(input_folder) for y in glob(os.path.join(x[0], '*.mid'))]\n",
    "\n",
    "auto_folder  = f'../data/Complete Examples Melodies Auto/v1.2/{source}'\n",
    "auto_filenames = [os.path.basename(y) for x in os.walk(auto_folder) for y in glob(os.path.join(x[0], '*.mid'))]\n",
    "\n",
    "manual_folder  = f'../data/Complete Examples Melodies Manual/v1.2/{source}'\n",
    "manual_filenames = [os.path.basename(y) for x in os.walk(manual_folder) for y in glob(os.path.join(x[0], '*.mid'))]\n",
    "\n",
    "print(len(filepaths))\n",
    "filepaths = [f for f in filepaths \n",
    "             if os.path.basename(f) not in manual_filenames \n",
    "             and os.path.basename(f) not in auto_filenames]\n",
    "print(len(filepaths))"
   ]
  },
  {
   "cell_type": "code",
   "execution_count": 9,
   "id": "b4f68f26",
   "metadata": {},
   "outputs": [
    {
     "name": "stdout",
     "output_type": "stream",
     "text": [
      "../data/Complete Examples/v1.2/JazzPage/Ain't Misbehavin'.mid\n"
     ]
    }
   ],
   "source": [
    "idx = 0\n",
    "file = filepaths[idx]\n",
    "print(file)"
   ]
  },
  {
   "cell_type": "code",
   "execution_count": 10,
   "id": "c71e0c62",
   "metadata": {},
   "outputs": [
    {
     "data": {
      "text/plain": [
       "[\"../data/Complete Examples/v1.2/JazzPage/Ain't Misbehavin'.mid\",\n",
       " '../data/Complete Examples/v1.2/JazzPage/Anthropology.mid',\n",
       " '../data/Complete Examples/v1.2/JazzPage/Autumn Leaves (2).mid',\n",
       " '../data/Complete Examples/v1.2/JazzPage/Autumn Leaves (3).mid',\n",
       " '../data/Complete Examples/v1.2/JazzPage/Autumn Leaves.mid',\n",
       " '../data/Complete Examples/v1.2/JazzPage/Blue Monk (2).mid',\n",
       " '../data/Complete Examples/v1.2/JazzPage/Blue Train.mid',\n",
       " '../data/Complete Examples/v1.2/JazzPage/Christmas Song (1).mid',\n",
       " '../data/Complete Examples/v1.2/JazzPage/Criss-Cross.mid',\n",
       " '../data/Complete Examples/v1.2/JazzPage/Doxy.mid',\n",
       " '../data/Complete Examples/v1.2/JazzPage/How Insensitive.mid',\n",
       " '../data/Complete Examples/v1.2/JazzPage/I Concentrate On You (2).mid',\n",
       " '../data/Complete Examples/v1.2/JazzPage/I Got Rhythm.mid',\n",
       " \"../data/Complete Examples/v1.2/JazzPage/I Won't Dance.mid\",\n",
       " \"../data/Complete Examples/v1.2/JazzPage/It Don't Mean A Thing.mid\",\n",
       " \"../data/Complete Examples/v1.2/JazzPage/It's All Right With Me.mid\",\n",
       " '../data/Complete Examples/v1.2/JazzPage/Laura.mid',\n",
       " '../data/Complete Examples/v1.2/JazzPage/My Favorite Things (1).mid',\n",
       " '../data/Complete Examples/v1.2/JazzPage/Night And Day.mid',\n",
       " '../data/Complete Examples/v1.2/JazzPage/One Note Samba.mid',\n",
       " '../data/Complete Examples/v1.2/JazzPage/Our Love Is Here To Stay (1).mid',\n",
       " '../data/Complete Examples/v1.2/JazzPage/Polka Dots And Moonbeams.mid',\n",
       " '../data/Complete Examples/v1.2/JazzPage/Satin Doll.mid',\n",
       " '../data/Complete Examples/v1.2/JazzPage/Speak No Evil.mid',\n",
       " '../data/Complete Examples/v1.2/JazzPage/Summertime.mid',\n",
       " '../data/Complete Examples/v1.2/JazzPage/Sweet Georgia Brown.mid',\n",
       " '../data/Complete Examples/v1.2/JazzPage/Wave.mid',\n",
       " \"../data/Complete Examples/v1.2/JazzPage/Well, You Needn't.mid\",\n",
       " \"../data/Complete Examples/v1.2/JazzPage/What's New.mid\"]"
      ]
     },
     "execution_count": 10,
     "metadata": {},
     "output_type": "execute_result"
    }
   ],
   "source": [
    "filepaths[idx:]"
   ]
  },
  {
   "cell_type": "code",
   "execution_count": 5,
   "id": "9725fdd5",
   "metadata": {},
   "outputs": [],
   "source": [
    "pm_m = pm.PrettyMIDI(file)"
   ]
  },
  {
   "cell_type": "code",
   "execution_count": 6,
   "id": "104f6f94",
   "metadata": {
    "scrolled": true
   },
   "outputs": [
    {
     "name": "stdout",
     "output_type": "stream",
     "text": [
      "0 - Electric Guitar (jazz)    - \n",
      "1 - Electric Guitar (jazz)    - \n"
     ]
    }
   ],
   "source": [
    "for idx, instr in enumerate(pm_m.instruments):\n",
    "    if instr.is_drum:\n",
    "        print(f'{idx} - Drums')\n",
    "    else:\n",
    "        print(f'{idx} - {pm.utilities.program_to_instrument_name(instr.program):25} - {instr.name}')"
   ]
  },
  {
   "cell_type": "code",
   "execution_count": 7,
   "id": "dd4b37e8",
   "metadata": {},
   "outputs": [
    {
     "data": {
      "text/plain": [
       "'../data/Complete Examples Melodies Manual/v1.2/Jazz-Midi/Solar.mid'"
      ]
     },
     "execution_count": 7,
     "metadata": {},
     "output_type": "execute_result"
    }
   ],
   "source": [
    "melody_idx = 0\n",
    "melody_track = pm_m.instruments[melody_idx]\n",
    "\n",
    "out_path = os.path.join('..', 'data', 'Complete Examples Melodies Manual', f'v1.2')\n",
    "if not os.path.exists(os.path.join(out_path, source)):\n",
    "    os.makedirs(os.path.join(out_path, source))\n",
    "\n",
    "out_filename = os.path.join(out_path, source, os.path.basename(file))\n",
    "out_filename"
   ]
  },
  {
   "cell_type": "code",
   "execution_count": 8,
   "id": "63c6033f",
   "metadata": {},
   "outputs": [],
   "source": [
    "# out_filename = out_filename.replace('.mid', '') + ' (2).mid'\n",
    "\n",
    "pm_melody = copy.deepcopy(pm_m)\n",
    "pm_melody.instruments = [melody_track]\n",
    "\n",
    "pm_melody.write(out_filename)"
   ]
  },
  {
   "cell_type": "code",
   "execution_count": 26,
   "id": "0efe746a",
   "metadata": {},
   "outputs": [],
   "source": [
    "def get_channels(m):\n",
    "    channels = set({})\n",
    "    for t in m.tracks:\n",
    "        for m in t:\n",
    "            if m.type == 'note_on':\n",
    "                channels.add(m.channel)\n",
    "                    \n",
    "    return channels"
   ]
  },
  {
   "cell_type": "code",
   "execution_count": 27,
   "id": "2d7fa045",
   "metadata": {},
   "outputs": [],
   "source": [
    "def get_programs_mido(m, channels):\n",
    "    programs = []\n",
    "    \n",
    "    for c in channels:\n",
    "        programs.append(tuple([0, c]))\n",
    "    \n",
    "    for t in m.tracks:\n",
    "        for m in t:\n",
    "            if m.type == 'program_change':\n",
    "                programs.append(tuple([m.program, m.channel]))\n",
    "                \n",
    "    return programs"
   ]
  },
  {
   "cell_type": "code",
   "execution_count": 28,
   "id": "3a712a8d",
   "metadata": {},
   "outputs": [],
   "source": [
    "def get_programs_pm(m):\n",
    "    programs = []\n",
    "    \n",
    "    for i in m.instruments:\n",
    "        programs.append(tuple([i.program, i.is_drum]))\n",
    "        \n",
    "    return programs"
   ]
  },
  {
   "cell_type": "code",
   "execution_count": 29,
   "id": "027a1644",
   "metadata": {},
   "outputs": [],
   "source": [
    "def filter_instruments(pm_p):\n",
    "    filtered_instr = [\n",
    "        i for i in pm_p.instruments \n",
    "        if i.is_drum == False\n",
    "        and all(\n",
    "            sub not in i.name.lower() for sub in non_melody_names\n",
    "        )]\n",
    "    \n",
    "    return filtered_instr"
   ]
  },
  {
   "cell_type": "code",
   "execution_count": 30,
   "id": "21b1a1af",
   "metadata": {},
   "outputs": [],
   "source": [
    "def get_melody_tracks(pm_p):\n",
    "    melody_tracks = [i for i in pm_p.instruments if 'solo' in i.name.lower()]\n",
    "    \n",
    "    if len(melody_tracks) == 0:\n",
    "        melody_tracks = [\n",
    "            i for i in pm_p.instruments\n",
    "            if any(\n",
    "                sub in i.name.lower() for sub in melody_names\n",
    "            )]\n",
    "    \n",
    "    return melody_tracks"
   ]
  },
  {
   "cell_type": "code",
   "execution_count": 34,
   "id": "4127e349",
   "metadata": {},
   "outputs": [],
   "source": [
    "melody_names = ['melody', 'melodia', 'melodía', 'lead']\n",
    "non_melody_names = ['bass', 'bajo', 'basso', 'baixo', 'drum', 'percussion', 'batería', 'bateria', 'chord', 'rhythm',\n",
    "                     'cymbal', 'clap', 'kick', 'snare', 'hh ', 'hats', 'ride', 'kit']"
   ]
  },
  {
   "cell_type": "code",
   "execution_count": 43,
   "id": "cf060f7a",
   "metadata": {},
   "outputs": [
    {
     "data": {
      "text/plain": [
       "'Music Box'"
      ]
     },
     "execution_count": 43,
     "metadata": {},
     "output_type": "execute_result"
    }
   ],
   "source": []
  },
  {
   "cell_type": "code",
   "execution_count": null,
   "id": "abb29c3f",
   "metadata": {},
   "outputs": [],
   "source": []
  }
 ],
 "metadata": {
  "kernelspec": {
   "display_name": "Python 3 (ipykernel)",
   "language": "python",
   "name": "python3"
  },
  "language_info": {
   "codemirror_mode": {
    "name": "ipython",
    "version": 3
   },
   "file_extension": ".py",
   "mimetype": "text/x-python",
   "name": "python",
   "nbconvert_exporter": "python",
   "pygments_lexer": "ipython3",
   "version": "3.10.0"
  }
 },
 "nbformat": 4,
 "nbformat_minor": 5
}
