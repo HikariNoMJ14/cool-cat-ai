{
 "cells": [
  {
   "cell_type": "code",
   "execution_count": 6,
   "id": "f6a2b8bd",
   "metadata": {},
   "outputs": [],
   "source": [
    "import os\n",
    "import sys\n",
    "import torch\n",
    "import logging\n",
    "\n",
    "import plotly\n",
    "import numpy as np\n",
    "import plotly.graph_objs as go\n",
    "from sklearn.decomposition import PCA\n",
    "\n",
    "sys.path.append('..')\n",
    "from src.utils import int_to_pitch \n",
    "from src.evaluation import evaluate_model\n",
    "\n",
    "src_path = os.path.join('..')\n",
    "\n",
    "logger = logging.getLogger()\n",
    "logger.setLevel(logging.INFO)\n",
    "logFormatter = logging.Formatter('%(levelname)7s - %(message)s')\n",
    "\n",
    "consoleHandler = logging.StreamHandler(sys.stdout)\n",
    "consoleHandler.setFormatter(logFormatter)\n",
    "logger.addHandler(consoleHandler)"
   ]
  },
  {
   "cell_type": "code",
   "execution_count": 7,
   "id": "666c665b",
   "metadata": {},
   "outputs": [],
   "source": [
    "model_path1 = os.path.join(\n",
    "    src_path,\n",
    "    'mlruns', '2',\n",
    "    '528338104be34c8b90cf934bc1cc75ea',\n",
    "    'artifacts',\n",
    "    '22_05_21_10_09_12_transpose_all_chord_extended_7_batchsize_64_seed_1234567890_early_stop.pt'\n",
    ")\n",
    "\n",
    "model1 = torch.load(open(model_path1, 'rb'))"
   ]
  },
  {
   "cell_type": "code",
   "execution_count": 8,
   "id": "ece704c1",
   "metadata": {},
   "outputs": [],
   "source": [
    "model_path2 = os.path.join(\n",
    "    src_path,\n",
    "    'mlruns', '5',\n",
    "    '8fcc0502375b4611861a8a532530f57c',\n",
    "    'artifacts',\n",
    "    '22_05_28_20_53_27_transpose_all_chord_extended_7_batchsize_64_seed_1234567890.pt'\n",
    ")\n",
    "\n",
    "model2 = torch.load(open(model_path2, 'rb'))"
   ]
  },
  {
   "cell_type": "code",
   "execution_count": 11,
   "id": "48c25e8e",
   "metadata": {},
   "outputs": [],
   "source": [
    "model_path3 = os.path.join(\n",
    "    src_path,\n",
    "    'mlruns', '5',\n",
    "    '6b32d9e292674cbb833655f161350381',\n",
    "    'artifacts',\n",
    "    '22_05_31_13_54_18_transpose_all_chord_extended_7_batchsize_128_seed_1234567890.pt'\n",
    ")\n",
    "\n",
    "model3 = torch.load(open(model_path3, 'rb'))"
   ]
  },
  {
   "cell_type": "code",
   "execution_count": 9,
   "id": "3873bd8c",
   "metadata": {},
   "outputs": [
    {
     "name": "stdout",
     "output_type": "stream",
     "text": [
      "   INFO - Seen melodies\n"
     ]
    },
    {
     "name": "stderr",
     "output_type": "stream",
     "text": [
      "/media/manu/Data/PycharmProjects/thesis/src/../src/evaluation/objective_metrics.py:33: FutureWarning: The default dtype for empty Series will be 'object' instead of 'float64' in a future version. Specify a dtype explicitly to silence this warning.\n",
      "  pitches = pd.Series(pitches) % n_pich_cls\n",
      "/home/manu/anaconda3/envs/thesis/lib/python3.10/site-packages/scipy/stats/_entropy.py:77: RuntimeWarning: invalid value encountered in true_divide\n",
      "  pk = 1.0*pk / np.sum(pk, axis=axis, keepdims=True)\n",
      "/media/manu/Data/PycharmProjects/thesis/src/../src/evaluation/objective_metrics.py:33: FutureWarning: The default dtype for empty Series will be 'object' instead of 'float64' in a future version. Specify a dtype explicitly to silence this warning.\n",
      "  pitches = pd.Series(pitches) % n_pich_cls\n",
      "/home/manu/anaconda3/envs/thesis/lib/python3.10/site-packages/scipy/stats/_entropy.py:77: RuntimeWarning: invalid value encountered in true_divide\n",
      "  pk = 1.0*pk / np.sum(pk, axis=axis, keepdims=True)\n",
      "/media/manu/Data/PycharmProjects/thesis/src/../src/evaluation/objective_metrics.py:33: FutureWarning: The default dtype for empty Series will be 'object' instead of 'float64' in a future version. Specify a dtype explicitly to silence this warning.\n",
      "  pitches = pd.Series(pitches) % n_pich_cls\n",
      "/home/manu/anaconda3/envs/thesis/lib/python3.10/site-packages/scipy/stats/_entropy.py:77: RuntimeWarning: invalid value encountered in true_divide\n",
      "  pk = 1.0*pk / np.sum(pk, axis=axis, keepdims=True)\n",
      "/media/manu/Data/PycharmProjects/thesis/src/../src/evaluation/objective_metrics.py:33: FutureWarning: The default dtype for empty Series will be 'object' instead of 'float64' in a future version. Specify a dtype explicitly to silence this warning.\n",
      "  pitches = pd.Series(pitches) % n_pich_cls\n",
      "/home/manu/anaconda3/envs/thesis/lib/python3.10/site-packages/scipy/stats/_entropy.py:77: RuntimeWarning: invalid value encountered in true_divide\n",
      "  pk = 1.0*pk / np.sum(pk, axis=axis, keepdims=True)\n",
      "/media/manu/Data/PycharmProjects/thesis/src/../src/evaluation/objective_metrics.py:33: FutureWarning: The default dtype for empty Series will be 'object' instead of 'float64' in a future version. Specify a dtype explicitly to silence this warning.\n",
      "  pitches = pd.Series(pitches) % n_pich_cls\n",
      "/home/manu/anaconda3/envs/thesis/lib/python3.10/site-packages/scipy/stats/_entropy.py:77: RuntimeWarning: invalid value encountered in true_divide\n",
      "  pk = 1.0*pk / np.sum(pk, axis=axis, keepdims=True)\n",
      "/media/manu/Data/PycharmProjects/thesis/src/../src/evaluation/objective_metrics.py:33: FutureWarning: The default dtype for empty Series will be 'object' instead of 'float64' in a future version. Specify a dtype explicitly to silence this warning.\n",
      "  pitches = pd.Series(pitches) % n_pich_cls\n",
      "/home/manu/anaconda3/envs/thesis/lib/python3.10/site-packages/scipy/stats/_entropy.py:77: RuntimeWarning: invalid value encountered in true_divide\n",
      "  pk = 1.0*pk / np.sum(pk, axis=axis, keepdims=True)\n",
      "/media/manu/Data/PycharmProjects/thesis/src/../src/evaluation/objective_metrics.py:33: FutureWarning: The default dtype for empty Series will be 'object' instead of 'float64' in a future version. Specify a dtype explicitly to silence this warning.\n",
      "  pitches = pd.Series(pitches) % n_pich_cls\n",
      "/home/manu/anaconda3/envs/thesis/lib/python3.10/site-packages/scipy/stats/_entropy.py:77: RuntimeWarning: invalid value encountered in true_divide\n",
      "  pk = 1.0*pk / np.sum(pk, axis=axis, keepdims=True)\n",
      "/media/manu/Data/PycharmProjects/thesis/src/../src/evaluation/objective_metrics.py:33: FutureWarning: The default dtype for empty Series will be 'object' instead of 'float64' in a future version. Specify a dtype explicitly to silence this warning.\n",
      "  pitches = pd.Series(pitches) % n_pich_cls\n",
      "/home/manu/anaconda3/envs/thesis/lib/python3.10/site-packages/scipy/stats/_entropy.py:77: RuntimeWarning: invalid value encountered in true_divide\n",
      "  pk = 1.0*pk / np.sum(pk, axis=axis, keepdims=True)\n",
      "/media/manu/Data/PycharmProjects/thesis/src/../src/evaluation/objective_metrics.py:33: FutureWarning: The default dtype for empty Series will be 'object' instead of 'float64' in a future version. Specify a dtype explicitly to silence this warning.\n",
      "  pitches = pd.Series(pitches) % n_pich_cls\n",
      "/home/manu/anaconda3/envs/thesis/lib/python3.10/site-packages/scipy/stats/_entropy.py:77: RuntimeWarning: invalid value encountered in true_divide\n",
      "  pk = 1.0*pk / np.sum(pk, axis=axis, keepdims=True)\n",
      "/media/manu/Data/PycharmProjects/thesis/src/../src/evaluation/objective_metrics.py:33: FutureWarning: The default dtype for empty Series will be 'object' instead of 'float64' in a future version. Specify a dtype explicitly to silence this warning.\n",
      "  pitches = pd.Series(pitches) % n_pich_cls\n",
      "/home/manu/anaconda3/envs/thesis/lib/python3.10/site-packages/scipy/stats/_entropy.py:77: RuntimeWarning: invalid value encountered in true_divide\n",
      "  pk = 1.0*pk / np.sum(pk, axis=axis, keepdims=True)\n",
      "/media/manu/Data/PycharmProjects/thesis/src/../src/evaluation/objective_metrics.py:33: FutureWarning: The default dtype for empty Series will be 'object' instead of 'float64' in a future version. Specify a dtype explicitly to silence this warning.\n",
      "  pitches = pd.Series(pitches) % n_pich_cls\n",
      "/home/manu/anaconda3/envs/thesis/lib/python3.10/site-packages/scipy/stats/_entropy.py:77: RuntimeWarning: invalid value encountered in true_divide\n",
      "  pk = 1.0*pk / np.sum(pk, axis=axis, keepdims=True)\n",
      "/media/manu/Data/PycharmProjects/thesis/src/../src/evaluation/objective_metrics.py:33: FutureWarning: The default dtype for empty Series will be 'object' instead of 'float64' in a future version. Specify a dtype explicitly to silence this warning.\n",
      "  pitches = pd.Series(pitches) % n_pich_cls\n",
      "/home/manu/anaconda3/envs/thesis/lib/python3.10/site-packages/scipy/stats/_entropy.py:77: RuntimeWarning: invalid value encountered in true_divide\n",
      "  pk = 1.0*pk / np.sum(pk, axis=axis, keepdims=True)\n",
      "/media/manu/Data/PycharmProjects/thesis/src/../src/evaluation/objective_metrics.py:33: FutureWarning: The default dtype for empty Series will be 'object' instead of 'float64' in a future version. Specify a dtype explicitly to silence this warning.\n",
      "  pitches = pd.Series(pitches) % n_pich_cls\n",
      "/home/manu/anaconda3/envs/thesis/lib/python3.10/site-packages/scipy/stats/_entropy.py:77: RuntimeWarning: invalid value encountered in true_divide\n",
      "  pk = 1.0*pk / np.sum(pk, axis=axis, keepdims=True)\n",
      "/media/manu/Data/PycharmProjects/thesis/src/../src/evaluation/objective_metrics.py:33: FutureWarning: The default dtype for empty Series will be 'object' instead of 'float64' in a future version. Specify a dtype explicitly to silence this warning.\n",
      "  pitches = pd.Series(pitches) % n_pich_cls\n",
      "/home/manu/anaconda3/envs/thesis/lib/python3.10/site-packages/scipy/stats/_entropy.py:77: RuntimeWarning: invalid value encountered in true_divide\n",
      "  pk = 1.0*pk / np.sum(pk, axis=axis, keepdims=True)\n",
      "/media/manu/Data/PycharmProjects/thesis/src/../src/evaluation/objective_metrics.py:33: FutureWarning: The default dtype for empty Series will be 'object' instead of 'float64' in a future version. Specify a dtype explicitly to silence this warning.\n",
      "  pitches = pd.Series(pitches) % n_pich_cls\n",
      "/home/manu/anaconda3/envs/thesis/lib/python3.10/site-packages/scipy/stats/_entropy.py:77: RuntimeWarning: invalid value encountered in true_divide\n",
      "  pk = 1.0*pk / np.sum(pk, axis=axis, keepdims=True)\n"
     ]
    },
    {
     "name": "stdout",
     "output_type": "stream",
     "text": [
      "   INFO - PCHE1 -  2.39 -  0.30\n",
      "   INFO - PCHE4 -  2.66 -  0.16\n",
      "   INFO - PVF4 -  0.08 -  0.08\n",
      "   INFO - TS12 -  0.00 -  0.00\n",
      "   INFO - CPR2 -  0.20 -  0.02\n",
      "   INFO - DPR12 -  0.07 -  0.01\n",
      "   INFO - GPS -  0.88 -  0.09\n",
      "   INFO - RV4 -  8.58 -  1.29\n",
      "   INFO - QR -  1.00 -  0.00\n",
      "   INFO - HC-m -  0.58 -  0.10\n"
     ]
    }
   ],
   "source": [
    "evaluate_model(model1, logger)"
   ]
  },
  {
   "cell_type": "code",
   "execution_count": 10,
   "id": "13edcb37",
   "metadata": {},
   "outputs": [
    {
     "name": "stdout",
     "output_type": "stream",
     "text": [
      "  ERROR - Predicted duration is 0\n",
      "  ERROR - Predicted duration is 0\n",
      "   INFO - Seen melodies\n",
      "   INFO - PCHE1 -  3.43 -  0.15\n",
      "   INFO - PCHE4 -  3.48 -  0.05\n",
      "   INFO - PVF4 -  0.02 -  0.04\n",
      "   INFO - TS12 -  0.00 -  0.00\n",
      "   INFO - CPR2 -  0.03 -  0.00\n",
      "   INFO - DPR12 -  0.00 -  0.00\n",
      "   INFO - GPS -  0.90 -  0.08\n",
      "   INFO - RV4 - 30.72 -  8.46\n",
      "   INFO - QR -  1.00 -  0.00\n",
      "   INFO - HC-m -  0.58 -  0.03\n"
     ]
    }
   ],
   "source": [
    "evaluate_model(model2, logger)"
   ]
  },
  {
   "cell_type": "code",
   "execution_count": 12,
   "id": "5968caf3",
   "metadata": {},
   "outputs": [
    {
     "name": "stdout",
     "output_type": "stream",
     "text": [
      "   INFO - Seen melodies\n",
      "   INFO - PCHE1 -  3.43 -  0.18\n",
      "   INFO - PCHE4 -  3.49 -  0.06\n",
      "   INFO - PVF4 -  0.02 -  0.04\n",
      "   INFO - TS12 -  0.00 -  0.00\n",
      "   INFO - CPR2 -  0.03 -  0.00\n",
      "   INFO - DPR12 -  0.00 -  0.00\n",
      "   INFO - GPS -  0.90 -  0.08\n",
      "   INFO - RV4 - 30.81 -  8.67\n",
      "   INFO - QR -  1.00 -  0.00\n",
      "   INFO - HC-m -  0.58 -  0.03\n"
     ]
    }
   ],
   "source": [
    "evaluate_model(model3, logger)"
   ]
  },
  {
   "cell_type": "code",
   "execution_count": null,
   "id": "0c3c41ce",
   "metadata": {},
   "outputs": [],
   "source": []
  }
 ],
 "metadata": {
  "kernelspec": {
   "display_name": "Python 3 (ipykernel)",
   "language": "python",
   "name": "python3"
  },
  "language_info": {
   "codemirror_mode": {
    "name": "ipython",
    "version": 3
   },
   "file_extension": ".py",
   "mimetype": "text/x-python",
   "name": "python",
   "nbconvert_exporter": "python",
   "pygments_lexer": "ipython3",
   "version": "3.10.0"
  }
 },
 "nbformat": 4,
 "nbformat_minor": 5
}
