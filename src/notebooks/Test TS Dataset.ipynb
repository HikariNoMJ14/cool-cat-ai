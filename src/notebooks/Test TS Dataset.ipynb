{
 "cells": [
  {
   "cell_type": "code",
   "execution_count": 73,
   "id": "713f0f69",
   "metadata": {},
   "outputs": [],
   "source": [
    "import sys\n",
    "import logging\n",
    "import pickle\n",
    "\n",
    "sys.path.append('../..')\n",
    "\n",
    "from src.dataset import MelodyDataset\n",
    "\n",
    "logger = logging.getLogger()"
   ]
  },
  {
   "cell_type": "code",
   "execution_count": 74,
   "id": "c9d2fc2e",
   "metadata": {},
   "outputs": [],
   "source": [
    "melody_dataset = MelodyDataset(\n",
    "        encoding_type='timestep',\n",
    "        polyphonic=False,\n",
    "        chord_encoding_type='extended',\n",
    "        chord_extension_count=7,\n",
    "        transpose_mode='all',\n",
    "        logger=logger\n",
    "    )\n",
    "melody_dataset.load()"
   ]
  },
  {
   "cell_type": "code",
   "execution_count": 77,
   "id": "561895ba",
   "metadata": {},
   "outputs": [
    {
     "data": {
      "text/plain": [
       "tensor([[128,   1, 128,   1],\n",
       "        [128,   0, 128,   0],\n",
       "        [128,   0,  67,   1],\n",
       "        [128,   0,  67,   0],\n",
       "        [128,   0,  67,   0],\n",
       "        [128,   0,  67,   0],\n",
       "        [128,   0,  67,   0],\n",
       "        [128,   0,  67,   0],\n",
       "        [128,   0,  67,   0],\n",
       "        [128,   0,  67,   0],\n",
       "        [128,   0,  67,   0],\n",
       "        [128,   0,  67,   0],\n",
       "        [128,   0,  67,   0],\n",
       "        [ 70,   1,  67,   0],\n",
       "        [ 70,   0,  67,   0],\n",
       "        [ 70,   0,  67,   0],\n",
       "        [ 70,   0,  67,   0],\n",
       "        [ 70,   0,  67,   0],\n",
       "        [128,   1,  67,   0],\n",
       "        [128,   0,  67,   0],\n",
       "        [ 69,   1,  67,   0],\n",
       "        [ 69,   0,  67,   0],\n",
       "        [ 69,   0,  67,   0],\n",
       "        [ 69,   0,  67,   0],\n",
       "        [128,   1,  67,   0],\n",
       "        [ 68,   1,  67,   0],\n",
       "        [ 68,   0,  67,   0],\n",
       "        [ 68,   0,  67,   0],\n",
       "        [ 68,   0,  67,   0],\n",
       "        [ 68,   0,  67,   0],\n",
       "        [128,   1,  67,   0],\n",
       "        [128,   0,  67,   0],\n",
       "        [ 72,   1,  67,   0],\n",
       "        [ 72,   0,  67,   0],\n",
       "        [ 72,   0,  67,   0],\n",
       "        [ 72,   0,  67,   0],\n",
       "        [ 72,   0,  67,   0],\n",
       "        [ 67,   1,  67,   0],\n",
       "        [ 67,   0,  67,   0],\n",
       "        [ 67,   0,  67,   0],\n",
       "        [ 67,   0,  67,   0],\n",
       "        [ 67,   0,  67,   0],\n",
       "        [128,   1,  67,   0],\n",
       "        [128,   0,  67,   0],\n",
       "        [ 66,   1,  67,   0],\n",
       "        [ 66,   0,  67,   0],\n",
       "        [ 66,   0,  67,   0],\n",
       "        [ 66,   0,  67,   0],\n",
       "        [ 66,   0,  67,   0],\n",
       "        [ 65,   1,  67,   0],\n",
       "        [ 65,   0,  67,   0],\n",
       "        [ 65,   0,  67,   0],\n",
       "        [ 65,   0,  67,   0],\n",
       "        [ 65,   0,  67,   0],\n",
       "        [128,   1,  67,   0],\n",
       "        [128,   0,  67,   0],\n",
       "        [ 64,   1,  67,   0],\n",
       "        [ 64,   0,  67,   0],\n",
       "        [ 64,   0,  67,   0],\n",
       "        [ 64,   0,  67,   0],\n",
       "        [128,   1,  67,   0],\n",
       "        [ 63,   1,  67,   0],\n",
       "        [ 63,   0,  67,   0],\n",
       "        [ 63,   0,  67,   0],\n",
       "        [ 63,   0,  67,   0],\n",
       "        [ 63,   0,  67,   0],\n",
       "        [ 63,   0,  67,   0],\n",
       "        [128,   1,  67,   0],\n",
       "        [ 62,   1, 128,   1],\n",
       "        [ 62,   0, 128,   0],\n",
       "        [ 62,   0, 128,   0],\n",
       "        [ 62,   0, 128,   0],\n",
       "        [128,   1, 128,   0],\n",
       "        [ 61,   1,  65,   1],\n",
       "        [ 61,   0,  65,   0],\n",
       "        [ 61,   0,  65,   0],\n",
       "        [ 61,   0,  65,   0],\n",
       "        [ 61,   0,  65,   0],\n",
       "        [ 61,   0,  65,   0],\n",
       "        [128,   1,  65,   0],\n",
       "        [ 63,   1,  65,   0],\n",
       "        [ 63,   0,  65,   0],\n",
       "        [ 63,   0,  64,   1],\n",
       "        [ 63,   0,  64,   0],\n",
       "        [128,   1,  64,   0],\n",
       "        [128,   0,  64,   0],\n",
       "        [ 65,   1,  64,   0],\n",
       "        [ 65,   0,  64,   0],\n",
       "        [ 65,   0,  64,   0],\n",
       "        [ 65,   0,  64,   0],\n",
       "        [ 65,   0,  64,   0],\n",
       "        [128,   1,  63,   1],\n",
       "        [ 68,   1,  63,   0],\n",
       "        [ 68,   0,  63,   0],\n",
       "        [ 68,   0,  63,   0],\n",
       "        [ 68,   0,  63,   0],\n",
       "        [ 68,   0,  63,   0],\n",
       "        [ 67,   1,  63,   0],\n",
       "        [ 67,   0,  64,   1],\n",
       "        [ 67,   0,  64,   0]])"
      ]
     },
     "execution_count": 77,
     "metadata": {},
     "output_type": "execute_result"
    }
   ],
   "source": [
    "melody_dataset.tensor_dataset[150][:100,1:5]"
   ]
  },
  {
   "cell_type": "code",
   "execution_count": 61,
   "id": "bdb66450",
   "metadata": {},
   "outputs": [
    {
     "data": {
      "text/plain": [
       "tensor(55)"
      ]
     },
     "execution_count": 61,
     "metadata": {},
     "output_type": "execute_result"
    }
   ],
   "source": [
    "melody_dataset.tensor_dataset[0][:, 1].min()"
   ]
  },
  {
   "cell_type": "code",
   "execution_count": 10,
   "id": "4af685e4",
   "metadata": {},
   "outputs": [
    {
     "data": {
      "text/plain": [
       "[]"
      ]
     },
     "execution_count": 10,
     "metadata": {},
     "output_type": "execute_result"
    }
   ],
   "source": [
    "melody_dataset.melody_dataset"
   ]
  },
  {
   "cell_type": "code",
   "execution_count": 5,
   "id": "027722b6",
   "metadata": {},
   "outputs": [],
   "source": [
    "mds = pickle.load(open('/media/manu/Data/PycharmProjects/thesis/data/tensor_dataset/timestep/mono/2022_06_20_120203_transpose_all_chord_extended_7.pickle', 'rb'))"
   ]
  },
  {
   "cell_type": "code",
   "execution_count": 8,
   "id": "93f579eb",
   "metadata": {},
   "outputs": [
    {
     "data": {
      "text/plain": [
       "\"They Can't Take That Away From Me (1) -2-.csv\""
      ]
     },
     "execution_count": 8,
     "metadata": {},
     "output_type": "execute_result"
    }
   ],
   "source": [
    "mds[350].filename"
   ]
  },
  {
   "cell_type": "code",
   "execution_count": null,
   "id": "34e50a51",
   "metadata": {},
   "outputs": [],
   "source": []
  }
 ],
 "metadata": {
  "kernelspec": {
   "display_name": "Python 3 (ipykernel)",
   "language": "python",
   "name": "python3"
  },
  "language_info": {
   "codemirror_mode": {
    "name": "ipython",
    "version": 3
   },
   "file_extension": ".py",
   "mimetype": "text/x-python",
   "name": "python",
   "nbconvert_exporter": "python",
   "pygments_lexer": "ipython3",
   "version": "3.10.0"
  }
 },
 "nbformat": 4,
 "nbformat_minor": 5
}
