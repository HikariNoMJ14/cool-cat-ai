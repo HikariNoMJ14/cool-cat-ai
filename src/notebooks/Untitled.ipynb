{
 "cells": [
  {
   "cell_type": "code",
   "execution_count": 66,
   "id": "51aa6b12",
   "metadata": {},
   "outputs": [],
   "source": [
    "import torch\n",
    "import pickle"
   ]
  },
  {
   "cell_type": "code",
   "execution_count": 77,
   "id": "243cecc0",
   "metadata": {},
   "outputs": [],
   "source": [
    "tdataset = torch.load('../data/tensor_dataset/timestep/mono/2022_04_29_173139_sequence_192_transpose_all_chord_extended_7.pt')"
   ]
  },
  {
   "cell_type": "code",
   "execution_count": 78,
   "id": "4ac7b3e8",
   "metadata": {},
   "outputs": [
    {
     "name": "stdout",
     "output_type": "stream",
     "text": [
      "3612\n"
     ]
    }
   ],
   "source": [
    "print(len(tdataset.datasets))"
   ]
  },
  {
   "cell_type": "code",
   "execution_count": 79,
   "id": "ed20d6fa",
   "metadata": {},
   "outputs": [
    {
     "data": {
      "text/plain": [
       "tensor([[[  0, 128,   0,  ...,  70,  75,  78],\n",
       "         [  1, 128,   0,  ...,  70,  75,  78],\n",
       "         [  2, 128,   0,  ...,  70,  75,  78],\n",
       "         ...,\n",
       "         [ 45, 128,   0,  ...,  64,  70,  73],\n",
       "         [ 46, 128,   0,  ...,  64,  70,  73],\n",
       "         [ 47, 128,   0,  ...,  64,  70,  73]]])"
      ]
     },
     "execution_count": 79,
     "metadata": {},
     "output_type": "execute_result"
    }
   ],
   "source": [
    "tdataset.datasets[0]"
   ]
  },
  {
   "cell_type": "code",
   "execution_count": 87,
   "id": "3e600817",
   "metadata": {},
   "outputs": [
    {
     "data": {
      "text/plain": [
       "tensor([[[  0, 128,   0,  ...,  71,  76,  79],\n",
       "         [  1, 128,   0,  ...,  71,  76,  79],\n",
       "         [  2, 128,   0,  ...,  71,  76,  79],\n",
       "         ...,\n",
       "         [ 45, 128,   0,  ...,  69,  76,  79],\n",
       "         [ 46, 128,   0,  ...,  69,  76,  79],\n",
       "         [ 47, 128,   0,  ...,  69,  76,  79]]])"
      ]
     },
     "execution_count": 87,
     "metadata": {},
     "output_type": "execute_result"
    }
   ],
   "source": [
    "tdataset.datasets[301]"
   ]
  },
  {
   "cell_type": "code",
   "execution_count": 88,
   "id": "05fbda85",
   "metadata": {},
   "outputs": [
    {
     "data": {
      "text/plain": [
       "tensor(0)"
      ]
     },
     "execution_count": 88,
     "metadata": {},
     "output_type": "execute_result"
    }
   ],
   "source": [
    "((tdataset[301] - tdataset[0])[:, 0]).max()"
   ]
  },
  {
   "cell_type": "code",
   "execution_count": 90,
   "id": "067bf8ba",
   "metadata": {},
   "outputs": [
    {
     "name": "stdout",
     "output_type": "stream",
     "text": [
      "tensor(-77)\n",
      "tensor(79)\n"
     ]
    }
   ],
   "source": [
    "print(((tdataset[301] - tdataset[0])[:, 1]).min())\n",
    "print(((tdataset[301] - tdataset[0])[:, 1]).max())"
   ]
  },
  {
   "cell_type": "code",
   "execution_count": 91,
   "id": "ba98e158",
   "metadata": {},
   "outputs": [
    {
     "data": {
      "text/plain": [
       "tensor(False)"
      ]
     },
     "execution_count": 91,
     "metadata": {},
     "output_type": "execute_result"
    }
   ],
   "source": [
    "((tdataset[301] - tdataset[0])[:, 2]).min() == ((tdataset[301] - tdataset[0])[:, 2]).max()"
   ]
  },
  {
   "cell_type": "code",
   "execution_count": 92,
   "id": "ca84fecb",
   "metadata": {},
   "outputs": [
    {
     "name": "stdout",
     "output_type": "stream",
     "text": [
      "tensor(-66)\n",
      "tensor(74)\n"
     ]
    }
   ],
   "source": [
    "print(((tdataset[301] - tdataset[0])[:, 3]).min())\n",
    "print(((tdataset[301] - tdataset[0])[:, 3]).max())"
   ]
  },
  {
   "cell_type": "code",
   "execution_count": 93,
   "id": "b901edaf",
   "metadata": {},
   "outputs": [
    {
     "data": {
      "text/plain": [
       "tensor(False)"
      ]
     },
     "execution_count": 93,
     "metadata": {},
     "output_type": "execute_result"
    }
   ],
   "source": [
    "((tdataset[301] - tdataset[0])[:, 4]).min() == ((tdataset[301] - tdataset[0])[:, 4]).max()"
   ]
  },
  {
   "cell_type": "code",
   "execution_count": 86,
   "id": "fafab82a",
   "metadata": {},
   "outputs": [
    {
     "name": "stdout",
     "output_type": "stream",
     "text": [
      "tensor(True)\n",
      "tensor(True)\n",
      "tensor(True)\n",
      "tensor(True)\n",
      "tensor(True)\n",
      "tensor(True)\n",
      "tensor(True)\n"
     ]
    }
   ],
   "source": [
    "print(((tdataset[2] - tdataset[0])[:, 5]).min() == ((tdataset[2] - tdataset[0])[:, 5]).max())\n",
    "print(((tdataset[2] - tdataset[0])[:, 6]).min() == ((tdataset[2] - tdataset[0])[:, 6]).max())\n",
    "print(((tdataset[2] - tdataset[0])[:, 7]).min() == ((tdataset[2] - tdataset[0])[:, 7]).max())\n",
    "print(((tdataset[2] - tdataset[0])[:, 8]).min() == ((tdataset[2] - tdataset[0])[:, 8]).max())\n",
    "print(((tdataset[2] - tdataset[0])[:, 9]).min() == ((tdataset[2] - tdataset[0])[:, 9]).max())\n",
    "print(((tdataset[2] - tdataset[0])[:, 10]).min() == ((tdataset[2] - tdataset[0])[:, 10]).max())\n",
    "print(((tdataset[2] - tdataset[0])[:, 11]).min() == ((tdataset[2] - tdataset[0])[:, 11]).max())"
   ]
  },
  {
   "cell_type": "code",
   "execution_count": null,
   "id": "08f482f7",
   "metadata": {},
   "outputs": [],
   "source": []
  },
  {
   "cell_type": "code",
   "execution_count": null,
   "id": "fa260c30",
   "metadata": {},
   "outputs": [],
   "source": []
  }
 ],
 "metadata": {
  "kernelspec": {
   "display_name": "Python 3 (ipykernel)",
   "language": "python",
   "name": "python3"
  },
  "language_info": {
   "codemirror_mode": {
    "name": "ipython",
    "version": 3
   },
   "file_extension": ".py",
   "mimetype": "text/x-python",
   "name": "python",
   "nbconvert_exporter": "python",
   "pygments_lexer": "ipython3",
   "version": "3.10.0"
  }
 },
 "nbformat": 4,
 "nbformat_minor": 5
}
