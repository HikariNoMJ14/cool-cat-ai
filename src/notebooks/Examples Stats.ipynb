{
 "cells": [
  {
   "cell_type": "code",
   "execution_count": 2,
   "id": "5d92f89c",
   "metadata": {},
   "outputs": [],
   "source": [
    "import os\n",
    "from glob import glob"
   ]
  },
  {
   "cell_type": "code",
   "execution_count": 31,
   "id": "aed91708",
   "metadata": {},
   "outputs": [],
   "source": [
    "folder_auto = '../data/Complete Examples Melodies Auto'\n",
    "folder_man = '../data/Complete Examples Melodies Manual'\n",
    "folder = '../data/Complete Examples Melodies'\n",
    "\n",
    "filepaths_auto = [y for x in os.walk(folder_auto) for y in glob(os.path.join(x[0], '*.mid'))]\n",
    "filepaths_man = [y for x in os.walk(folder_man) for y in glob(os.path.join(x[0], '*.mid'))]\n",
    "filepaths = [y for x in os.walk(folder) for y in glob(os.path.join(x[0], '*.mid'))]"
   ]
  },
  {
   "cell_type": "code",
   "execution_count": 32,
   "id": "1b69ada7",
   "metadata": {},
   "outputs": [],
   "source": [
    "filenames_auto = set([(x.split('/')[-1], x.split('/')[-2]) for x in filepaths_auto])\n",
    "filenames_man = set([(x.split('/')[-1], x.split('/')[-2]) for x in filepaths_man])\n",
    "filenames = set([(x.split('/')[-1], x.split('/')[-2]) for x in filepaths])"
   ]
  },
  {
   "cell_type": "code",
   "execution_count": 33,
   "id": "4adcda7e",
   "metadata": {},
   "outputs": [
    {
     "data": {
      "text/plain": [
       "set()"
      ]
     },
     "execution_count": 33,
     "metadata": {},
     "output_type": "execute_result"
    }
   ],
   "source": [
    "filenames_auto.intersection(filenames_man)"
   ]
  },
  {
   "cell_type": "code",
   "execution_count": 34,
   "id": "ca47b4a6",
   "metadata": {},
   "outputs": [
    {
     "data": {
      "text/plain": [
       "456"
      ]
     },
     "execution_count": 34,
     "metadata": {},
     "output_type": "execute_result"
    }
   ],
   "source": [
    "len(filenames_auto)"
   ]
  },
  {
   "cell_type": "code",
   "execution_count": 35,
   "id": "18090793",
   "metadata": {},
   "outputs": [
    {
     "data": {
      "text/plain": [
       "63"
      ]
     },
     "execution_count": 35,
     "metadata": {},
     "output_type": "execute_result"
    }
   ],
   "source": [
    "len(filenames_man)"
   ]
  },
  {
   "cell_type": "code",
   "execution_count": 37,
   "id": "3977d428",
   "metadata": {
    "scrolled": true
   },
   "outputs": [
    {
     "data": {
      "text/plain": [
       "True"
      ]
     },
     "execution_count": 37,
     "metadata": {},
     "output_type": "execute_result"
    }
   ],
   "source": [
    "len(filenames) == len(filenames_auto) + len(filenames_man)"
   ]
  },
  {
   "cell_type": "code",
   "execution_count": null,
   "id": "e0b1bcd4",
   "metadata": {},
   "outputs": [],
   "source": []
  }
 ],
 "metadata": {
  "kernelspec": {
   "display_name": "Python 3 (ipykernel)",
   "language": "python",
   "name": "python3"
  },
  "language_info": {
   "codemirror_mode": {
    "name": "ipython",
    "version": 3
   },
   "file_extension": ".py",
   "mimetype": "text/x-python",
   "name": "python",
   "nbconvert_exporter": "python",
   "pygments_lexer": "ipython3",
   "version": "3.8.10"
  }
 },
 "nbformat": 4,
 "nbformat_minor": 5
}
