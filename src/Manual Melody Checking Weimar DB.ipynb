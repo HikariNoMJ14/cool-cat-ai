{
 "cells": [
  {
   "cell_type": "code",
   "execution_count": 3,
   "id": "c1c1b8be",
   "metadata": {},
   "outputs": [],
   "source": [
    "import os\n",
    "import sys\n",
    "import difflib\n",
    "import shutil\n",
    "from glob import glob\n",
    "import pandas as pd\n",
    "import numpy as np\n",
    "\n",
    "import music21\n",
    "\n",
    "sys.path.append('..')\n",
    "from src.utils import get_chord_progressions, calculate_melody_results, flatten_chord_progression\n",
    "from src.weimar_db_utils import flatten_wdb_chord_progression, get_offset, create_note_info\n",
    "from src.melody import Melody\n",
    "\n",
    "source = 'Weimar DB'\n",
    "\n",
    "input_folder = '../data/Complete Examples Melodies Auto/v1.2/Weimar DB'\n",
    "filepaths = [y for x in os.walk(input_folder) for y in glob(os.path.join(x[0], '*.mid'))]\n",
    "cps = get_chord_progressions('..')"
   ]
  },
  {
   "cell_type": "code",
   "execution_count": 43,
   "id": "82ab4f09",
   "metadata": {},
   "outputs": [],
   "source": [
    "file_idx = 96"
   ]
  },
  {
   "cell_type": "code",
   "execution_count": 44,
   "id": "36bfb885",
   "metadata": {
    "scrolled": true
   },
   "outputs": [
    {
     "data": {
      "text/plain": [
       "['../data/Complete Examples Melodies Auto/v1.2/Weimar DB/Wayne Shorter - Eighty-One.mid',\n",
       " '../data/Complete Examples Melodies Auto/v1.2/Weimar DB/Wayne Shorter - Esp.mid',\n",
       " '../data/Complete Examples Melodies Auto/v1.2/Weimar DB/Wayne Shorter - Footprints.mid',\n",
       " '../data/Complete Examples Melodies Auto/v1.2/Weimar DB/Wayne Shorter - Ju-Ju.mid',\n",
       " '../data/Complete Examples Melodies Auto/v1.2/Weimar DB/Wayne Shorter - Speak No Evil.mid',\n",
       " '../data/Complete Examples Melodies Auto/v1.2/Weimar DB/Woody Shaw - Imagination.mid',\n",
       " '../data/Complete Examples Melodies Auto/v1.2/Weimar DB/Wynton Marsalis - April In Paris.mid',\n",
       " '../data/Complete Examples Melodies Auto/v1.2/Weimar DB/Zoot Sims - All The Things You Are.mid',\n",
       " '../data/Complete Examples Melodies Auto/v1.2/Weimar DB/Zoot Sims - Night And Day (1).mid',\n",
       " '../data/Complete Examples Melodies Auto/v1.2/Weimar DB/Zoot Sims - Night And Day (2).mid']"
      ]
     },
     "execution_count": 44,
     "metadata": {},
     "output_type": "execute_result"
    }
   ],
   "source": [
    "filepaths[file_idx:106] # final idx is 106"
   ]
  },
  {
   "cell_type": "code",
   "execution_count": 45,
   "id": "dd18b20a",
   "metadata": {},
   "outputs": [
    {
     "name": "stdout",
     "output_type": "stream",
     "text": [
      "../data/Complete Examples Melodies Auto/v1.2/Weimar DB/Wayne Shorter - Eighty-One.mid\n"
     ]
    }
   ],
   "source": [
    "performer = 'Wayne Shorter'\n",
    "song_name = \"Eighty-One\"\n",
    "filename = filepaths[file_idx]\n",
    "\n",
    "print(filename)\n",
    "\n",
    "if performer.lower() not in filename.lower() or song_name.lower() not in filename.lower():\n",
    "    raise Exception('Names do not match!!!')"
   ]
  },
  {
   "cell_type": "code",
   "execution_count": 46,
   "id": "47e97972",
   "metadata": {},
   "outputs": [],
   "source": [
    "info = pd.read_csv('..' + '/data/sources/WeimarDB/weimar_db_melody_info.csv')\n",
    "rows = info[(info['performer'] == performer) & (info['title'] == song_name)]\n",
    "\n",
    "wdb_info = pd.read_csv('../data/sources/WeimarDB/weimar_db_melody_info_with_pitch.csv')\n",
    "song_wdb_info = wdb_info[\n",
    "    (wdb_info['performer'] == performer) &\n",
    "    (wdb_info['title'] == song_name)\n",
    "]\n",
    "\n",
    "if len(song_wdb_info) == 0:\n",
    "    raise Exception('Song not found!')\n",
    "\n",
    "if song_wdb_info['melid'].nunique() > 1:\n",
    "    print('Duplicate!!!!!', song_wdb_info['melid'].unique())\n",
    "    melid_idx = input('Enter correct index ')\n",
    "    melid = list(song_wdb_info['melid'].unique())[int(melid_idx)]\n",
    "    \n",
    "    song_wdb_info = song_wdb_info[song_wdb_info['melid'] == melid]\n",
    "    \n",
    "note_info = create_note_info(song_wdb_info)"
   ]
  },
  {
   "cell_type": "code",
   "execution_count": 47,
   "id": "0d53ed48",
   "metadata": {},
   "outputs": [],
   "source": [
    "melody = Melody(filename, '1.2')\n",
    "melody.setup()\n",
    "\n",
    "melody.time_signature = (4,4)\n",
    "melody.key = music21.key.Key('F')\n",
    "\n",
    "melody.note_info = create_note_info(song_wdb_info)\n",
    "melody.set_song_structure(cps[melody.song_name])\n",
    "\n",
    "melody.min_measure = melody.note_info.measure.min()\n",
    "melody.max_measure = int(np.ceil((melody.note_info.measure + (\n",
    "        (melody.note_info.offset + melody.note_info.quant_duration) / melody.FINAL_TICKS_PER_BEAT /\n",
    "        melody.time_signature[0])).max())) - 1"
   ]
  },
  {
   "cell_type": "code",
   "execution_count": 48,
   "id": "36438091",
   "metadata": {},
   "outputs": [],
   "source": [
    "melody.save_key()"
   ]
  },
  {
   "cell_type": "code",
   "execution_count": 49,
   "id": "56aaf047",
   "metadata": {},
   "outputs": [],
   "source": [
    "melody.align_key()"
   ]
  },
  {
   "cell_type": "code",
   "execution_count": 50,
   "id": "d1559421",
   "metadata": {},
   "outputs": [
    {
     "data": {
      "text/plain": [
       "'F major'"
      ]
     },
     "execution_count": 50,
     "metadata": {},
     "output_type": "execute_result"
    }
   ],
   "source": [
    "melody.key.name"
   ]
  },
  {
   "cell_type": "code",
   "execution_count": 51,
   "id": "f0fcaf6e",
   "metadata": {},
   "outputs": [
    {
     "data": {
      "text/plain": [
       "'F major'"
      ]
     },
     "execution_count": 51,
     "metadata": {},
     "output_type": "execute_result"
    }
   ],
   "source": [
    "melody.chord_progression_key + \" \" + (\"major\" if not melody.chord_progression_minor else 'minor')"
   ]
  },
  {
   "cell_type": "code",
   "execution_count": 52,
   "id": "57912ce3",
   "metadata": {},
   "outputs": [
    {
     "data": {
      "text/plain": [
       "0"
      ]
     },
     "execution_count": 52,
     "metadata": {},
     "output_type": "execute_result"
    }
   ],
   "source": [
    "melody.transpose_semitones"
   ]
  },
  {
   "cell_type": "code",
   "execution_count": 53,
   "id": "efcaa5f9",
   "metadata": {},
   "outputs": [],
   "source": [
    "melody.transpose()"
   ]
  },
  {
   "cell_type": "code",
   "execution_count": 54,
   "id": "26a2688b",
   "metadata": {},
   "outputs": [
    {
     "name": "stdout",
     "output_type": "stream",
     "text": [
      "1\n"
     ]
    }
   ],
   "source": [
    "starting_measure = song_wdb_info[song_wdb_info['form'] == 'A1'].iloc[0]['bar']\n",
    "melody.starting_measure = starting_measure\n",
    "\n",
    "print(starting_measure)"
   ]
  },
  {
   "cell_type": "code",
   "execution_count": 55,
   "id": "a3f3a69c",
   "metadata": {
    "scrolled": true
   },
   "outputs": [
    {
     "name": "stdout",
     "output_type": "stream",
     "text": [
      "['A1', 'A1', 'A1', 'A1', 'A1', 'A1']\n",
      "0.0\n",
      "--------\n",
      "96 288\n",
      "('F7sus', 'Fsus7')\n",
      "('F7sus', 'Fsus7')\n",
      "('F7sus', 'Fsus7')\n",
      "('F7sus', 'Fsus7')\n",
      "('Bb7sus', 'Bbsus7')\n",
      "('Bb7sus', 'Bbsus7')\n",
      "('Bb7sus', 'Bbsus7')\n",
      "('Bb7sus', 'Bbsus7')\n",
      "('F7sus', 'Fsus7')\n",
      "('F7sus', 'Fsus7')\n",
      "('F7sus', 'Fsus7')\n",
      "('F7sus', 'Fsus7')\n",
      "('F7sus', 'Fsus7')\n",
      "('F7sus', 'Fsus7')\n",
      "('F7sus', 'Fsus7')\n",
      "('F7sus', 'Fsus7')\n",
      "('Bb7sus', 'Bbsus7')\n",
      "('Bb7sus', 'Bbsus7')\n",
      "('Bb7sus', 'Bbsus7')\n",
      "('Bb7sus', 'Bbsus7')\n",
      "('Bb7sus', 'Bbsus7')\n",
      "('Bb7sus', 'Bbsus7')\n",
      "('Bb7sus', 'Bbsus7')\n",
      "('Bb7sus', 'Bbsus7')\n",
      "('F7sus', 'Fsus7')\n",
      "('F7sus', 'Fsus7')\n",
      "('F7sus', 'Fsus7')\n",
      "('F7sus', 'Fsus7')\n",
      "('F7sus', 'Fsus7')\n",
      "('F7sus', 'Fsus7')\n",
      "('F7sus', 'Fsus7')\n",
      "('F7sus', 'Fsus7')\n",
      "('C7sus', 'Csus7')\n",
      "('C7sus', 'Csus7')\n",
      "('C7sus', 'Csus7')\n",
      "('C7sus', 'Csus7')\n",
      "('Bb7sus', 'Bbsus7')\n",
      "('Bb7sus', 'Bbsus7')\n",
      "('Bb7sus', 'Bbsus7')\n",
      "('Bb7sus', 'Bbsus7')\n",
      "('F7sus', 'Fsus7')\n",
      "('F7sus', 'Fsus7')\n",
      "('F7sus', 'Fsus7')\n",
      "('F7sus', 'Fsus7')\n",
      "('F7sus', 'Fsus7')\n",
      "('F7sus', 'Fsus7')\n",
      "('F7sus', 'Fsus7')\n",
      "('F7sus', 'Fsus7')\n",
      "('F7sus', 'Fsus7')\n",
      "('F7sus', 'Fsus7')\n",
      "('F7sus', 'Fsus7')\n",
      "('F7sus', 'Fsus7')\n",
      "('Bb7sus', 'Bbsus7')\n",
      "('Bb7sus', 'Bbsus7')\n",
      "('Bb7sus', 'Bbsus7')\n",
      "('Bb7sus', 'Bbsus7')\n",
      "('F7sus', 'Fsus7')\n",
      "('F7sus', 'Fsus7')\n",
      "('F7sus', 'Fsus7')\n",
      "('F7sus', 'Fsus7')\n",
      "('F7sus', 'Fsus7')\n",
      "('F7sus', 'Fsus7')\n",
      "('F7sus', 'Fsus7')\n",
      "('F7sus', 'Fsus7')\n",
      "('Bb7sus', 'Bbsus7')\n",
      "('Bb7sus', 'Bbsus7')\n",
      "('Bb7sus', 'Bbsus7')\n",
      "('Bb7sus', 'Bbsus7')\n",
      "('Bb7sus', 'Bbsus7')\n",
      "('Bb7sus', 'Bbsus7')\n",
      "('Bb7sus', 'Bbsus7')\n",
      "('Bb7sus', 'Bbsus7')\n",
      "('F7sus', 'Fsus7')\n",
      "('F7sus', 'Fsus7')\n",
      "('F7sus', 'Fsus7')\n",
      "('F7sus', 'Fsus7')\n",
      "('F7sus', 'Fsus7')\n",
      "('F7sus', 'Fsus7')\n",
      "('F7sus', 'Fsus7')\n",
      "('F7sus', 'Fsus7')\n",
      "('C7sus', 'Csus7')\n",
      "('C7sus', 'Csus7')\n",
      "('C7sus', 'Csus7')\n",
      "('C7sus', 'Csus7')\n",
      "('Bb7sus', 'Bbsus7')\n",
      "('Bb7sus', 'Bbsus7')\n",
      "('Bb7sus', 'Bbsus7')\n",
      "('Bb7sus', 'Bbsus7')\n",
      "('F7sus', 'Fsus7')\n",
      "('F7sus', 'Fsus7')\n",
      "('F7sus', 'Fsus7')\n",
      "('F7sus', 'Fsus7')\n",
      "('F7sus', 'Fsus7')\n",
      "('F7sus', 'Fsus7')\n",
      "('F7sus', 'Fsus7')\n",
      "('F7sus', 'Fsus7')\n"
     ]
    }
   ],
   "source": [
    "linear_wdb_cp = flatten_wdb_chord_progression(performer, song_name, '..')\n",
    "linear_cp = flatten_chord_progression(cps[melody.song_name])\n",
    "sm = difflib.SequenceMatcher(None, linear_cp, linear_wdb_cp[:len(linear_cp)])\n",
    "s = sm.ratio()\n",
    "\n",
    "print(s)\n",
    "print('--------')\n",
    "print(len(linear_cp), len(linear_wdb_cp))\n",
    "for p in zip(linear_cp, linear_wdb_cp):\n",
    "    print(p)"
   ]
  },
  {
   "cell_type": "code",
   "execution_count": 56,
   "id": "5da42b9f",
   "metadata": {
    "scrolled": true
   },
   "outputs": [
    {
     "data": {
      "text/plain": [
       "True"
      ]
     },
     "execution_count": 56,
     "metadata": {},
     "output_type": "execute_result"
    }
   ],
   "source": [
    "melody.split_melody(True)"
   ]
  },
  {
   "cell_type": "code",
   "execution_count": 16,
   "id": "674e73cc",
   "metadata": {
    "scrolled": true
   },
   "outputs": [
    {
     "name": "stdout",
     "output_type": "stream",
     "text": [
      "0 0.5421146953405018\n"
     ]
    }
   ],
   "source": [
    "results = calculate_melody_results(melody)\n",
    "hcms = [(k, res['harmonic_consistency_mean']) for k, res in results.items()]\n",
    "for i, hcm in hcms:\n",
    "    print(i, hcm)"
   ]
  },
  {
   "cell_type": "code",
   "execution_count": 17,
   "id": "6fe27a4d",
   "metadata": {},
   "outputs": [
    {
     "data": {
      "image/png": "[encoded data removed]",
      "text/plain": [
       "<Figure size 432x288 with 1 Axes>"
      ]
     },
     "metadata": {
      "needs_background": "light"
     },
     "output_type": "display_data"
    }
   ],
   "source": [
    "hcs = [(k, res['harmonic_consistency']) for k, res in results.items()]\n",
    "for i, hc in hcs:\n",
    "    pd.Series(hc).rolling(30).mean().plot(label=i, legend=True)"
   ]
  },
  {
   "cell_type": "code",
   "execution_count": 18,
   "id": "d854ae5b",
   "metadata": {},
   "outputs": [],
   "source": [
    "# for c in info[info['title'] == 'Dolores']['chord_changes'].drop_duplicates().values:\n",
    "#     print(c)\n",
    "#     print('-----------')"
   ]
  },
  {
   "cell_type": "code",
   "execution_count": 19,
   "id": "7a2d7a5c",
   "metadata": {},
   "outputs": [
    {
     "name": "stdout",
     "output_type": "stream",
     "text": [
      "Good to go? a\n"
     ]
    }
   ],
   "source": [
    "gtg = input('Good to go? ')\n",
    "\n",
    "if gtg == 'g':\n",
    "    print('Finalising')\n",
    "    for i, res in results.items():\n",
    "        folder_midi = f'../data/split_melody/v1.2/{source}/'\n",
    "        folder_csv = f'../data/split_melody_data/v1.2/{source}/'\n",
    "\n",
    "        src_midi = folder_midi + res['out_filename']\n",
    "        dst_midi = src_midi.replace('split_melody/v1.2', 'finalised/midi')\n",
    "\n",
    "\n",
    "        src_csv = folder_csv + res['out_filename'].replace('.mid', '.csv')\n",
    "        dst_csv = src_csv.replace('split_melody_data/v1.2', 'finalised/csv')\n",
    "\n",
    "        if not os.path.exists(os.path.dirname(dst_midi)):\n",
    "            os.makedirs(os.path.dirname(dst_midi))\n",
    "\n",
    "        if not os.path.exists(os.path.dirname(dst_csv)):\n",
    "            os.makedirs(os.path.dirname(dst_csv))\n",
    "\n",
    "        shutil.copyfile(src_midi, dst_midi)\n",
    "        shutil.copyfile(src_csv, dst_csv)"
   ]
  },
  {
   "cell_type": "markdown",
   "id": "c39fb62f",
   "metadata": {},
   "source": [
    "Check file inconsistencies"
   ]
  },
  {
   "cell_type": "code",
   "execution_count": 20,
   "id": "cdb59d24",
   "metadata": {},
   "outputs": [],
   "source": [
    "split_midi_folder = '../data/split_melody/v1.2/Weimar DB/'\n",
    "split_midi_filepaths = [os.path.basename(y) for x in os.walk(split_midi_folder) for y in glob(os.path.join(x[0], '*.mid'))]"
   ]
  },
  {
   "cell_type": "code",
   "execution_count": 21,
   "id": "c01c5489",
   "metadata": {},
   "outputs": [],
   "source": [
    "split_csv_folder = '../data/split_melody_data/v1.2/Weimar DB/'\n",
    "split_csv_filepaths = [os.path.basename(y) for x in os.walk(split_csv_folder) for y in glob(os.path.join(x[0], '*.csv'))]"
   ]
  },
  {
   "cell_type": "code",
   "execution_count": 22,
   "id": "fecc8130",
   "metadata": {},
   "outputs": [],
   "source": [
    "fin_midi_folder = '../data/finalised/midi/Weimar DB/'\n",
    "fin_midi_filepaths = [os.path.basename(y) for x in os.walk(fin_midi_folder) for y in glob(os.path.join(x[0], '*.mid'))]"
   ]
  },
  {
   "cell_type": "code",
   "execution_count": 23,
   "id": "ab02d5aa",
   "metadata": {},
   "outputs": [],
   "source": [
    "fin_csv_folder = '../data/finalised/csv/Weimar DB/'\n",
    "fin_csv_filepaths = [os.path.basename(y) for x in os.walk(fin_csv_folder) for y in glob(os.path.join(x[0], '*.csv'))]"
   ]
  },
  {
   "cell_type": "code",
   "execution_count": 24,
   "id": "3f7d7a24",
   "metadata": {},
   "outputs": [
    {
     "data": {
      "text/plain": [
       "(283, 301)"
      ]
     },
     "execution_count": 24,
     "metadata": {},
     "output_type": "execute_result"
    }
   ],
   "source": [
    "len(split_midi_filepaths), len(split_csv_filepaths)"
   ]
  },
  {
   "cell_type": "code",
   "execution_count": 25,
   "id": "1caa7dfa",
   "metadata": {},
   "outputs": [
    {
     "data": {
      "text/plain": [
       "(267, 267)"
      ]
     },
     "execution_count": 25,
     "metadata": {},
     "output_type": "execute_result"
    }
   ],
   "source": [
    "len(fin_midi_filepaths), len(fin_csv_filepaths)"
   ]
  },
  {
   "cell_type": "code",
   "execution_count": 26,
   "id": "bdcbef1b",
   "metadata": {},
   "outputs": [],
   "source": [
    "for a,b in zip(sorted(fin_midi_filepaths), sorted(fin_csv_filepaths)):\n",
    "    if a.replace('.mid', '') != b.replace('.csv', ''):\n",
    "        print(a,b)"
   ]
  },
  {
   "cell_type": "code",
   "execution_count": 27,
   "id": "0d1cd741",
   "metadata": {},
   "outputs": [],
   "source": [
    "df = pd.read_csv('/home/manu/Downloads/Thesis - Jazz Dataset - Sheet8.csv', names=['title', 'sm', 'gr'])"
   ]
  },
  {
   "cell_type": "code",
   "execution_count": 28,
   "id": "93544fe8",
   "metadata": {},
   "outputs": [],
   "source": [
    "sheet = [n.replace('Weimar DB/' , '') for n in list(df.dropna()['title'].values)]"
   ]
  },
  {
   "cell_type": "code",
   "execution_count": 29,
   "id": "b3b51d67",
   "metadata": {},
   "outputs": [
    {
     "data": {
      "text/plain": [
       "{\"Zoot Sims - Night And Day (2)'\"}"
      ]
     },
     "execution_count": 29,
     "metadata": {},
     "output_type": "execute_result"
    }
   ],
   "source": [
    "import re\n",
    "\n",
    "fin = [re.sub(r'-[0-9]*-', '', f.replace('.csv', '')).strip() for f in fin_csv_filepaths]\n",
    "\n",
    "set(sheet).difference(set(fin))"
   ]
  },
  {
   "cell_type": "code",
   "execution_count": 30,
   "id": "17ec9972",
   "metadata": {},
   "outputs": [
    {
     "data": {
      "text/plain": [
       "Art Pepper - Anthropology                   4\n",
       "Ben Webster - Bye Bye Blackbird             3\n",
       "Ben Webster - Night And Day                 2\n",
       "Benny Carter - Just Friends                 3\n",
       "Benny Carter - Long Ago And Far Away (1)    1\n",
       "                                           ..\n",
       "Woody Shaw - Imagination                    1\n",
       "Wynton Marsalis - April In Paris            2\n",
       "Zoot Sims - All The Things You Are          1\n",
       "Zoot Sims - Night And Day (1)               2\n",
       "Zoot Sims - Night And Day (2)               1\n",
       "Length: 94, dtype: int64"
      ]
     },
     "execution_count": 30,
     "metadata": {},
     "output_type": "execute_result"
    }
   ],
   "source": [
    "pd.Series(fin).value_counts().sort_index()"
   ]
  },
  {
   "cell_type": "code",
   "execution_count": 31,
   "id": "c001d202",
   "metadata": {},
   "outputs": [],
   "source": [
    "df['t'] = df['title'].str.replace('Weimar DB/', '')"
   ]
  },
  {
   "cell_type": "code",
   "execution_count": 32,
   "id": "af987202",
   "metadata": {},
   "outputs": [],
   "source": [
    "x = df.dropna()[['t', 'gr']].sort_values('t')['gr'].values"
   ]
  },
  {
   "cell_type": "code",
   "execution_count": 33,
   "id": "210ec3a2",
   "metadata": {},
   "outputs": [],
   "source": [
    "y = pd.Series(fin).value_counts().sort_index().values"
   ]
  },
  {
   "cell_type": "code",
   "execution_count": 34,
   "id": "f3b4ad48",
   "metadata": {},
   "outputs": [
    {
     "name": "stdout",
     "output_type": "stream",
     "text": [
      "33\n"
     ]
    }
   ],
   "source": [
    "for i, w in enumerate(zip(x,y)):\n",
    "    if w[0] != w[1]:\n",
    "        print(i)"
   ]
  },
  {
   "cell_type": "code",
   "execution_count": null,
   "id": "ae33ea06",
   "metadata": {},
   "outputs": [],
   "source": []
  },
  {
   "cell_type": "code",
   "execution_count": 35,
   "id": "9d1ac8ea",
   "metadata": {},
   "outputs": [
    {
     "data": {
      "text/plain": [
       "t     David Murray - Ask Me Now\n",
       "gr                          2.0\n",
       "Name: 36, dtype: object"
      ]
     },
     "execution_count": 35,
     "metadata": {},
     "output_type": "execute_result"
    }
   ],
   "source": [
    "df.dropna()[['t', 'gr']].sort_values('t').iloc[33]"
   ]
  }
 ],
 "metadata": {
  "kernelspec": {
   "display_name": "Python 3 (ipykernel)",
   "language": "python",
   "name": "python3"
  },
  "language_info": {
   "codemirror_mode": {
    "name": "ipython",
    "version": 3
   },
   "file_extension": ".py",
   "mimetype": "text/x-python",
   "name": "python",
   "nbconvert_exporter": "python",
   "pygments_lexer": "ipython3",
   "version": "3.10.0"
  }
 },
 "nbformat": 4,
 "nbformat_minor": 5
}
