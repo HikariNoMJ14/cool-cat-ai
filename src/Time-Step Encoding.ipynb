{
 "cells": [
  {
   "cell_type": "code",
   "execution_count": 2,
   "id": "81b34bec",
   "metadata": {},
   "outputs": [],
   "source": [
    "import os\n",
    "import pandas as pd\n",
    "import numpy as np\n",
    "from ezchord import Chord\n",
    "from mingus.core.notes import int_to_note\n",
    "\n",
    "from melody import Melody\n",
    "from utils import get_chord_progressions, is_weakly_polyphonic, is_strongly_polyphonic"
   ]
  },
  {
   "cell_type": "code",
   "execution_count": 3,
   "id": "4191866b",
   "metadata": {},
   "outputs": [],
   "source": [
    "bpm = 4\n",
    "\n",
    "cp = get_chord_progressions('..')['A Felicidade']\n",
    "\n",
    "linear_chord_progression = []\n",
    "\n",
    "for section in cp['sections']:\n",
    "    linear_chord_progression += cp['progression'][section]\n",
    "\n",
    "n_chord_prog_measures = int(len(linear_chord_progression) / bpm)"
   ]
  },
  {
   "cell_type": "code",
   "execution_count": 4,
   "id": "4969227f",
   "metadata": {},
   "outputs": [],
   "source": [
    "orig = pd.read_csv('../data/split_melody_data/v1.2/Real Book/A Felicidade -o-.csv', index_col=0)\n",
    "orig['end_ticks'] = (orig['ticks'] + orig['duration'])\n",
    "orig.sort_values('ticks', inplace=True)"
   ]
  },
  {
   "cell_type": "code",
   "execution_count": 5,
   "id": "cd5b9c09",
   "metadata": {},
   "outputs": [
    {
     "data": {
      "text/plain": [
       "(126, 13)"
      ]
     },
     "execution_count": 5,
     "metadata": {},
     "output_type": "execute_result"
    }
   ],
   "source": [
    "orig.shape"
   ]
  },
  {
   "cell_type": "code",
   "execution_count": 6,
   "id": "8977f0fd",
   "metadata": {},
   "outputs": [],
   "source": [
    "impro = pd.read_csv('../data/split_melody_data/v1.2/JazzPage/A Felicidade -1-.csv', index_col=0)\n",
    "impro['end_ticks'] = (impro['ticks'] + impro['duration'])\n",
    "impro.sort_values('ticks', inplace=True)"
   ]
  },
  {
   "cell_type": "code",
   "execution_count": 7,
   "id": "32a7e6c1",
   "metadata": {},
   "outputs": [
    {
     "data": {
      "text/plain": [
       "48"
      ]
     },
     "execution_count": 7,
     "metadata": {},
     "output_type": "execute_result"
    }
   ],
   "source": [
    "n_chord_prog_measures"
   ]
  },
  {
   "cell_type": "code",
   "execution_count": 8,
   "id": "033e54f4",
   "metadata": {},
   "outputs": [],
   "source": [
    "def multiple_pitches_to_string(pitches):\n",
    "    return \"-\".join(str(x) for x in pitches)"
   ]
  },
  {
   "cell_type": "code",
   "execution_count": 9,
   "id": "3a09a5f7",
   "metadata": {},
   "outputs": [],
   "source": [
    "def extract_poly_time_step_encoding(impro, orig, linear_chord_progression):\n",
    "    tpm = 48\n",
    "    n_chord_prog_beats = len(linear_chord_progression)\n",
    "    n_ticks = tpm * n_chord_prog_measures\n",
    "\n",
    "    rows = []\n",
    "\n",
    "    for i in range(n_ticks):\n",
    "        offset = i % tpm\n",
    "\n",
    "        impro_sustains = impro[(impro['ticks'] < i) & (i < impro['end_ticks'])]['pitch'].values\n",
    "        impro_sustains = multiple_pitches_to_string(impro_sustains)\n",
    "\n",
    "        impro_attacks = impro[impro['ticks'] == i]['pitch'].values\n",
    "        impro_attacks = multiple_pitches_to_string(impro_attacks)\n",
    "\n",
    "        orig_sustains = orig[(orig['ticks'] < i) & (i < orig['end_ticks'])]['pitch'].values\n",
    "        orig_sustains = multiple_pitches_to_string(orig_sustains)\n",
    "\n",
    "        orig_attacks = orig[orig['ticks'] == i]['pitch'].values\n",
    "        orig_attacks = multiple_pitches_to_string(orig_attacks)\n",
    "\n",
    "        chord_name = linear_chord_progression[(i // (48 // bpm))]   \n",
    "\n",
    "        rows.append({\n",
    "            'offset': offset,\n",
    "\n",
    "            'impro_sustains': impro_sustains,\n",
    "            'impro_attacks': impro_attacks,\n",
    "\n",
    "            'orig_sustains': orig_sustains,\n",
    "            'orig_attacks': orig_attacks,\n",
    "\n",
    "            'chord_name': chord_name\n",
    "        })\n",
    "        \n",
    "    return pd.DataFrame(rows)"
   ]
  },
  {
   "cell_type": "code",
   "execution_count": 10,
   "id": "8d15fee2",
   "metadata": {},
   "outputs": [],
   "source": [
    "def remove_strong_polyphony(melody):\n",
    "    mono_melody = melody.copy()\n",
    "    \n",
    "    mono_melody.groupby('ticks').apply(lambda : x['pitch'].max())\n",
    "    \n",
    "    return mono_melody"
   ]
  },
  {
   "cell_type": "code",
   "execution_count": 11,
   "id": "6460ad22",
   "metadata": {},
   "outputs": [],
   "source": [
    "def remove_weak_polyphony(melody):\n",
    "    mono_melody = melody.copy()\n",
    "\n",
    "    overlap = (mono_melody['end_ticks'] - mono_melody['ticks'].shift(-1)).clip(0, None)\n",
    "    \n",
    "\n",
    "    # skip last row as 'shift' messes it up\n",
    "    mono_melody['duration'].iloc[:-1] -= overlap.iloc[:-1]\n",
    "    mono_melody['end_ticks'].iloc[:-1] -= overlap.iloc[:-1]\n",
    "    \n",
    "\n",
    "    return mono_melody"
   ]
  },
  {
   "cell_type": "code",
   "execution_count": 17,
   "id": "fb92f83c",
   "metadata": {},
   "outputs": [],
   "source": [
    "def extract_mono_time_step_encoding(impro, orig, linear_chord_progression):\n",
    "    tpm = 48\n",
    "    n_chord_prog_beats = len(linear_chord_progression)\n",
    "    n_ticks = tpm * n_chord_prog_measures\n",
    "\n",
    "    rows = []\n",
    "\n",
    "    if is_strongly_polyphonic(impro):\n",
    "        print('Impro SP')\n",
    "        impro = remove_strong_polyphony(impro)\n",
    "        \n",
    "        if is_strongly_polyphonic(impro):\n",
    "            raise Exception('Error!!! P')\n",
    "\n",
    "    if is_weakly_polyphonic(impro):\n",
    "        print('Impro WP')\n",
    "        impro = remove_weak_polyphony(impro)\n",
    "               \n",
    "\n",
    "        if is_weakly_polyphonic(impro):\n",
    "            raise Exception('Error!!! W')\n",
    "\n",
    "    if is_strongly_polyphonic(orig):\n",
    "        print('Original SP')\n",
    "        \n",
    "        orig = remove_strong_polyphony(orig)\n",
    "        \n",
    "        if is_strongly_polyphonic(impro):\n",
    "            raise Exception('Error!!! P')\n",
    "            \n",
    "    if is_weakly_polyphonic(orig):\n",
    "        print('Original WP')\n",
    "        \n",
    "        orig = remove_weak_polyphony(orig)\n",
    "\n",
    "        if is_weakly_polyphonic(orig):\n",
    "            raise Exception('Error!!! W')\n",
    "\n",
    "    for i in range(n_ticks):\n",
    "        offset = i % tpm\n",
    "\n",
    "        impro_pitch = np.nan\n",
    "        impro_pitches = impro[(impro['ticks'] <= i) & (i < impro['end_ticks'])]\n",
    "\n",
    "        if len(impro_pitches) > 0:\n",
    "            impro_pitch = impro_pitches['pitch'].values[0]\n",
    "\n",
    "            if len(impro_pitches) > 1:\n",
    "                raise Exception('Error!!! not mono pitch')\n",
    "                \n",
    "        impro_attack = 0\n",
    "        impro_attacks = impro[impro['ticks'] == i]\n",
    "\n",
    "        if len(impro_attacks) > 0:\n",
    "            impro_attack = 1\n",
    "\n",
    "            if len(impro_attacks) > 1:\n",
    "                raise Exception('Error!!! not mono attack')\n",
    "\n",
    "        orig_pitch = np.nan\n",
    "        orig_pitches = orig[(orig['ticks'] <= i) & (i < orig['end_ticks'])]\n",
    "\n",
    "        if len(orig_pitches) > 0:\n",
    "            orig_pitch = orig_pitches['pitch'].values[0]\n",
    "\n",
    "            if len(orig_pitches) > 1:\n",
    "                print(orig_pitches[['pitch', 'ticks', 'end_ticks']])\n",
    "                raise Exception('Error!!! not mono pitch')\n",
    "\n",
    "        orig_attack = 0\n",
    "        orig_attacks = orig[orig['ticks'] == i]\n",
    "\n",
    "        if len(orig_attacks) > 0:\n",
    "            orig_attack = 1\n",
    "\n",
    "            if len(orig_attacks) > 1:\n",
    "                raise Exception('Error!!! not mono attack')\n",
    "  \n",
    "        chord_name = linear_chord_progression[(i // (48 // bpm))]   \n",
    "        \n",
    "        rows.append({\n",
    "            'offset': offset,\n",
    "\n",
    "            'impro_pitch': impro_pitch,\n",
    "            'impro_attack': impro_attack,\n",
    "\n",
    "            'orig_pitch': orig_pitch,\n",
    "            'orig_attack': orig_attack,\n",
    "\n",
    "            'chord_name': chord_name\n",
    "        })\n",
    "\n",
    "    return pd.DataFrame(rows)"
   ]
  },
  {
   "cell_type": "code",
   "execution_count": 18,
   "id": "d04bd134",
   "metadata": {
    "scrolled": true
   },
   "outputs": [
    {
     "name": "stdout",
     "output_type": "stream",
     "text": [
      "Impro WP\n",
      "Original WP\n"
     ]
    }
   ],
   "source": [
    "mono = extract_mono_time_step_encoding(impro, orig, linear_chord_progression)"
   ]
  },
  {
   "cell_type": "code",
   "execution_count": 19,
   "id": "9cb2a375",
   "metadata": {},
   "outputs": [],
   "source": [
    "poly = extract_poly_time_step_encoding(impro, orig, linear_chord_progression)"
   ]
  },
  {
   "cell_type": "code",
   "execution_count": 20,
   "id": "2b527159",
   "metadata": {},
   "outputs": [],
   "source": [
    "p = set(poly[poly['orig_attacks']!=''].index)"
   ]
  },
  {
   "cell_type": "code",
   "execution_count": 21,
   "id": "0922d8d7",
   "metadata": {},
   "outputs": [],
   "source": [
    "m = set(mono[mono['orig_attack']!=0].index)"
   ]
  },
  {
   "cell_type": "code",
   "execution_count": 22,
   "id": "d75d843f",
   "metadata": {},
   "outputs": [
    {
     "data": {
      "text/html": [
       "<div>\n",
       "<style scoped>\n",
       "    .dataframe tbody tr th:only-of-type {\n",
       "        vertical-align: middle;\n",
       "    }\n",
       "\n",
       "    .dataframe tbody tr th {\n",
       "        vertical-align: top;\n",
       "    }\n",
       "\n",
       "    .dataframe thead th {\n",
       "        text-align: right;\n",
       "    }\n",
       "</style>\n",
       "<table border=\"1\" class=\"dataframe\">\n",
       "  <thead>\n",
       "    <tr style=\"text-align: right;\">\n",
       "      <th></th>\n",
       "      <th>orig_attacks</th>\n",
       "      <th>orig_attack</th>\n",
       "    </tr>\n",
       "  </thead>\n",
       "  <tbody>\n",
       "  </tbody>\n",
       "</table>\n",
       "</div>"
      ],
      "text/plain": [
       "Empty DataFrame\n",
       "Columns: [orig_attacks, orig_attack]\n",
       "Index: []"
      ]
     },
     "execution_count": 22,
     "metadata": {},
     "output_type": "execute_result"
    }
   ],
   "source": [
    "pd.concat([mono, poly],axis=1).loc[list(p.difference(m))][['orig_attacks', 'orig_attack']]"
   ]
  },
  {
   "cell_type": "code",
   "execution_count": 23,
   "id": "2d8a24e4",
   "metadata": {},
   "outputs": [],
   "source": [
    "import os\n",
    "\n",
    "mono_filepath = '../data/encoded/timestep/mono/JazzPage/'\n",
    "if not os.path.exists(mono_filepath):\n",
    "    os.makedirs(mono_filepath)\n",
    "    \n",
    "poly_filepath = '../data/encoded/timestep/poly/JazzPage/'\n",
    "if not os.path.exists(poly_filepath):\n",
    "    os.makedirs(poly_filepath)\n",
    "\n",
    "mono.to_csv(mono_filepath + 'A Felicidade -1-.csv')\n",
    "poly.to_csv(poly_filepath + 'A Felicidade -1-.csv')"
   ]
  },
  {
   "cell_type": "code",
   "execution_count": null,
   "id": "e8414d0c",
   "metadata": {},
   "outputs": [],
   "source": [
    "mono[mono['impro_attack'] == True].tail(5)"
   ]
  },
  {
   "cell_type": "code",
   "execution_count": null,
   "id": "6bcade94",
   "metadata": {},
   "outputs": [],
   "source": [
    "impro.tail(5)"
   ]
  },
  {
   "cell_type": "code",
   "execution_count": null,
   "id": "33d37dfb",
   "metadata": {},
   "outputs": [],
   "source": [
    "len(linear_chord_progression)"
   ]
  },
  {
   "cell_type": "code",
   "execution_count": null,
   "id": "4fc76c7c",
   "metadata": {},
   "outputs": [],
   "source": [
    "mono.tail()"
   ]
  },
  {
   "cell_type": "code",
   "execution_count": null,
   "id": "455813c4",
   "metadata": {},
   "outputs": [],
   "source": []
  },
  {
   "cell_type": "code",
   "execution_count": null,
   "id": "ab8a54a8",
   "metadata": {},
   "outputs": [],
   "source": []
  }
 ],
 "metadata": {
  "kernelspec": {
   "display_name": "Python 3 (ipykernel)",
   "language": "python",
   "name": "python3"
  },
  "language_info": {
   "codemirror_mode": {
    "name": "ipython",
    "version": 3
   },
   "file_extension": ".py",
   "mimetype": "text/x-python",
   "name": "python",
   "nbconvert_exporter": "python",
   "pygments_lexer": "ipython3",
   "version": "3.8.10"
  }
 },
 "nbformat": 4,
 "nbformat_minor": 5
}
