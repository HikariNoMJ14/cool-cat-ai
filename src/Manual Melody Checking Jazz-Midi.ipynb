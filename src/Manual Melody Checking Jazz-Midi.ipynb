{
 "cells": [
  {
   "cell_type": "code",
   "execution_count": 1,
   "id": "f284a864",
   "metadata": {},
   "outputs": [],
   "source": [
    "import os\n",
    "import difflib\n",
    "import shutil\n",
    "from glob import glob\n",
    "import pandas as pd\n",
    "import numpy as np\n",
    "import operator\n",
    "\n",
    "import music21\n",
    "\n",
    "from utils import get_chord_progressions, calculate_melody_results, flatten_chord_progression\n",
    "from melody import Melody\n",
    "\n",
    "source = 'Jazz-Midi'\n",
    "\n",
    "input_folder = f'../data/Complete Examples Melodies Auto/v1.2/{source}'\n",
    "filepaths = [y for x in os.walk(input_folder) for y in glob(os.path.join(x[0], '*.mid'))]\n",
    "cps = get_chord_progressions('..')"
   ]
  },
  {
   "cell_type": "code",
   "execution_count": 2,
   "id": "f3e62923",
   "metadata": {},
   "outputs": [],
   "source": [
    "file_idx = 32"
   ]
  },
  {
   "cell_type": "code",
   "execution_count": 5,
   "id": "a9c7ee6d",
   "metadata": {},
   "outputs": [
    {
     "data": {
      "text/plain": [
       "['../data/Complete Examples Melodies Auto/v1.2/Jazz-Midi/Yours Is My Heart Alone.mid']"
      ]
     },
     "execution_count": 5,
     "metadata": {},
     "output_type": "execute_result"
    }
   ],
   "source": [
    "filepaths[file_idx:40]"
   ]
  },
  {
   "cell_type": "code",
   "execution_count": 4,
   "id": "6ee93919",
   "metadata": {},
   "outputs": [
    {
     "ename": "KeyError",
     "evalue": "'Yours Is My Heart Alone'",
     "output_type": "error",
     "traceback": [
      "\u001b[0;31m---------------------------------------------------------------------------\u001b[0m",
      "\u001b[0;31mKeyError\u001b[0m                                  Traceback (most recent call last)",
      "\u001b[0;32m/tmp/ipykernel_22064/3425817839.py\u001b[0m in \u001b[0;36m<module>\u001b[0;34m\u001b[0m\n\u001b[1;32m      5\u001b[0m     \u001b[0mmelody\u001b[0m \u001b[0;34m=\u001b[0m \u001b[0mMelody\u001b[0m\u001b[0;34m(\u001b[0m\u001b[0mfilename\u001b[0m\u001b[0;34m,\u001b[0m \u001b[0;34m'1.2'\u001b[0m\u001b[0;34m,\u001b[0m \u001b[0;34m'..'\u001b[0m\u001b[0;34m)\u001b[0m\u001b[0;34m\u001b[0m\u001b[0;34m\u001b[0m\u001b[0m\n\u001b[1;32m      6\u001b[0m     \u001b[0mmelody\u001b[0m\u001b[0;34m.\u001b[0m\u001b[0msetup\u001b[0m\u001b[0;34m(\u001b[0m\u001b[0;34m)\u001b[0m\u001b[0;34m\u001b[0m\u001b[0;34m\u001b[0m\u001b[0m\n\u001b[0;32m----> 7\u001b[0;31m     \u001b[0mmelody\u001b[0m\u001b[0;34m.\u001b[0m\u001b[0mset_song_structure\u001b[0m\u001b[0;34m(\u001b[0m\u001b[0mcps\u001b[0m\u001b[0;34m[\u001b[0m\u001b[0mmelody\u001b[0m\u001b[0;34m.\u001b[0m\u001b[0msong_name\u001b[0m\u001b[0;34m]\u001b[0m\u001b[0;34m)\u001b[0m\u001b[0;34m\u001b[0m\u001b[0;34m\u001b[0m\u001b[0m\n\u001b[0m\u001b[1;32m      8\u001b[0m     \u001b[0mmelody\u001b[0m\u001b[0;34m.\u001b[0m\u001b[0malign_key\u001b[0m\u001b[0;34m(\u001b[0m\u001b[0;34m)\u001b[0m\u001b[0;34m\u001b[0m\u001b[0;34m\u001b[0m\u001b[0m\n\u001b[1;32m      9\u001b[0m \u001b[0;34m\u001b[0m\u001b[0m\n",
      "\u001b[0;31mKeyError\u001b[0m: 'Yours Is My Heart Alone'"
     ]
    }
   ],
   "source": [
    "filename = filepaths[file_idx]\n",
    "\n",
    "all_hc = {}\n",
    "for t in range(-6,6):\n",
    "    melody = Melody(filename, '1.2', '..')\n",
    "    melody.setup()\n",
    "    melody.set_song_structure(cps[melody.song_name])\n",
    "    melody.align_key()\n",
    "    \n",
    "#     melody.tempo /= 2\n",
    "    \n",
    "    melody.transpose_semitones = t\n",
    "    \n",
    "    melody.parse_notes()\n",
    "\n",
    "    # print(melody.note_info)\n",
    "\n",
    "    if len(melody.errors) > 0:\n",
    "        raise Exception(melody.errors[0])\n",
    "\n",
    "    for starting_measure in range(0, melody.n_chord_prog_measures):\n",
    "        melody.starting_measure = starting_measure\n",
    "        melody.split_note_info = []\n",
    "\n",
    "        melody.split_melody(quantized=True, save=False)\n",
    "\n",
    "        results = calculate_melody_results(melody)\n",
    "        \n",
    "#         for s in melody.split_note_info:\n",
    "#             s.loc[:, 'end_ticks'] = s['ticks'] + s['duration']\n",
    "#             melody.remove_strong_polyphony(s)\n",
    "#             melody.remove_weak_polyphony(s)\n",
    "\n",
    "        hc = np.array([])\n",
    "        for k, res in results.items():\n",
    "            hc = np.append(hc, res['harmonic_consistency_mean']) \n",
    "\n",
    "        all_hc[str(t) + '_' + str(starting_measure)] = (hc.mean(), hc.max(), hc.min(), len(hc))\n",
    "    \n",
    "all_hc = sorted(all_hc.items(), key=operator.itemgetter(1), reverse=True)\n",
    "\n",
    "for i in all_hc[:40]:\n",
    "    print(i)\n",
    "print('----------------')"
   ]
  },
  {
   "cell_type": "code",
   "execution_count": 5,
   "id": "3342a5e2",
   "metadata": {},
   "outputs": [
    {
     "name": "stdout",
     "output_type": "stream",
     "text": [
      "You Are Too Beautiful\n",
      "Transpose semitones: 5\n",
      "Starting measure: 6\n",
      "N. repetitions: 1\n"
     ]
    }
   ],
   "source": [
    "# tra_semi = all_hc[correct_index][0].split('_')[0]\n",
    "# starting = all_hc[correct_index][0].split('_')[1]\n",
    "\n",
    "correct_index = 0\n",
    "tra_semi = 5\n",
    "starting = 6\n",
    "\n",
    "melody = Melody(filename, '1.2', '..')\n",
    "melody.setup()\n",
    "melody.set_song_structure(cps[melody.song_name])\n",
    "melody.align_key()\n",
    "\n",
    "# melody.tempo /= 2\n",
    "\n",
    "melody.transpose_semitones = int(tra_semi)\n",
    "melody.starting_measure = int(starting)\n",
    "\n",
    "melody.parse_notes()\n",
    "\n",
    "melody.split_melody(quantized=True, save=False)\n",
    "\n",
    "repetitions = len(melody.split_note_info)\n",
    "# repetitions = \n",
    "\n",
    "print(melody.song_name)\n",
    "print(f'Transpose semitones: {melody.transpose_semitones}')\n",
    "print(f'Starting measure: {melody.starting_measure}')\n",
    "\n",
    "print(f'N. repetitions: {repetitions}')\n",
    "\n",
    "for r in range(1, repetitions + 1):\n",
    "    melody.save_split_melody(repetition=r, quantized=True, chords=True)"
   ]
  },
  {
   "cell_type": "code",
   "execution_count": 6,
   "id": "9255dfca",
   "metadata": {},
   "outputs": [],
   "source": [
    "all_results = {}\n",
    "results = calculate_melody_results(melody)\n",
    "\n",
    "for k, v in results.items():\n",
    "    all_results_key = melody.filename + ' -' + str(k) + '-'\n",
    "    all_results[all_results_key] = v"
   ]
  },
  {
   "cell_type": "code",
   "execution_count": 7,
   "id": "2a14ded7",
   "metadata": {},
   "outputs": [
    {
     "name": "stdout",
     "output_type": "stream",
     "text": [
      "Good to go? g\n",
      "Finalising\n"
     ]
    }
   ],
   "source": [
    "gtg = input('Good to go? ')\n",
    "\n",
    "if gtg == 'g':\n",
    "    \n",
    "    print('Finalising')\n",
    "    \n",
    "    for k, results in all_results.items():\n",
    "        folder_midi = f'../data/split_melody/v1.2/{source}/'\n",
    "        folder_csv = f'../data/split_melody_data/v1.2/{source}/'\n",
    "\n",
    "        src_midi = folder_midi + results['out_filename']\n",
    "        dst_midi = src_midi.replace('split_melody/v1.2', 'finalised/midi')\n",
    "\n",
    "        src_csv = folder_csv + results['out_filename'].replace('.mid', '.csv')\n",
    "        dst_csv = src_csv.replace('split_melody_data/v1.2', 'finalised/csv')\n",
    "\n",
    "        if not os.path.exists(os.path.dirname(dst_midi)):\n",
    "            os.makedirs(os.path.dirname(dst_midi))\n",
    "\n",
    "        if not os.path.exists(os.path.dirname(dst_csv)):\n",
    "            os.makedirs(os.path.dirname(dst_csv))\n",
    "\n",
    "        shutil.copyfile(src_midi, dst_midi)\n",
    "        shutil.copyfile(src_csv, dst_csv)"
   ]
  },
  {
   "cell_type": "code",
   "execution_count": null,
   "id": "906ac5cb",
   "metadata": {},
   "outputs": [],
   "source": []
  }
 ],
 "metadata": {
  "kernelspec": {
   "display_name": "Python 3 (ipykernel)",
   "language": "python",
   "name": "python3"
  },
  "language_info": {
   "codemirror_mode": {
    "name": "ipython",
    "version": 3
   },
   "file_extension": ".py",
   "mimetype": "text/x-python",
   "name": "python",
   "nbconvert_exporter": "python",
   "pygments_lexer": "ipython3",
   "version": "3.10.0"
  }
 },
 "nbformat": 4,
 "nbformat_minor": 5
}
