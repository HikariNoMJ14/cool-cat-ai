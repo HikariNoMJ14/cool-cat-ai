{
 "cells": [
  {
   "cell_type": "code",
   "execution_count": 1,
   "id": "c1c1b8be",
   "metadata": {},
   "outputs": [],
   "source": [
    "import os\n",
    "import difflib\n",
    "import shutil\n",
    "from glob import glob\n",
    "import pandas as pd\n",
    "import numpy as np\n",
    "\n",
    "from utils import get_chord_progressions, calculate_melody_results, flatten_chord_progression\n",
    "from weimar_db_utils import flatten_wdb_chord_progression, get_offset, create_note_info\n",
    "from melody import Melody\n",
    "\n",
    "source = 'Weimar DB'\n",
    "\n",
    "input_folder = '../data/Complete Examples Melodies Auto/v1.2/Weimar DB'\n",
    "filepaths = [y for x in os.walk(input_folder) for y in glob(os.path.join(x[0], '*.mid'))]\n",
    "cps = get_chord_progressions('..')"
   ]
  },
  {
   "cell_type": "code",
   "execution_count": 2,
   "id": "36bfb885",
   "metadata": {},
   "outputs": [
    {
     "data": {
      "text/plain": [
       "['../data/Complete Examples Melodies Auto/v1.2/Weimar DB/Branford Marsalis - The Nearness Of You.mid']"
      ]
     },
     "execution_count": 2,
     "metadata": {},
     "output_type": "execute_result"
    }
   ],
   "source": [
    "filepaths[9:10]"
   ]
  },
  {
   "cell_type": "code",
   "execution_count": 3,
   "id": "47e97972",
   "metadata": {},
   "outputs": [
    {
     "name": "stdout",
     "output_type": "stream",
     "text": [
      "../data/Complete Examples Melodies Auto/v1.2/Weimar DB/Branford Marsalis - The Nearness Of You.mid\n"
     ]
    }
   ],
   "source": [
    "performer = 'Branford Marsalis'\n",
    "song_name = 'The Nearness of You'\n",
    "filename = filepaths[9]\n",
    "\n",
    "print(filename)\n",
    "\n",
    "wdb_info = pd.read_csv('../data/sources/WeimarDB/weimar_db_melody_info_with_pitch.csv')\n",
    "song_wdb_info = wdb_info[\n",
    "    (wdb_info['performer'] == performer) &\n",
    "    (wdb_info['title'] == song_name)\n",
    "]\n",
    "\n",
    "if song_wdb_info['melid'].nunique() > 1:\n",
    "    print('Duplicate!!!!!', song_wdb_info['melid'].unique())\n",
    "    melid_idx = input('Enter correct index ')\n",
    "    melid = list(song_wdb_info['melid'].unique())[int(melid_idx)]\n",
    "    \n",
    "    song_wdb_info = song_wdb_info[song_wdb_info['melid'] == melid]\n",
    "    \n",
    "note_info = create_note_info(song_wdb_info)"
   ]
  },
  {
   "cell_type": "code",
   "execution_count": 4,
   "id": "52045bb1",
   "metadata": {},
   "outputs": [
    {
     "data": {
      "text/plain": [
       "8.0     143\n",
       "4.0     132\n",
       "6.0      97\n",
       "10.0     96\n",
       "18.0     61\n",
       "12.0     57\n",
       "9.0      48\n",
       "17.0     45\n",
       "20.0     41\n",
       "19.0     37\n",
       "24.0     34\n",
       "14.0     32\n",
       "26.0     27\n",
       "22.0     21\n",
       "11.0     15\n",
       "7.0      14\n",
       "2.0      13\n",
       "1.0      13\n",
       "13.0     11\n",
       "5.0      10\n",
       "16.0      9\n",
       "3.0       8\n",
       "23.0      7\n",
       "Name: division, dtype: int64"
      ]
     },
     "execution_count": 4,
     "metadata": {},
     "output_type": "execute_result"
    }
   ],
   "source": [
    "song_wdb_info['division'].value_counts()"
   ]
  },
  {
   "cell_type": "code",
   "execution_count": 5,
   "id": "0d53ed48",
   "metadata": {},
   "outputs": [],
   "source": [
    "melody = Melody(filename, '1.2', '..')\n",
    "melody.setup()\n",
    "melody.note_info = create_note_info(song_wdb_info)\n",
    "melody.set_song_structure(cps[melody.song_name])\n",
    "\n",
    "melody.min_measure = melody.note_info.measure.min()\n",
    "melody.max_measure = int(np.ceil((melody.note_info.measure + (\n",
    "        (melody.note_info.offset + melody.note_info.quant_duration) / melody.final_ticks_per_beat /\n",
    "        melody.time_signature[0])).max())) - 1"
   ]
  },
  {
   "cell_type": "code",
   "execution_count": 7,
   "id": "56aaf047",
   "metadata": {},
   "outputs": [],
   "source": [
    "melody.align_key()"
   ]
  },
  {
   "cell_type": "code",
   "execution_count": 8,
   "id": "d1559421",
   "metadata": {},
   "outputs": [
    {
     "data": {
      "text/plain": [
       "<music21.key.Key of D major>"
      ]
     },
     "execution_count": 8,
     "metadata": {},
     "output_type": "execute_result"
    }
   ],
   "source": [
    "melody.key"
   ]
  },
  {
   "cell_type": "code",
   "execution_count": 9,
   "id": "f0fcaf6e",
   "metadata": {},
   "outputs": [
    {
     "data": {
      "text/plain": [
       "('F', False)"
      ]
     },
     "execution_count": 9,
     "metadata": {},
     "output_type": "execute_result"
    }
   ],
   "source": [
    "melody.chord_progression_key, melody.chord_progression_minor"
   ]
  },
  {
   "cell_type": "code",
   "execution_count": 10,
   "id": "57912ce3",
   "metadata": {},
   "outputs": [
    {
     "data": {
      "text/plain": [
       "3"
      ]
     },
     "execution_count": 10,
     "metadata": {},
     "output_type": "execute_result"
    }
   ],
   "source": [
    "melody.transpose_semitones"
   ]
  },
  {
   "cell_type": "code",
   "execution_count": 11,
   "id": "efcaa5f9",
   "metadata": {},
   "outputs": [],
   "source": [
    "melody.transpose()"
   ]
  },
  {
   "cell_type": "code",
   "execution_count": 12,
   "id": "26a2688b",
   "metadata": {},
   "outputs": [
    {
     "name": "stdout",
     "output_type": "stream",
     "text": [
      "2\n"
     ]
    }
   ],
   "source": [
    "one_bar = song_wdb_info[song_wdb_info['bar'] == 1]\n",
    "if len(one_bar['pitch'].dropna()) > 0:\n",
    "    starting_note_idx = one_bar['pitch'].dropna().index[0]\n",
    "    notes_up_to_start = len(song_wdb_info.loc[:starting_note_idx]['pitch'].dropna())\n",
    "    starting_measure = int(melody.note_info.iloc[notes_up_to_start]['measure'])\n",
    "    print(starting_measure)\n",
    "    melody.starting_measure = starting_measure\n",
    "else:\n",
    "    print('No bar 1!')"
   ]
  },
  {
   "cell_type": "code",
   "execution_count": 13,
   "id": "5da42b9f",
   "metadata": {},
   "outputs": [
    {
     "name": "stdout",
     "output_type": "stream",
     "text": [
      "Repetition 1, 666 notes\n",
      "Repetition 2, 128 notes\n"
     ]
    },
    {
     "data": {
      "text/plain": [
       "True"
      ]
     },
     "execution_count": 13,
     "metadata": {},
     "output_type": "execute_result"
    }
   ],
   "source": [
    "melody.split_melody(True)"
   ]
  },
  {
   "cell_type": "code",
   "execution_count": 14,
   "id": "674e73cc",
   "metadata": {},
   "outputs": [
    {
     "name": "stdout",
     "output_type": "stream",
     "text": [
      "0 0.5716966966966966\n",
      "1 0.5390625\n"
     ]
    }
   ],
   "source": [
    "results = calculate_melody_results(melody)\n",
    "hcs = [(k, res['harmonic_consistency_mean']) for k, res in results.items()]\n",
    "for i, hc in hcs:\n",
    "    print(i, hc)"
   ]
  },
  {
   "cell_type": "code",
   "execution_count": 15,
   "id": "a3f3a69c",
   "metadata": {},
   "outputs": [
    {
     "name": "stdout",
     "output_type": "stream",
     "text": [
      "D-maj\n",
      "------\n",
      "['A1', 'A2', 'B1', 'A3', 'A1', 'A2']\n",
      "------\n",
      "A1\n",
      "['Dj7', 'Dj7', 'Dj7', 'Dj7', 'A-7', 'A-7', 'Dsus7', 'Dsus7', 'Gj7', 'Gj7', 'Gj7', 'Gj7', 'Go7', 'Go7', 'Go7', 'Go7', 'F#-7', 'F#-7', 'B7', 'B7', 'E-7', 'E-7', 'A7', 'A7', 'F#-7', 'F#-7', 'B7', 'B7', 'E-7', 'E-7', 'A7', 'A7']\n",
      "------\n",
      "A2\n",
      "['Dj7', 'Dj7', 'Dj7', 'Dj7', 'A-7', 'A-7', 'Dsus7', 'Dsus7', 'Gj7', 'Gj7', 'Gj7', 'Gj7', 'Go7', 'Go7', 'Go7', 'Go7', 'F#-7', 'F#-7', 'B7', 'B7', 'E-7', 'E-7', 'A7', 'A7', 'Dj7', 'Dj7', 'C7', 'C7', 'D6', 'D6', 'D6', 'D6']\n",
      "------\n",
      "B1\n",
      "['E-7', 'E-7', 'E-7', 'E-7', 'A7', 'A7', 'A7', 'A7', 'Dj7', 'Dj7', 'Dj7', 'Dj7', 'A-7', 'A-7', 'D7', 'D7', 'Gj7', 'Gj7', 'Gj7', 'Gj7', 'F#m7b5', 'F#m7b5', 'B7', 'B7', 'E7', 'E7', 'E7', 'E7', 'E-7', 'E-7', 'A7', 'A7']\n",
      "------\n",
      "A3\n",
      "['Dj7', 'Dj7', 'Dj7', 'Dj7', 'A-7', 'A-7', 'Dsus7', 'Dsus7', 'Gj7', 'Gj7', 'Gj7', 'Gj7', 'Go7', 'Go7', 'Go7', 'Go7', 'F#-7', 'F#-7', 'B7', 'B7', 'E-7', 'E-7', 'A7', 'A7', 'Dj7', 'Dj7', 'B-7', 'B-7', 'E-7', 'E-7', 'A7', 'A7']\n",
      "------\n",
      "0.013888888888888888\n",
      "--------\n",
      "('Fmaj7', 'Dj7')\n",
      "('Fmaj7', 'Dj7')\n",
      "('Fmaj7', 'Dj7')\n",
      "('Fmaj7', 'Dj7')\n",
      "('Cmin7', 'A-7')\n",
      "('Cmin7', 'A-7')\n",
      "('F7', 'Dsus7')\n",
      "('F7', 'Dsus7')\n",
      "('Bbmaj7', 'Gj7')\n",
      "('Bbmaj7', 'Gj7')\n",
      "('Bbmaj7', 'Gj7')\n",
      "('Bbmaj7', 'Gj7')\n",
      "('Bbdim7', 'Go7')\n",
      "('Bbdim7', 'Go7')\n",
      "('Bbdim7', 'Go7')\n",
      "('Bbdim7', 'Go7')\n",
      "('Amin7', 'F#-7')\n",
      "('Amin7', 'F#-7')\n",
      "('D7', 'B7')\n",
      "('D7', 'B7')\n",
      "('Gmin7', 'E-7')\n",
      "('Gmin7', 'E-7')\n",
      "('C7', 'A7')\n",
      "('C7', 'A7')\n",
      "('Amin7', 'F#-7')\n",
      "('Amin7', 'F#-7')\n",
      "('D7', 'B7')\n",
      "('D7', 'B7')\n",
      "('Gmin7', 'E-7')\n",
      "('Gmin7', 'E-7')\n",
      "('C7', 'A7')\n",
      "('C7', 'A7')\n",
      "('Fmaj7', 'Dj7')\n",
      "('Fmaj7', 'Dj7')\n",
      "('Fmaj7', 'Dj7')\n",
      "('Fmaj7', 'Dj7')\n",
      "('Cmin7', 'A-7')\n",
      "('Cmin7', 'A-7')\n",
      "('F7', 'Dsus7')\n",
      "('F7', 'Dsus7')\n",
      "('Bbmaj7', 'Gj7')\n",
      "('Bbmaj7', 'Gj7')\n",
      "('Bbmaj7', 'Gj7')\n",
      "('Bbmaj7', 'Gj7')\n",
      "('Bbdim7', 'Go7')\n",
      "('Bbdim7', 'Go7')\n",
      "('Bbdim7', 'Go7')\n",
      "('Bbdim7', 'Go7')\n",
      "('Amin7', 'F#-7')\n",
      "('Amin7', 'F#-7')\n",
      "('D7', 'B7')\n",
      "('D7', 'B7')\n",
      "('Gmin7', 'E-7')\n",
      "('Gmin7', 'E-7')\n",
      "('C7', 'A7')\n",
      "('C7', 'A7')\n",
      "('Fmaj7', 'Dj7')\n",
      "('Fmaj7', 'Dj7')\n",
      "('Eb7', 'C7')\n",
      "('Eb7', 'C7')\n",
      "('F6', 'D6')\n",
      "('F6', 'D6')\n",
      "('F6', 'D6')\n",
      "('F6', 'D6')\n",
      "('Gmin7', 'E-7')\n",
      "('Gmin7', 'E-7')\n",
      "('Gmin7', 'E-7')\n",
      "('Gmin7', 'E-7')\n",
      "('C7', 'A7')\n",
      "('C7', 'A7')\n",
      "('C7', 'A7')\n",
      "('C7', 'A7')\n",
      "('Fmaj7', 'Dj7')\n",
      "('Fmaj7', 'Dj7')\n",
      "('Fmaj7', 'Dj7')\n",
      "('Fmaj7', 'Dj7')\n",
      "('Cmin7', 'A-7')\n",
      "('Cmin7', 'A-7')\n",
      "('F7', 'D7')\n",
      "('F7', 'D7')\n",
      "('Bbmaj7', 'Gj7')\n",
      "('Bbmaj7', 'Gj7')\n",
      "('Bbmaj7', 'Gj7')\n",
      "('Bbmaj7', 'Gj7')\n",
      "('Am7b5', 'F#m7b5')\n",
      "('Am7b5', 'F#m7b5')\n",
      "('D7b9', 'B7')\n",
      "('D7b9', 'B7')\n",
      "('G7', 'E7')\n",
      "('G7', 'E7')\n",
      "('G7', 'E7')\n",
      "('G7', 'E7')\n",
      "('Gmin7', 'E-7')\n",
      "('Gmin7', 'E-7')\n",
      "('C7', 'A7')\n",
      "('C7', 'A7')\n",
      "('Fmaj7', 'Dj7')\n",
      "('Fmaj7', 'Dj7')\n",
      "('Fmaj7', 'Dj7')\n",
      "('Fmaj7', 'Dj7')\n",
      "('Cmin7', 'A-7')\n",
      "('Cmin7', 'A-7')\n",
      "('F7', 'Dsus7')\n",
      "('F7', 'Dsus7')\n",
      "('Bbmaj7', 'Gj7')\n",
      "('Bbmaj7', 'Gj7')\n",
      "('Bbmaj7', 'Gj7')\n",
      "('Bbmaj7', 'Gj7')\n",
      "('Bbdim7', 'Go7')\n",
      "('Bbdim7', 'Go7')\n",
      "('Bbdim7', 'Go7')\n",
      "('Bbdim7', 'Go7')\n",
      "('Amin7', 'F#-7')\n",
      "('Amin7', 'F#-7')\n",
      "('D7', 'B7')\n",
      "('D7', 'B7')\n",
      "('Gmin7', 'E-7')\n",
      "('Gmin7', 'E-7')\n",
      "('C7', 'A7')\n",
      "('C7', 'A7')\n",
      "('Am7b5', 'Dj7')\n",
      "('Am7b5', 'Dj7')\n",
      "('Am7b5', 'B-7')\n",
      "('Am7b5', 'B-7')\n",
      "('D7b9', 'E-7')\n",
      "('D7b9', 'E-7')\n",
      "('D7b9', 'A7')\n",
      "('D7b9', 'A7')\n",
      "('Gmin7', 'Dj7')\n",
      "('Gmin7', 'Dj7')\n",
      "('Gmin7', 'Dj7')\n",
      "('Gmin7', 'Dj7')\n",
      "('C7', 'A-7')\n",
      "('C7', 'A-7')\n",
      "('C7', 'Dsus7')\n",
      "('C7', 'Dsus7')\n",
      "('Fmaj7', 'Gj7')\n",
      "('Fmaj7', 'Gj7')\n",
      "('Dmin7', 'Gj7')\n",
      "('Dmin7', 'Gj7')\n",
      "('Gmin7', 'Go7')\n",
      "('Gmin7', 'Go7')\n",
      "('C7', 'Go7')\n",
      "('C7', 'Go7')\n"
     ]
    }
   ],
   "source": [
    "linear_wdb_cp = flatten_wdb_chord_progression(performer, song_name, '..')\n",
    "linear_cp = flatten_chord_progression(cps[melody.song_name])\n",
    "sm = difflib.SequenceMatcher(None, linear_cp, linear_wdb_cp[:len(linear_cp)])\n",
    "s = sm.ratio()\n",
    "\n",
    "print(s)\n",
    "print('--------')\n",
    "for p in zip(linear_cp, linear_wdb_cp[:len(linear_cp)]):\n",
    "    print(p)"
   ]
  },
  {
   "cell_type": "code",
   "execution_count": 16,
   "id": "7a2d7a5c",
   "metadata": {},
   "outputs": [
    {
     "name": "stdout",
     "output_type": "stream",
     "text": [
      "Good to go?good\n",
      "Finalising\n"
     ]
    }
   ],
   "source": [
    "gtg = input('Good to go?')\n",
    "\n",
    "if gtg == 'good':\n",
    "    print('Finalising')\n",
    "    for i, res in results.items():\n",
    "        folder_midi = f'../data/split_melody/v1.2/{source}/'\n",
    "        folder_csv = f'../data/split_melody_data/v1.2/{source}/'\n",
    "\n",
    "        src_midi = folder_midi + res['out_filename']\n",
    "        dst_midi = src_midi.replace('split_melody/v1.2', 'finalised/midi')\n",
    "\n",
    "\n",
    "        src_csv = folder_csv + res['out_filename'].replace('.mid', '.csv')\n",
    "        dst_csv = src_csv.replace('split_melody_data/v1.2', 'finalised/csv')\n",
    "\n",
    "        if not os.path.exists(os.path.dirname(dst_midi)):\n",
    "            os.makedirs(os.path.dirname(dst_midi))\n",
    "\n",
    "        if not os.path.exists(os.path.dirname(dst_csv)):\n",
    "            os.makedirs(os.path.dirname(dst_csv))\n",
    "\n",
    "        shutil.copyfile(src_midi, dst_midi)\n",
    "        shutil.copyfile(src_csv, dst_csv)"
   ]
  },
  {
   "cell_type": "code",
   "execution_count": null,
   "id": "cdb59d24",
   "metadata": {},
   "outputs": [],
   "source": []
  }
 ],
 "metadata": {
  "kernelspec": {
   "display_name": "Python 3 (ipykernel)",
   "language": "python",
   "name": "python3"
  },
  "language_info": {
   "codemirror_mode": {
    "name": "ipython",
    "version": 3
   },
   "file_extension": ".py",
   "mimetype": "text/x-python",
   "name": "python",
   "nbconvert_exporter": "python",
   "pygments_lexer": "ipython3",
   "version": "3.8.10"
  }
 },
 "nbformat": 4,
 "nbformat_minor": 5
}
